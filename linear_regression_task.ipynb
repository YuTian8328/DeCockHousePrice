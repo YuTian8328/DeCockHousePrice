{
 "cells": [
  {
   "cell_type": "markdown",
   "metadata": {},
   "source": [
    "<span style=\"color:darkblue\"><font size=\"6\"> DeCockHousePrice Dataset: Saleprice Prediction</font></span> \n",
    " "
   ]
  },
  {
   "cell_type": "code",
   "execution_count": 661,
   "metadata": {
    "ExecuteTime": {
     "end_time": "2020-08-15T09:36:41.897765Z",
     "start_time": "2020-08-15T09:36:41.887461Z"
    }
   },
   "outputs": [],
   "source": [
    "import numpy as np\n",
    "import pandas as pd\n",
    "import seaborn as sns; sns.set(color_codes=True)\n",
    "from mpl_toolkits.mplot3d import Axes3D\n",
    "import matplotlib.pyplot as plt\n",
    "%matplotlib inline\n",
    "import warnings; warnings.simplefilter('ignore')"
   ]
  },
  {
   "cell_type": "code",
   "execution_count": 662,
   "metadata": {
    "ExecuteTime": {
     "end_time": "2020-08-15T09:36:42.500397Z",
     "start_time": "2020-08-15T09:36:42.457886Z"
    }
   },
   "outputs": [],
   "source": [
    "df=pd.read_csv('data/train.csv')"
   ]
  },
  {
   "cell_type": "markdown",
   "metadata": {},
   "source": [
    "# Data Cleaning "
   ]
  },
  {
   "cell_type": "code",
   "execution_count": 663,
   "metadata": {
    "ExecuteTime": {
     "end_time": "2020-08-15T09:36:43.150561Z",
     "start_time": "2020-08-15T09:36:43.070026Z"
    }
   },
   "outputs": [],
   "source": [
    "#filling missing data according to data types and concrete meaning\n",
    "cg_cols = ['Alley', 'PoolQC', 'MiscFeature', 'Fence', 'FireplaceQu', 'GarageType',\n",
    "    'GarageFinish', 'GarageQual', 'GarageCond', 'BsmtQual', 'BsmtCond',\n",
    "    'BsmtExposure', 'BsmtFinType1', 'BsmtFinType2', 'MasVnrType']\n",
    "dc_cols = ['BsmtFinSF1', 'BsmtFinSF2', 'BsmtUnfSF', 'TotalBsmtSF', 'BsmtFullBath',\n",
    "    'BsmtHalfBath', 'GarageYrBlt', 'GarageArea', 'GarageCars', 'MasVnrArea']\n",
    "ot_cols = ['Electrical', 'Exterior1st', 'Exterior2nd', 'Functional', 'KitchenQual',\n",
    "    'SaleType', 'Utilities']\n",
    "for col in dc_cols:\n",
    "    df[col].replace(np.nan, 0, inplace=True)\n",
    "\n",
    "for col in cg_cols:\n",
    "    df[col].replace(np.nan, 'None', inplace=True)\n",
    "\n",
    "for col in ot_cols:\n",
    "    df[col].replace(np.nan, df[col].mode()[0], inplace=True)\n",
    "    \n",
    "# Filling MSZoning according to MSSubClass\n",
    "df['MSZoning'] = df.groupby('MSSubClass')['MSZoning'].apply(\n",
    "    lambda x: x.fillna(x.mode()[0]))\n",
    "\n",
    "# Filling LotFrontage according to Neighborhood\n",
    "\n",
    "df['LotFrontage']=df.groupby(['Neighborhood'])['LotFrontage'].apply(lambda x: x.fillna(x.median()))"
   ]
  },
  {
   "cell_type": "code",
   "execution_count": null,
   "metadata": {},
   "outputs": [],
   "source": [
    "##These outliers could be deleted to get better outcome, but keeping them there is also ok, as\n",
    "#training a robust model is feasible\n",
    "# train = train.drop(train[(train['OverallQual'] < 5)\n",
    "#                                   & (train['SalePrice'] > 200000)].index)\n",
    "# train = train.drop(train[(train['GrLivArea'] > 4000)\n",
    "#                                   & (train['SalePrice'] < 200000)].index)\n",
    "# train = train.drop(train[(train['GarageArea'] > 1200)\n",
    "#                                   & (train['SalePrice'] < 200000)].index)\n",
    "# train = train.drop(train[(train['TotalBsmtSF'] > 3000)\n",
    "#                                   & (train['SalePrice'] > 320000)].index)\n",
    "# train = train.drop(train[(train['1stFlrSF'] < 3000)\n",
    "#                                   & (train['SalePrice'] > 600000)].index)\n",
    "# train = train.drop(train[(train['1stFlrSF'] > 3000)\n",
    "#                                   & (train['SalePrice'] < 200000)].index)"
   ]
  },
  {
   "cell_type": "code",
   "execution_count": 664,
   "metadata": {
    "ExecuteTime": {
     "end_time": "2020-08-15T09:36:43.529374Z",
     "start_time": "2020-08-15T09:36:43.520731Z"
    }
   },
   "outputs": [],
   "source": [
    "# Feature which is numerical but should be treated as category.\n",
    "df['MSSubClass'] = df['MSSubClass'].astype(str)"
   ]
  },
  {
   "cell_type": "code",
   "execution_count": 665,
   "metadata": {
    "ExecuteTime": {
     "end_time": "2020-08-15T09:36:43.960027Z",
     "start_time": "2020-08-15T09:36:43.947121Z"
    }
   },
   "outputs": [],
   "source": [
    "# cyclical feature transformation\n",
    "from math import pi\n",
    "df['MoSold']=2*pi*df['MoSold']/df['MoSold'].max()\n",
    "df[\"cos_MoSold\"] = np.cos(df[\"MoSold\"])\n",
    "df[\"sin_MoSold\"] = np.sin(df[\"MoSold\"])"
   ]
  },
  {
   "cell_type": "code",
   "execution_count": 666,
   "metadata": {
    "ExecuteTime": {
     "end_time": "2020-08-15T09:36:44.260712Z",
     "start_time": "2020-08-15T09:36:44.251562Z"
    }
   },
   "outputs": [],
   "source": [
    "df.drop('MoSold',axis=1,inplace=True)\n",
    "\n",
    "df.drop('Id',axis=1,inplace=True)\n",
    "\n",
    "#binning with rare values\n",
    "col_rare = ['Condition1', 'Condition2', 'RoofMatl', 'Exterior1st', 'Exterior2nd',\n",
    "    'Heating', 'Electrical', 'Functional', 'SaleType']\n",
    "for col in col_rare:\n",
    "    mask = df[col].isin(\n",
    "        df[col].value_counts()[df[col].value_counts() < 10].index)\n",
    "    df[col][mask] = 'Other'"
   ]
  },
  {
   "cell_type": "code",
   "execution_count": 669,
   "metadata": {
    "ExecuteTime": {
     "end_time": "2020-08-15T09:36:45.140365Z",
     "start_time": "2020-08-15T09:36:45.091705Z"
    }
   },
   "outputs": [],
   "source": [
    "# encoding ordinal categorical variables\n",
    "neigh_map={'MeadowV': 1,'IDOTRR': 1,\n",
    "    'BrDale': 1, 'BrkSide': 2,\n",
    "    'OldTown': 2, 'Edwards': 2,\n",
    "    'Sawyer': 3,    'Blueste': 3,\n",
    "    'SWISU': 3,    'NPkVill': 3,\n",
    "    'NAmes': 3,    'Mitchel': 4,\n",
    "    'SawyerW': 5,    'NWAmes': 5,\n",
    "    'Gilbert': 5,    'Blmngtn': 5,\n",
    "    'CollgCr': 5,    'ClearCr': 6,\n",
    "    'Crawfor': 6,    'Veenker': 7,\n",
    "    'Somerst': 7,    'Timber': 8,\n",
    "    'StoneBr': 9,    'NridgHt': 10,\n",
    "    'NoRidge': 10}\n",
    "    \n",
    "df['Neighborhood'] = df['Neighborhood'].map(neigh_map).astype('int')\n",
    "\n",
    "ext_map = {'Po': 1, 'Fa': 2, 'TA': 3, 'Gd': 4, 'Ex': 5}\n",
    "df['ExterCond'] = df['ExterCond'].map(ext_map).astype('int')\n",
    "df['ExterQual'] = df['ExterQual'].map(ext_map).astype('int')\n",
    "\n",
    "bsm_map = {'None': 0, 'Po': 1, 'Fa': 2, 'TA': 3, 'Gd': 4, 'Ex': 5}\n",
    "df['BsmtQual'] = df['BsmtQual'].map(bsm_map).astype('int')\n",
    "df['BsmtCond'] = df['BsmtCond'].map(bsm_map).astype('int')\n",
    "bsmf_map = {'None': 0, 'Unf': 1,'LwQ': 2,'Rec': 3, 'BLQ': 4, 'ALQ': 5,'GLQ': 6}\n",
    "\n",
    "df['BsmtFinType1'] = df['BsmtFinType1'].map(bsmf_map).astype('int')\n",
    "df['BsmtFinType2'] = df['BsmtFinType2'].map(bsmf_map).astype('int')\n",
    "heat_map = {'Po': 1, 'Fa': 2, 'TA': 3, 'Gd': 4, 'Ex': 5}\n",
    "df['HeatingQC'] = df['HeatingQC'].map(heat_map).astype('int')\n",
    "df['KitchenQual'] = df['KitchenQual'].map(heat_map).astype('int')\n",
    "df['FireplaceQu'] = df['FireplaceQu'].map(bsm_map).astype('int')\n",
    "df['GarageCond'] = df['GarageCond'].map(bsm_map).astype('int')\n",
    "df['GarageQual'] = df['GarageQual'].map(bsm_map).astype('int')"
   ]
  },
  {
   "cell_type": "code",
   "execution_count": 670,
   "metadata": {
    "ExecuteTime": {
     "end_time": "2020-08-15T09:36:45.298106Z",
     "start_time": "2020-08-15T09:36:45.290946Z"
    }
   },
   "outputs": [],
   "source": [
    "df[\"logSalePrice\"]=np.log(df[\"SalePrice\"])\n",
    "\n",
    "df.drop('SalePrice',axis=1,inplace=True)\n",
    "\n",
    "# Getting dummy variables for nominal categorical features\n",
    "df = pd.get_dummies(data=df)"
   ]
  },
  {
   "cell_type": "code",
   "execution_count": 673,
   "metadata": {
    "ExecuteTime": {
     "end_time": "2020-08-15T09:36:46.523826Z",
     "start_time": "2020-08-15T09:36:46.511471Z"
    }
   },
   "outputs": [
    {
     "name": "stdout",
     "output_type": "stream",
     "text": [
      "<class 'pandas.core.frame.DataFrame'>\n",
      "RangeIndex: 1460 entries, 0 to 1459\n",
      "Columns: 214 entries, LotFrontage to SaleCondition_Partial\n",
      "dtypes: float64(6), int64(43), uint8(165)\n",
      "memory usage: 794.3 KB\n"
     ]
    }
   ],
   "source": [
    "df.info()"
   ]
  },
  {
   "cell_type": "code",
   "execution_count": 674,
   "metadata": {
    "ExecuteTime": {
     "end_time": "2020-08-15T09:36:47.104027Z",
     "start_time": "2020-08-15T09:36:47.079399Z"
    },
    "scrolled": true
   },
   "outputs": [
    {
     "data": {
      "text/html": [
       "<div>\n",
       "<style scoped>\n",
       "    .dataframe tbody tr th:only-of-type {\n",
       "        vertical-align: middle;\n",
       "    }\n",
       "\n",
       "    .dataframe tbody tr th {\n",
       "        vertical-align: top;\n",
       "    }\n",
       "\n",
       "    .dataframe thead th {\n",
       "        text-align: right;\n",
       "    }\n",
       "</style>\n",
       "<table border=\"1\" class=\"dataframe\">\n",
       "  <thead>\n",
       "    <tr style=\"text-align: right;\">\n",
       "      <th></th>\n",
       "      <th>LotFrontage</th>\n",
       "      <th>LotArea</th>\n",
       "      <th>Neighborhood</th>\n",
       "      <th>OverallQual</th>\n",
       "      <th>OverallCond</th>\n",
       "      <th>YearBuilt</th>\n",
       "      <th>YearRemodAdd</th>\n",
       "      <th>MasVnrArea</th>\n",
       "      <th>ExterQual</th>\n",
       "      <th>ExterCond</th>\n",
       "      <th>...</th>\n",
       "      <th>SaleType_COD</th>\n",
       "      <th>SaleType_New</th>\n",
       "      <th>SaleType_Other</th>\n",
       "      <th>SaleType_WD</th>\n",
       "      <th>SaleCondition_Abnorml</th>\n",
       "      <th>SaleCondition_AdjLand</th>\n",
       "      <th>SaleCondition_Alloca</th>\n",
       "      <th>SaleCondition_Family</th>\n",
       "      <th>SaleCondition_Normal</th>\n",
       "      <th>SaleCondition_Partial</th>\n",
       "    </tr>\n",
       "  </thead>\n",
       "  <tbody>\n",
       "    <tr>\n",
       "      <th>0</th>\n",
       "      <td>65.0</td>\n",
       "      <td>8450</td>\n",
       "      <td>5</td>\n",
       "      <td>7</td>\n",
       "      <td>5</td>\n",
       "      <td>2003</td>\n",
       "      <td>2003</td>\n",
       "      <td>196.0</td>\n",
       "      <td>4</td>\n",
       "      <td>3</td>\n",
       "      <td>...</td>\n",
       "      <td>0</td>\n",
       "      <td>0</td>\n",
       "      <td>0</td>\n",
       "      <td>1</td>\n",
       "      <td>0</td>\n",
       "      <td>0</td>\n",
       "      <td>0</td>\n",
       "      <td>0</td>\n",
       "      <td>1</td>\n",
       "      <td>0</td>\n",
       "    </tr>\n",
       "    <tr>\n",
       "      <th>1</th>\n",
       "      <td>80.0</td>\n",
       "      <td>9600</td>\n",
       "      <td>7</td>\n",
       "      <td>6</td>\n",
       "      <td>8</td>\n",
       "      <td>1976</td>\n",
       "      <td>1976</td>\n",
       "      <td>0.0</td>\n",
       "      <td>3</td>\n",
       "      <td>3</td>\n",
       "      <td>...</td>\n",
       "      <td>0</td>\n",
       "      <td>0</td>\n",
       "      <td>0</td>\n",
       "      <td>1</td>\n",
       "      <td>0</td>\n",
       "      <td>0</td>\n",
       "      <td>0</td>\n",
       "      <td>0</td>\n",
       "      <td>1</td>\n",
       "      <td>0</td>\n",
       "    </tr>\n",
       "    <tr>\n",
       "      <th>2</th>\n",
       "      <td>68.0</td>\n",
       "      <td>11250</td>\n",
       "      <td>5</td>\n",
       "      <td>7</td>\n",
       "      <td>5</td>\n",
       "      <td>2001</td>\n",
       "      <td>2002</td>\n",
       "      <td>162.0</td>\n",
       "      <td>4</td>\n",
       "      <td>3</td>\n",
       "      <td>...</td>\n",
       "      <td>0</td>\n",
       "      <td>0</td>\n",
       "      <td>0</td>\n",
       "      <td>1</td>\n",
       "      <td>0</td>\n",
       "      <td>0</td>\n",
       "      <td>0</td>\n",
       "      <td>0</td>\n",
       "      <td>1</td>\n",
       "      <td>0</td>\n",
       "    </tr>\n",
       "    <tr>\n",
       "      <th>3</th>\n",
       "      <td>60.0</td>\n",
       "      <td>9550</td>\n",
       "      <td>6</td>\n",
       "      <td>7</td>\n",
       "      <td>5</td>\n",
       "      <td>1915</td>\n",
       "      <td>1970</td>\n",
       "      <td>0.0</td>\n",
       "      <td>3</td>\n",
       "      <td>3</td>\n",
       "      <td>...</td>\n",
       "      <td>0</td>\n",
       "      <td>0</td>\n",
       "      <td>0</td>\n",
       "      <td>1</td>\n",
       "      <td>1</td>\n",
       "      <td>0</td>\n",
       "      <td>0</td>\n",
       "      <td>0</td>\n",
       "      <td>0</td>\n",
       "      <td>0</td>\n",
       "    </tr>\n",
       "    <tr>\n",
       "      <th>4</th>\n",
       "      <td>84.0</td>\n",
       "      <td>14260</td>\n",
       "      <td>10</td>\n",
       "      <td>8</td>\n",
       "      <td>5</td>\n",
       "      <td>2000</td>\n",
       "      <td>2000</td>\n",
       "      <td>350.0</td>\n",
       "      <td>4</td>\n",
       "      <td>3</td>\n",
       "      <td>...</td>\n",
       "      <td>0</td>\n",
       "      <td>0</td>\n",
       "      <td>0</td>\n",
       "      <td>1</td>\n",
       "      <td>0</td>\n",
       "      <td>0</td>\n",
       "      <td>0</td>\n",
       "      <td>0</td>\n",
       "      <td>1</td>\n",
       "      <td>0</td>\n",
       "    </tr>\n",
       "  </tbody>\n",
       "</table>\n",
       "<p>5 rows × 214 columns</p>\n",
       "</div>"
      ],
      "text/plain": [
       "   LotFrontage  LotArea  Neighborhood  OverallQual  OverallCond  YearBuilt  \\\n",
       "0         65.0     8450             5            7            5       2003   \n",
       "1         80.0     9600             7            6            8       1976   \n",
       "2         68.0    11250             5            7            5       2001   \n",
       "3         60.0     9550             6            7            5       1915   \n",
       "4         84.0    14260            10            8            5       2000   \n",
       "\n",
       "   YearRemodAdd  MasVnrArea  ExterQual  ExterCond  ...  SaleType_COD  \\\n",
       "0          2003       196.0          4          3  ...             0   \n",
       "1          1976         0.0          3          3  ...             0   \n",
       "2          2002       162.0          4          3  ...             0   \n",
       "3          1970         0.0          3          3  ...             0   \n",
       "4          2000       350.0          4          3  ...             0   \n",
       "\n",
       "   SaleType_New  SaleType_Other  SaleType_WD  SaleCondition_Abnorml  \\\n",
       "0             0               0            1                      0   \n",
       "1             0               0            1                      0   \n",
       "2             0               0            1                      0   \n",
       "3             0               0            1                      1   \n",
       "4             0               0            1                      0   \n",
       "\n",
       "   SaleCondition_AdjLand  SaleCondition_Alloca  SaleCondition_Family  \\\n",
       "0                      0                     0                     0   \n",
       "1                      0                     0                     0   \n",
       "2                      0                     0                     0   \n",
       "3                      0                     0                     0   \n",
       "4                      0                     0                     0   \n",
       "\n",
       "   SaleCondition_Normal  SaleCondition_Partial  \n",
       "0                     1                      0  \n",
       "1                     1                      0  \n",
       "2                     1                      0  \n",
       "3                     0                      0  \n",
       "4                     1                      0  \n",
       "\n",
       "[5 rows x 214 columns]"
      ]
     },
     "execution_count": 674,
     "metadata": {},
     "output_type": "execute_result"
    }
   ],
   "source": [
    "df.head()"
   ]
  },
  {
   "cell_type": "markdown",
   "metadata": {},
   "source": [
    "# Feature Selection\n",
    "    - Based on correlation\n",
    "    \n",
    "    - Based on P-value"
   ]
  },
  {
   "cell_type": "code",
   "execution_count": 764,
   "metadata": {
    "ExecuteTime": {
     "end_time": "2020-08-16T06:39:39.801992Z",
     "start_time": "2020-08-16T06:39:39.662912Z"
    }
   },
   "outputs": [
    {
     "data": {
      "text/html": [
       "<div>\n",
       "<style scoped>\n",
       "    .dataframe tbody tr th:only-of-type {\n",
       "        vertical-align: middle;\n",
       "    }\n",
       "\n",
       "    .dataframe tbody tr th {\n",
       "        vertical-align: top;\n",
       "    }\n",
       "\n",
       "    .dataframe thead th {\n",
       "        text-align: right;\n",
       "    }\n",
       "</style>\n",
       "<table border=\"1\" class=\"dataframe\">\n",
       "  <thead>\n",
       "    <tr style=\"text-align: right;\">\n",
       "      <th></th>\n",
       "      <th>LotFrontage</th>\n",
       "      <th>LotArea</th>\n",
       "      <th>Neighborhood</th>\n",
       "      <th>OverallQual</th>\n",
       "      <th>OverallCond</th>\n",
       "      <th>YearBuilt</th>\n",
       "      <th>YearRemodAdd</th>\n",
       "      <th>MasVnrArea</th>\n",
       "      <th>ExterQual</th>\n",
       "      <th>ExterCond</th>\n",
       "      <th>...</th>\n",
       "      <th>MiscFeature_TenC</th>\n",
       "      <th>SaleType_COD</th>\n",
       "      <th>SaleType_New</th>\n",
       "      <th>SaleType_Other</th>\n",
       "      <th>SaleType_WD</th>\n",
       "      <th>SaleCondition_Abnorml</th>\n",
       "      <th>SaleCondition_AdjLand</th>\n",
       "      <th>SaleCondition_Alloca</th>\n",
       "      <th>SaleCondition_Family</th>\n",
       "      <th>SaleCondition_Normal</th>\n",
       "    </tr>\n",
       "  </thead>\n",
       "  <tbody>\n",
       "    <tr>\n",
       "      <th>LotFrontage</th>\n",
       "      <td>1.000000</td>\n",
       "      <td>0.335957</td>\n",
       "      <td>0.250274</td>\n",
       "      <td>0.239546</td>\n",
       "      <td>-0.043595</td>\n",
       "      <td>0.120999</td>\n",
       "      <td>0.084550</td>\n",
       "      <td>0.195830</td>\n",
       "      <td>0.166857</td>\n",
       "      <td>-0.006124</td>\n",
       "      <td>...</td>\n",
       "      <td>0.011442</td>\n",
       "      <td>-0.004261</td>\n",
       "      <td>0.122643</td>\n",
       "      <td>-0.017725</td>\n",
       "      <td>-0.090900</td>\n",
       "      <td>-0.014946</td>\n",
       "      <td>-0.036696</td>\n",
       "      <td>-0.018572</td>\n",
       "      <td>0.013666</td>\n",
       "      <td>-0.073047</td>\n",
       "    </tr>\n",
       "    <tr>\n",
       "      <th>LotArea</th>\n",
       "      <td>0.335957</td>\n",
       "      <td>1.000000</td>\n",
       "      <td>0.168539</td>\n",
       "      <td>0.105806</td>\n",
       "      <td>-0.005636</td>\n",
       "      <td>0.014228</td>\n",
       "      <td>0.013788</td>\n",
       "      <td>0.103321</td>\n",
       "      <td>0.055570</td>\n",
       "      <td>0.014732</td>\n",
       "      <td>...</td>\n",
       "      <td>0.016203</td>\n",
       "      <td>-0.016019</td>\n",
       "      <td>0.020039</td>\n",
       "      <td>-0.015026</td>\n",
       "      <td>-0.002292</td>\n",
       "      <td>-0.029126</td>\n",
       "      <td>-0.013208</td>\n",
       "      <td>0.008966</td>\n",
       "      <td>-0.010781</td>\n",
       "      <td>0.005711</td>\n",
       "    </tr>\n",
       "    <tr>\n",
       "      <th>Neighborhood</th>\n",
       "      <td>0.250274</td>\n",
       "      <td>0.168539</td>\n",
       "      <td>1.000000</td>\n",
       "      <td>0.684318</td>\n",
       "      <td>-0.219006</td>\n",
       "      <td>0.647928</td>\n",
       "      <td>0.506673</td>\n",
       "      <td>0.402346</td>\n",
       "      <td>0.652067</td>\n",
       "      <td>-0.062696</td>\n",
       "      <td>...</td>\n",
       "      <td>0.005388</td>\n",
       "      <td>-0.068483</td>\n",
       "      <td>0.327229</td>\n",
       "      <td>-0.032468</td>\n",
       "      <td>-0.220026</td>\n",
       "      <td>-0.090647</td>\n",
       "      <td>-0.053492</td>\n",
       "      <td>-0.024682</td>\n",
       "      <td>-0.045602</td>\n",
       "      <td>-0.150234</td>\n",
       "    </tr>\n",
       "    <tr>\n",
       "      <th>OverallQual</th>\n",
       "      <td>0.239546</td>\n",
       "      <td>0.105806</td>\n",
       "      <td>0.684318</td>\n",
       "      <td>1.000000</td>\n",
       "      <td>-0.091932</td>\n",
       "      <td>0.572323</td>\n",
       "      <td>0.550684</td>\n",
       "      <td>0.407252</td>\n",
       "      <td>0.726278</td>\n",
       "      <td>0.013953</td>\n",
       "      <td>...</td>\n",
       "      <td>0.017056</td>\n",
       "      <td>-0.065259</td>\n",
       "      <td>0.327412</td>\n",
       "      <td>-0.024494</td>\n",
       "      <td>-0.225013</td>\n",
       "      <td>-0.103535</td>\n",
       "      <td>-0.041677</td>\n",
       "      <td>-0.044950</td>\n",
       "      <td>-0.025515</td>\n",
       "      <td>-0.143282</td>\n",
       "    </tr>\n",
       "    <tr>\n",
       "      <th>OverallCond</th>\n",
       "      <td>-0.043595</td>\n",
       "      <td>-0.005636</td>\n",
       "      <td>-0.219006</td>\n",
       "      <td>-0.091932</td>\n",
       "      <td>1.000000</td>\n",
       "      <td>-0.375983</td>\n",
       "      <td>0.073741</td>\n",
       "      <td>-0.125694</td>\n",
       "      <td>-0.138942</td>\n",
       "      <td>0.389163</td>\n",
       "      <td>...</td>\n",
       "      <td>-0.013540</td>\n",
       "      <td>-0.028186</td>\n",
       "      <td>-0.156175</td>\n",
       "      <td>-0.054364</td>\n",
       "      <td>0.163684</td>\n",
       "      <td>-0.046367</td>\n",
       "      <td>-0.038888</td>\n",
       "      <td>-0.033444</td>\n",
       "      <td>-0.023873</td>\n",
       "      <td>0.161642</td>\n",
       "    </tr>\n",
       "  </tbody>\n",
       "</table>\n",
       "<p>5 rows × 202 columns</p>\n",
       "</div>"
      ],
      "text/plain": [
       "              LotFrontage   LotArea  Neighborhood  OverallQual  OverallCond  \\\n",
       "LotFrontage      1.000000  0.335957      0.250274     0.239546    -0.043595   \n",
       "LotArea          0.335957  1.000000      0.168539     0.105806    -0.005636   \n",
       "Neighborhood     0.250274  0.168539      1.000000     0.684318    -0.219006   \n",
       "OverallQual      0.239546  0.105806      0.684318     1.000000    -0.091932   \n",
       "OverallCond     -0.043595 -0.005636     -0.219006    -0.091932     1.000000   \n",
       "\n",
       "              YearBuilt  YearRemodAdd  MasVnrArea  ExterQual  ExterCond  ...  \\\n",
       "LotFrontage    0.120999      0.084550    0.195830   0.166857  -0.006124  ...   \n",
       "LotArea        0.014228      0.013788    0.103321   0.055570   0.014732  ...   \n",
       "Neighborhood   0.647928      0.506673    0.402346   0.652067  -0.062696  ...   \n",
       "OverallQual    0.572323      0.550684    0.407252   0.726278   0.013953  ...   \n",
       "OverallCond   -0.375983      0.073741   -0.125694  -0.138942   0.389163  ...   \n",
       "\n",
       "              MiscFeature_TenC  SaleType_COD  SaleType_New  SaleType_Other  \\\n",
       "LotFrontage           0.011442     -0.004261      0.122643       -0.017725   \n",
       "LotArea               0.016203     -0.016019      0.020039       -0.015026   \n",
       "Neighborhood          0.005388     -0.068483      0.327229       -0.032468   \n",
       "OverallQual           0.017056     -0.065259      0.327412       -0.024494   \n",
       "OverallCond          -0.013540     -0.028186     -0.156175       -0.054364   \n",
       "\n",
       "              SaleType_WD  SaleCondition_Abnorml  SaleCondition_AdjLand  \\\n",
       "LotFrontage     -0.090900              -0.014946              -0.036696   \n",
       "LotArea         -0.002292              -0.029126              -0.013208   \n",
       "Neighborhood    -0.220026              -0.090647              -0.053492   \n",
       "OverallQual     -0.225013              -0.103535              -0.041677   \n",
       "OverallCond      0.163684              -0.046367              -0.038888   \n",
       "\n",
       "              SaleCondition_Alloca  SaleCondition_Family  SaleCondition_Normal  \n",
       "LotFrontage              -0.018572              0.013666             -0.073047  \n",
       "LotArea                   0.008966             -0.010781              0.005711  \n",
       "Neighborhood             -0.024682             -0.045602             -0.150234  \n",
       "OverallQual              -0.044950             -0.025515             -0.143282  \n",
       "OverallCond              -0.033444             -0.023873              0.161642  \n",
       "\n",
       "[5 rows x 202 columns]"
      ]
     },
     "execution_count": 764,
     "metadata": {},
     "output_type": "execute_result"
    }
   ],
   "source": [
    "corr = df.corr()\n",
    "corr.head()"
   ]
  },
  {
   "cell_type": "code",
   "execution_count": 765,
   "metadata": {
    "ExecuteTime": {
     "end_time": "2020-08-16T06:39:40.644624Z",
     "start_time": "2020-08-16T06:39:40.419132Z"
    }
   },
   "outputs": [],
   "source": [
    "#Remove one of two features that have a correlation higher than 0.9\n",
    "columns = np.full((corr.shape[0],), True, dtype=bool)\n",
    "for i in range(corr.shape[0]):\n",
    "    for j in range(i+1, corr.shape[0]):\n",
    "        if corr.iloc[i,j] >= 0.9:\n",
    "            if columns[j]:\n",
    "                columns[j] = False\n",
    "selected_columns = df.columns[columns]"
   ]
  },
  {
   "cell_type": "code",
   "execution_count": 766,
   "metadata": {
    "ExecuteTime": {
     "end_time": "2020-08-16T06:39:41.089384Z",
     "start_time": "2020-08-16T06:39:41.073371Z"
    }
   },
   "outputs": [
    {
     "data": {
      "text/plain": [
       "numpy.ndarray"
      ]
     },
     "execution_count": 766,
     "metadata": {},
     "output_type": "execute_result"
    }
   ],
   "source": [
    "df = df[selected_columns]\n",
    "\n",
    "selected_columns\n",
    "\n",
    "selected_columns=selected_columns.tolist()\n",
    "# .remove('logSalePrice')\n",
    "\n",
    "selected_columns.remove('logSalePrice')\n",
    "\n",
    "selected_columns=np.array(selected_columns)\n"
   ]
  },
  {
   "cell_type": "code",
   "execution_count": 767,
   "metadata": {
    "ExecuteTime": {
     "end_time": "2020-08-16T06:39:41.646915Z",
     "start_time": "2020-08-16T06:39:41.637919Z"
    }
   },
   "outputs": [],
   "source": [
    "import statsmodels.regression.linear_model as sm"
   ]
  },
  {
   "cell_type": "code",
   "execution_count": 768,
   "metadata": {
    "ExecuteTime": {
     "end_time": "2020-08-16T06:39:42.269836Z",
     "start_time": "2020-08-16T06:39:42.258100Z"
    }
   },
   "outputs": [],
   "source": [
    "X=df.drop('logSalePrice',axis=1).values\n",
    "y=df.loc[:,'logSalePrice'].values"
   ]
  },
  {
   "cell_type": "code",
   "execution_count": 769,
   "metadata": {
    "ExecuteTime": {
     "end_time": "2020-08-16T06:39:47.334052Z",
     "start_time": "2020-08-16T06:39:42.875764Z"
    }
   },
   "outputs": [],
   "source": [
    "numVars = df.shape[1]-1\n",
    "for i in range(0, numVars):\n",
    "    regressor_OLS = sm.OLS(y, X).fit()\n",
    "    maxVar = max(regressor_OLS.pvalues).astype(float)\n",
    "    if maxVar > 0.05:\n",
    "        for j in range(0, numVars - i):\n",
    "            if (regressor_OLS.pvalues[j].astype(float) == maxVar):\n",
    "                X = np.delete(X, j, 1)\n",
    "                selected_columns = np.delete(selected_columns, j)"
   ]
  },
  {
   "cell_type": "code",
   "execution_count": 848,
   "metadata": {
    "ExecuteTime": {
     "end_time": "2020-08-17T04:17:46.334269Z",
     "start_time": "2020-08-17T04:17:46.296397Z"
    }
   },
   "outputs": [
    {
     "data": {
      "text/plain": [
       "89"
      ]
     },
     "execution_count": 848,
     "metadata": {},
     "output_type": "execute_result"
    }
   ],
   "source": [
    "selected_columns.size\n",
    "# selected_columns"
   ]
  },
  {
   "cell_type": "markdown",
   "metadata": {},
   "source": [
    "# Data Scaling"
   ]
  },
  {
   "cell_type": "code",
   "execution_count": 850,
   "metadata": {
    "ExecuteTime": {
     "end_time": "2020-08-17T04:18:22.780424Z",
     "start_time": "2020-08-17T04:18:22.751107Z"
    }
   },
   "outputs": [],
   "source": [
    "from sklearn.preprocessing import MinMaxScaler\n",
    "minmax = MinMaxScaler()\n",
    "X = minmax.fit_transform(X)"
   ]
  },
  {
   "cell_type": "markdown",
   "metadata": {},
   "source": [
    "# Linear model training and evaluation"
   ]
  },
  {
   "cell_type": "code",
   "execution_count": 854,
   "metadata": {
    "ExecuteTime": {
     "end_time": "2020-08-17T04:19:03.869790Z",
     "start_time": "2020-08-17T04:19:03.850680Z"
    }
   },
   "outputs": [
    {
     "data": {
      "text/plain": [
       "LinearRegression(copy_X=True, fit_intercept=True, n_jobs=None, normalize=False)"
      ]
     },
     "execution_count": 854,
     "metadata": {},
     "output_type": "execute_result"
    }
   ],
   "source": [
    "# As sample size is small(1460) and feature dimention is high(89), simple train_test_split\n",
    "# is not a proper strategy, K_fold will be a much better choice!\n",
    "from sklearn.model_selection import train_test_split\n",
    "X_train, X_test, y_train, y_test = train_test_split(X, y, test_size = 0.33,random_state=0)\n",
    "from sklearn.linear_model import LinearRegression\n",
    "regressor = LinearRegression()\n",
    "regressor.fit(X_train, y_train)"
   ]
  },
  {
   "cell_type": "code",
   "execution_count": 855,
   "metadata": {
    "ExecuteTime": {
     "end_time": "2020-08-17T04:19:04.449373Z",
     "start_time": "2020-08-17T04:19:04.439230Z"
    }
   },
   "outputs": [
    {
     "data": {
      "text/plain": [
       "0.9256519430279607"
      ]
     },
     "execution_count": 855,
     "metadata": {},
     "output_type": "execute_result"
    }
   ],
   "source": [
    "regressor.score(X_train,y_train)"
   ]
  },
  {
   "cell_type": "code",
   "execution_count": 856,
   "metadata": {
    "ExecuteTime": {
     "end_time": "2020-08-17T04:19:05.036122Z",
     "start_time": "2020-08-17T04:19:05.018147Z"
    }
   },
   "outputs": [
    {
     "data": {
      "text/plain": [
       "0.8636774818915354"
      ]
     },
     "execution_count": 856,
     "metadata": {},
     "output_type": "execute_result"
    }
   ],
   "source": [
    "regressor.score(X_test,y_test)"
   ]
  },
  {
   "cell_type": "code",
   "execution_count": 858,
   "metadata": {
    "ExecuteTime": {
     "end_time": "2020-08-17T04:19:12.404764Z",
     "start_time": "2020-08-17T04:19:12.348607Z"
    }
   },
   "outputs": [
    {
     "name": "stdout",
     "output_type": "stream",
     "text": [
      "[ 9.12306539e-01  8.88807766e-01 -3.19009011e+16 -5.74966349e+18\n",
      " -7.04788145e+19]\n"
     ]
    }
   ],
   "source": [
    "# K_fold outcomes are more reliable, Obvious variance problem is shown here!\n",
    "from sklearn.model_selection import cross_val_score\n",
    "from sklearn.linear_model import LinearRegression\n",
    "regressor_model = LinearRegression()\n",
    "regressor_model.fit(X, y,)\n",
    "print(cross_val_score(regressor_model,X, y,cv=5))"
   ]
  },
  {
   "cell_type": "code",
   "execution_count": 778,
   "metadata": {
    "ExecuteTime": {
     "end_time": "2020-08-16T06:39:57.693842Z",
     "start_time": "2020-08-16T06:39:57.677634Z"
    }
   },
   "outputs": [
    {
     "data": {
      "text/plain": [
       "Lasso(alpha=0.004, copy_X=True, fit_intercept=True, max_iter=1000,\n",
       "      normalize=False, positive=False, precompute=False, random_state=None,\n",
       "      selection='cyclic', tol=0.0001, warm_start=False)"
      ]
     },
     "execution_count": 778,
     "metadata": {},
     "output_type": "execute_result"
    }
   ],
   "source": [
    "# As previous model give us obvious variance problem, regularization is necessary  \n",
    "from sklearn.linear_model import Lasso\n",
    "regressor = Lasso(alpha=0.004,max_iter=1000)\n",
    "regressor.fit(X_train, y_train)"
   ]
  },
  {
   "cell_type": "code",
   "execution_count": 779,
   "metadata": {
    "ExecuteTime": {
     "end_time": "2020-08-16T06:39:58.636770Z",
     "start_time": "2020-08-16T06:39:58.623272Z"
    }
   },
   "outputs": [
    {
     "data": {
      "text/plain": [
       "0.870800990768916"
      ]
     },
     "execution_count": 779,
     "metadata": {},
     "output_type": "execute_result"
    }
   ],
   "source": [
    "regressor.score(X_train,y_train)"
   ]
  },
  {
   "cell_type": "code",
   "execution_count": 780,
   "metadata": {
    "ExecuteTime": {
     "end_time": "2020-08-16T06:39:59.660095Z",
     "start_time": "2020-08-16T06:39:59.648549Z"
    }
   },
   "outputs": [
    {
     "data": {
      "text/plain": [
       "0.8740070196238973"
      ]
     },
     "execution_count": 780,
     "metadata": {},
     "output_type": "execute_result"
    }
   ],
   "source": [
    "regressor.score(X_test,y_test)"
   ]
  },
  {
   "cell_type": "code",
   "execution_count": 863,
   "metadata": {
    "ExecuteTime": {
     "end_time": "2020-08-17T04:20:53.140666Z",
     "start_time": "2020-08-17T04:20:53.087372Z"
    }
   },
   "outputs": [
    {
     "name": "stdout",
     "output_type": "stream",
     "text": [
      "[0.87281157 0.85190472 0.85515311 0.85363219 0.83421146]\n"
     ]
    }
   ],
   "source": [
    "from sklearn.model_selection import cross_val_score\n",
    "from sklearn.linear_model import Lasso\n",
    "regressor_model = Lasso(alpha=0.004,max_iter=1000)\n",
    "regressor_model.fit(X, y,)\n",
    "print(cross_val_score(regressor_model,X, y,cv=5))"
   ]
  },
  {
   "cell_type": "code",
   "execution_count": 701,
   "metadata": {
    "ExecuteTime": {
     "end_time": "2020-08-15T09:37:35.283100Z",
     "start_time": "2020-08-15T09:37:33.060678Z"
    },
    "scrolled": true
   },
   "outputs": [
    {
     "data": {
      "image/png": "[encoded data removed]",
      "text/plain": [
       "<Figure size 432x288 with 1 Axes>"
      ]
     },
     "metadata": {
      "needs_background": "light"
     },
     "output_type": "display_data"
    }
   ],
   "source": [
    "# Searching for a best alpha value\n",
    "n_alphas = 100\n",
    "alphas = np.logspace(-5, -1, n_alphas)\n",
    "train_scores = []\n",
    "test_scores=[]\n",
    "for a in alphas:\n",
    "    lasso = Lasso(alpha=a)\n",
    "    lasso.fit(X_train, y_train)\n",
    "    train_scores.append(lasso.score(X_train,y_train))\n",
    "    test_scores.append(lasso.score(X_test,y_test))\n",
    "ax = plt.gca()\n",
    "\n",
    "ax.plot(alphas, train_scores,)\n",
    "ax.plot(alphas, test_scores)\n",
    "ax.set_xscale('log')\n",
    "# ax.set_xlim(ax.get_xlim()[::-1])  # reverse axis\n",
    "plt.xlabel('alpha')\n",
    "plt.ylabel('scores')\n",
    "plt.title('Lasso scores as a function of the regularization')\n",
    "plt.axis('tight')\n",
    "plt.show()"
   ]
  },
  {
   "cell_type": "markdown",
   "metadata": {},
   "source": [
    "<span style=\"color:blue\"><font size=\"4\"> Regularization has solved variance problem, but bias still exists,feature engineering is necessary</font></span> "
   ]
  },
  {
   "cell_type": "markdown",
   "metadata": {},
   "source": [
    "# Solution 1: Feature Transformation: Polynomial\n",
    "   "
   ]
  },
  {
   "cell_type": "code",
   "execution_count": 702,
   "metadata": {
    "ExecuteTime": {
     "end_time": "2020-08-15T09:37:40.557164Z",
     "start_time": "2020-08-15T09:37:40.481209Z"
    }
   },
   "outputs": [],
   "source": [
    "from sklearn.preprocessing import PolynomialFeatures\n",
    "poly_reg = PolynomialFeatures(degree = 2,interaction_only=True)\n",
    "X_poly = poly_reg.fit_transform(X)"
   ]
  },
  {
   "cell_type": "markdown",
   "metadata": {},
   "source": [
    "<span style=\"color:blue\"><font size=\"4\"> This dataset already has high dimentional features, polynomial regression didn't bring\n",
    "    any performance improvement</font></span>  "
   ]
  },
  {
   "cell_type": "code",
   "execution_count": 703,
   "metadata": {
    "ExecuteTime": {
     "end_time": "2020-08-15T09:37:43.656288Z",
     "start_time": "2020-08-15T09:37:41.974349Z"
    }
   },
   "outputs": [
    {
     "data": {
      "text/plain": [
       "Lasso(alpha=0.0048, copy_X=True, fit_intercept=True, max_iter=1000,\n",
       "      normalize=False, positive=False, precompute=False, random_state=None,\n",
       "      selection='cyclic', tol=0.0001, warm_start=False)"
      ]
     },
     "execution_count": 703,
     "metadata": {},
     "output_type": "execute_result"
    }
   ],
   "source": [
    "from sklearn.model_selection import train_test_split\n",
    "X_train, X_test, y_train, y_test = train_test_split(X_poly, y, test_size = 0.3,random_state=0)\n",
    "from sklearn.linear_model import Lasso\n",
    "regressor = Lasso(alpha=0.0048)\n",
    "regressor.fit(X_train, y_train)"
   ]
  },
  {
   "cell_type": "code",
   "execution_count": 704,
   "metadata": {
    "ExecuteTime": {
     "end_time": "2020-08-15T09:37:44.836804Z",
     "start_time": "2020-08-15T09:37:44.822182Z"
    }
   },
   "outputs": [
    {
     "data": {
      "text/plain": [
       "0.870772003552444"
      ]
     },
     "execution_count": 704,
     "metadata": {},
     "output_type": "execute_result"
    }
   ],
   "source": [
    "regressor.score(X_train,y_train)"
   ]
  },
  {
   "cell_type": "code",
   "execution_count": 705,
   "metadata": {
    "ExecuteTime": {
     "end_time": "2020-08-15T09:37:45.507457Z",
     "start_time": "2020-08-15T09:37:45.493835Z"
    }
   },
   "outputs": [
    {
     "data": {
      "text/plain": [
       "0.8626932500353699"
      ]
     },
     "execution_count": 705,
     "metadata": {},
     "output_type": "execute_result"
    }
   ],
   "source": [
    "regressor.score(X_test,y_test)"
   ]
  },
  {
   "cell_type": "markdown",
   "metadata": {},
   "source": [
    "# Solution 2: Feature Transformation: PCA\n",
    "   "
   ]
  },
  {
   "cell_type": "code",
   "execution_count": 880,
   "metadata": {
    "ExecuteTime": {
     "end_time": "2020-08-17T06:23:03.460528Z",
     "start_time": "2020-08-17T06:23:03.405169Z"
    }
   },
   "outputs": [],
   "source": [
    "from sklearn.decomposition import PCA\n",
    "\n",
    "pca = PCA(n_components=30)\n",
    "\n",
    "pca_X = pca.fit_transform(X)"
   ]
  },
  {
   "cell_type": "code",
   "execution_count": 881,
   "metadata": {
    "ExecuteTime": {
     "end_time": "2020-08-17T06:23:03.805436Z",
     "start_time": "2020-08-17T06:23:03.797027Z"
    }
   },
   "outputs": [
    {
     "data": {
      "text/plain": [
       "(1460, 30)"
      ]
     },
     "execution_count": 881,
     "metadata": {},
     "output_type": "execute_result"
    }
   ],
   "source": [
    "pca_X.shape"
   ]
  },
  {
   "cell_type": "code",
   "execution_count": 882,
   "metadata": {
    "ExecuteTime": {
     "end_time": "2020-08-17T06:23:04.228963Z",
     "start_time": "2020-08-17T06:23:04.219308Z"
    }
   },
   "outputs": [
    {
     "data": {
      "text/plain": [
       "0.8745665788961108"
      ]
     },
     "execution_count": 882,
     "metadata": {},
     "output_type": "execute_result"
    }
   ],
   "source": [
    "pca.explained_variance_ratio_.sum()"
   ]
  },
  {
   "cell_type": "code",
   "execution_count": 883,
   "metadata": {
    "ExecuteTime": {
     "end_time": "2020-08-17T06:23:11.467221Z",
     "start_time": "2020-08-17T06:23:11.406227Z"
    }
   },
   "outputs": [
    {
     "data": {
      "text/plain": [
       "Ridge(alpha=0.01, copy_X=True, fit_intercept=True, max_iter=None,\n",
       "      normalize=False, random_state=None, solver='auto', tol=0.001)"
      ]
     },
     "execution_count": 883,
     "metadata": {},
     "output_type": "execute_result"
    }
   ],
   "source": [
    "from sklearn.model_selection import train_test_split\n",
    "X_train, X_test, y_train, y_test = train_test_split(pca_X, y, test_size = 0.3)\n",
    "from sklearn.linear_model import Ridge\n",
    "regressor = Ridge(alpha=0.01)\n",
    "regressor.fit(X_train, y_train)"
   ]
  },
  {
   "cell_type": "code",
   "execution_count": 884,
   "metadata": {
    "ExecuteTime": {
     "end_time": "2020-08-17T06:23:12.021630Z",
     "start_time": "2020-08-17T06:23:12.010429Z"
    }
   },
   "outputs": [
    {
     "data": {
      "text/plain": [
       "(1460, 30)"
      ]
     },
     "execution_count": 884,
     "metadata": {},
     "output_type": "execute_result"
    }
   ],
   "source": [
    "pca_X.shape"
   ]
  },
  {
   "cell_type": "code",
   "execution_count": 885,
   "metadata": {
    "ExecuteTime": {
     "end_time": "2020-08-17T06:23:13.529918Z",
     "start_time": "2020-08-17T06:23:13.516442Z"
    }
   },
   "outputs": [
    {
     "data": {
      "text/plain": [
       "0.855512846223663"
      ]
     },
     "execution_count": 885,
     "metadata": {},
     "output_type": "execute_result"
    }
   ],
   "source": [
    "regressor.score(X_train,y_train)"
   ]
  },
  {
   "cell_type": "code",
   "execution_count": 886,
   "metadata": {
    "ExecuteTime": {
     "end_time": "2020-08-17T06:23:14.091620Z",
     "start_time": "2020-08-17T06:23:14.081010Z"
    }
   },
   "outputs": [
    {
     "data": {
      "text/plain": [
       "0.863709577059506"
      ]
     },
     "execution_count": 886,
     "metadata": {},
     "output_type": "execute_result"
    }
   ],
   "source": [
    "regressor.score(X_test,y_test)"
   ]
  },
  {
   "cell_type": "code",
   "execution_count": 888,
   "metadata": {
    "ExecuteTime": {
     "end_time": "2020-08-17T09:57:46.069217Z",
     "start_time": "2020-08-17T09:57:45.986170Z"
    }
   },
   "outputs": [
    {
     "name": "stdout",
     "output_type": "stream",
     "text": [
      "[0.8327186  0.8808096  0.88529223 0.83239256 0.84976769 0.87146954\n",
      " 0.8284339  0.87766892 0.78017591 0.8644597 ]\n"
     ]
    }
   ],
   "source": [
    "from sklearn.model_selection import cross_val_score\n",
    "from sklearn.linear_model import Ridge\n",
    "regressor_model = Ridge(alpha=0.01)\n",
    "print(cross_val_score(regressor_model,pca_X, y,cv=10))"
   ]
  },
  {
   "cell_type": "markdown",
   "metadata": {},
   "source": [
    " <span style=\"color:blue\"><font size=\"6\"> PCA + LinearRegression ≈ Lasso</font></span>\n",
    " \n",
    " - by tuning n_components value for PCA\n",
    " - by tuning alpha value for Lasso"
   ]
  },
  {
   "cell_type": "markdown",
   "metadata": {},
   "source": [
    "# problem analysis\n",
    "    The model is still underfitted, two feature transformation strategies didn't solve the problem"
   ]
  },
  {
   "cell_type": "markdown",
   "metadata": {},
   "source": [
    "# solution\n",
    "- Collect more valuable features\n",
    "- Manully and reasonablly creat new features from present features in stead of simple polynomial transformation\n",
    "- Change feature selection strategy\n",
    "- more complex model, Tree or SVM"
   ]
  },
  {
   "cell_type": "code",
   "execution_count": 893,
   "metadata": {
    "ExecuteTime": {
     "end_time": "2020-08-17T10:23:51.487384Z",
     "start_time": "2020-08-17T10:23:51.470642Z"
    }
   },
   "outputs": [
    {
     "data": {
      "text/plain": [
       "array([[  2,  22,  55, 393,  56, 194,  33,  66,  31],\n",
       "       [ 32,  59, 274,  34, 177,  38, 215,  21,   9],\n",
       "       [ 18, 130,  73, 286,  44, 124,  75,  10,  21],\n",
       "       [  9, 103,  54,  38,  14,  70,  16,  63, 124],\n",
       "       [ 40,   3,  58,  63, 109,  15, 150, 157, 176],\n",
       "       [  1, 224,  18,  37,  60,  33, 297, 118,  64],\n",
       "       [ 77, 127, 130, 158, 161,   7, 386,  11,  51],\n",
       "       [131,  28, 343,  97, 446,  37,  33, 318, 124]])"
      ]
     },
     "execution_count": 893,
     "metadata": {},
     "output_type": "execute_result"
    }
   ],
   "source": [
    "np.random.geometric(p=0.01,size=(8,9))"
   ]
  },
  {
   "cell_type": "code",
   "execution_count": null,
   "metadata": {},
   "outputs": [],
   "source": []
  },
  {
   "cell_type": "code",
   "execution_count": null,
   "metadata": {},
   "outputs": [],
   "source": []
  }
 ],
 "metadata": {
  "kernelspec": {
   "display_name": "Python 3",
   "language": "python",
   "name": "python3"
  },
  "language_info": {
   "codemirror_mode": {
    "name": "ipython",
    "version": 3
   },
   "file_extension": ".py",
   "mimetype": "text/x-python",
   "name": "python",
   "nbconvert_exporter": "python",
   "pygments_lexer": "ipython3",
   "version": "3.7.6"
  },
  "latex_envs": {
   "LaTeX_envs_menu_present": true,
   "autoclose": false,
   "autocomplete": true,
   "bibliofile": "biblio.bib",
   "cite_by": "apalike",
   "current_citInitial": 1,
   "eqLabelWithNumbers": true,
   "eqNumInitial": 1,
   "hotkeys": {
    "equation": "Ctrl-E",
    "itemize": "Ctrl-I"
   },
   "labels_anchors": false,
   "latex_user_defs": false,
   "report_style_numbering": false,
   "user_envs_cfg": false
  },
  "toc": {
   "base_numbering": 1,
   "nav_menu": {},
   "number_sections": true,
   "sideBar": true,
   "skip_h1_title": false,
   "title_cell": "Table of Contents",
   "title_sidebar": "Contents",
   "toc_cell": false,
   "toc_position": {
    "height": "calc(100% - 180px)",
    "left": "10px",
    "top": "150px",
    "width": "256px"
   },
   "toc_section_display": true,
   "toc_window_display": true
  },
  "varInspector": {
   "cols": {
    "lenName": 16,
    "lenType": 16,
    "lenVar": 40
   },
   "kernels_config": {
    "python": {
     "delete_cmd_postfix": "",
     "delete_cmd_prefix": "del ",
     "library": "var_list.py",
     "varRefreshCmd": "print(var_dic_list())"
    },
    "r": {
     "delete_cmd_postfix": ") ",
     "delete_cmd_prefix": "rm(",
     "library": "var_list.r",
     "varRefreshCmd": "cat(var_dic_list()) "
    }
   },
   "types_to_exclude": [
    "module",
    "function",
    "builtin_function_or_method",
    "instance",
    "_Feature"
   ],
   "window_display": false
  }
 },
 "nbformat": 4,
 "nbformat_minor": 2
}
