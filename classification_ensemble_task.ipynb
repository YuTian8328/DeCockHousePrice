{
 "cells": [
  {
   "cell_type": "markdown",
   "metadata": {
    "ExecuteTime": {
     "end_time": "2020-08-16T05:25:06.692494Z",
     "start_time": "2020-08-16T05:25:06.683550Z"
    }
   },
   "source": [
    "<span style=\"color:darkblue\"><font size=\"5\"> DeCockHousePrice Dataset: SalePrice Prediction</font></span> \n",
    "    \n",
    "**All together**"
   ]
  },
  {
   "cell_type": "markdown",
   "metadata": {},
   "source": [
    "# Data"
   ]
  },
  {
   "cell_type": "code",
   "execution_count": 4,
   "metadata": {
    "ExecuteTime": {
     "end_time": "2020-08-29T04:05:48.493019Z",
     "start_time": "2020-08-29T04:05:48.424421Z"
    }
   },
   "outputs": [],
   "source": [
    "df=pd.read_csv('house_price.csv')"
   ]
  },
  {
   "cell_type": "code",
   "execution_count": 5,
   "metadata": {
    "ExecuteTime": {
     "end_time": "2020-08-29T04:05:59.046200Z",
     "start_time": "2020-08-29T04:05:58.998203Z"
    }
   },
   "outputs": [
    {
     "data": {
      "text/html": [
       "<div>\n",
       "<style scoped>\n",
       "    .dataframe tbody tr th:only-of-type {\n",
       "        vertical-align: middle;\n",
       "    }\n",
       "\n",
       "    .dataframe tbody tr th {\n",
       "        vertical-align: top;\n",
       "    }\n",
       "\n",
       "    .dataframe thead th {\n",
       "        text-align: right;\n",
       "    }\n",
       "</style>\n",
       "<table border=\"1\" class=\"dataframe\">\n",
       "  <thead>\n",
       "    <tr style=\"text-align: right;\">\n",
       "      <th></th>\n",
       "      <th>LotFrontage</th>\n",
       "      <th>LotArea</th>\n",
       "      <th>Neighborhood</th>\n",
       "      <th>OverallQual</th>\n",
       "      <th>OverallCond</th>\n",
       "      <th>YearBuilt</th>\n",
       "      <th>YearRemodAdd</th>\n",
       "      <th>MasVnrArea</th>\n",
       "      <th>ExterQual</th>\n",
       "      <th>ExterCond</th>\n",
       "      <th>...</th>\n",
       "      <th>SaleType_COD</th>\n",
       "      <th>SaleType_New</th>\n",
       "      <th>SaleType_Other</th>\n",
       "      <th>SaleType_WD</th>\n",
       "      <th>SaleCondition_Abnorml</th>\n",
       "      <th>SaleCondition_AdjLand</th>\n",
       "      <th>SaleCondition_Alloca</th>\n",
       "      <th>SaleCondition_Family</th>\n",
       "      <th>SaleCondition_Normal</th>\n",
       "      <th>SaleCondition_Partial</th>\n",
       "    </tr>\n",
       "  </thead>\n",
       "  <tbody>\n",
       "    <tr>\n",
       "      <th>0</th>\n",
       "      <td>65.0</td>\n",
       "      <td>8450</td>\n",
       "      <td>5</td>\n",
       "      <td>7</td>\n",
       "      <td>5</td>\n",
       "      <td>2003</td>\n",
       "      <td>2003</td>\n",
       "      <td>196.0</td>\n",
       "      <td>4</td>\n",
       "      <td>3</td>\n",
       "      <td>...</td>\n",
       "      <td>0</td>\n",
       "      <td>0</td>\n",
       "      <td>0</td>\n",
       "      <td>1</td>\n",
       "      <td>0</td>\n",
       "      <td>0</td>\n",
       "      <td>0</td>\n",
       "      <td>0</td>\n",
       "      <td>1</td>\n",
       "      <td>0</td>\n",
       "    </tr>\n",
       "    <tr>\n",
       "      <th>1</th>\n",
       "      <td>80.0</td>\n",
       "      <td>9600</td>\n",
       "      <td>7</td>\n",
       "      <td>6</td>\n",
       "      <td>8</td>\n",
       "      <td>1976</td>\n",
       "      <td>1976</td>\n",
       "      <td>0.0</td>\n",
       "      <td>3</td>\n",
       "      <td>3</td>\n",
       "      <td>...</td>\n",
       "      <td>0</td>\n",
       "      <td>0</td>\n",
       "      <td>0</td>\n",
       "      <td>1</td>\n",
       "      <td>0</td>\n",
       "      <td>0</td>\n",
       "      <td>0</td>\n",
       "      <td>0</td>\n",
       "      <td>1</td>\n",
       "      <td>0</td>\n",
       "    </tr>\n",
       "    <tr>\n",
       "      <th>2</th>\n",
       "      <td>68.0</td>\n",
       "      <td>11250</td>\n",
       "      <td>5</td>\n",
       "      <td>7</td>\n",
       "      <td>5</td>\n",
       "      <td>2001</td>\n",
       "      <td>2002</td>\n",
       "      <td>162.0</td>\n",
       "      <td>4</td>\n",
       "      <td>3</td>\n",
       "      <td>...</td>\n",
       "      <td>0</td>\n",
       "      <td>0</td>\n",
       "      <td>0</td>\n",
       "      <td>1</td>\n",
       "      <td>0</td>\n",
       "      <td>0</td>\n",
       "      <td>0</td>\n",
       "      <td>0</td>\n",
       "      <td>1</td>\n",
       "      <td>0</td>\n",
       "    </tr>\n",
       "    <tr>\n",
       "      <th>3</th>\n",
       "      <td>60.0</td>\n",
       "      <td>9550</td>\n",
       "      <td>6</td>\n",
       "      <td>7</td>\n",
       "      <td>5</td>\n",
       "      <td>1915</td>\n",
       "      <td>1970</td>\n",
       "      <td>0.0</td>\n",
       "      <td>3</td>\n",
       "      <td>3</td>\n",
       "      <td>...</td>\n",
       "      <td>0</td>\n",
       "      <td>0</td>\n",
       "      <td>0</td>\n",
       "      <td>1</td>\n",
       "      <td>1</td>\n",
       "      <td>0</td>\n",
       "      <td>0</td>\n",
       "      <td>0</td>\n",
       "      <td>0</td>\n",
       "      <td>0</td>\n",
       "    </tr>\n",
       "    <tr>\n",
       "      <th>4</th>\n",
       "      <td>84.0</td>\n",
       "      <td>14260</td>\n",
       "      <td>10</td>\n",
       "      <td>8</td>\n",
       "      <td>5</td>\n",
       "      <td>2000</td>\n",
       "      <td>2000</td>\n",
       "      <td>350.0</td>\n",
       "      <td>4</td>\n",
       "      <td>3</td>\n",
       "      <td>...</td>\n",
       "      <td>0</td>\n",
       "      <td>0</td>\n",
       "      <td>0</td>\n",
       "      <td>1</td>\n",
       "      <td>0</td>\n",
       "      <td>0</td>\n",
       "      <td>0</td>\n",
       "      <td>0</td>\n",
       "      <td>1</td>\n",
       "      <td>0</td>\n",
       "    </tr>\n",
       "  </tbody>\n",
       "</table>\n",
       "<p>5 rows × 213 columns</p>\n",
       "</div>"
      ],
      "text/plain": [
       "   LotFrontage  LotArea  Neighborhood  OverallQual  OverallCond  YearBuilt  \\\n",
       "0         65.0     8450             5            7            5       2003   \n",
       "1         80.0     9600             7            6            8       1976   \n",
       "2         68.0    11250             5            7            5       2001   \n",
       "3         60.0     9550             6            7            5       1915   \n",
       "4         84.0    14260            10            8            5       2000   \n",
       "\n",
       "   YearRemodAdd  MasVnrArea  ExterQual  ExterCond  ...  SaleType_COD  \\\n",
       "0          2003       196.0          4          3  ...             0   \n",
       "1          1976         0.0          3          3  ...             0   \n",
       "2          2002       162.0          4          3  ...             0   \n",
       "3          1970         0.0          3          3  ...             0   \n",
       "4          2000       350.0          4          3  ...             0   \n",
       "\n",
       "   SaleType_New  SaleType_Other  SaleType_WD  SaleCondition_Abnorml  \\\n",
       "0             0               0            1                      0   \n",
       "1             0               0            1                      0   \n",
       "2             0               0            1                      0   \n",
       "3             0               0            1                      1   \n",
       "4             0               0            1                      0   \n",
       "\n",
       "   SaleCondition_AdjLand  SaleCondition_Alloca  SaleCondition_Family  \\\n",
       "0                      0                     0                     0   \n",
       "1                      0                     0                     0   \n",
       "2                      0                     0                     0   \n",
       "3                      0                     0                     0   \n",
       "4                      0                     0                     0   \n",
       "\n",
       "   SaleCondition_Normal  SaleCondition_Partial  \n",
       "0                     1                      0  \n",
       "1                     1                      0  \n",
       "2                     1                      0  \n",
       "3                     0                      0  \n",
       "4                     1                      0  \n",
       "\n",
       "[5 rows x 213 columns]"
      ]
     },
     "execution_count": 5,
     "metadata": {},
     "output_type": "execute_result"
    }
   ],
   "source": [
    "df.head()"
   ]
  },
  {
   "cell_type": "code",
   "execution_count": 21,
   "metadata": {
    "ExecuteTime": {
     "end_time": "2020-08-29T04:22:49.866970Z",
     "start_time": "2020-08-29T04:22:49.849263Z"
    }
   },
   "outputs": [],
   "source": [
    "X=df.drop('SalePrice',axis=1).values\n",
    "y=df.loc[:,'SalePrice'].values\n",
    "y=np.array([1 if i>163000 else 0 for i in y])"
   ]
  },
  {
   "cell_type": "markdown",
   "metadata": {},
   "source": [
    "# broadly Model Selection"
   ]
  },
  {
   "cell_type": "code",
   "execution_count": 75,
   "metadata": {
    "ExecuteTime": {
     "end_time": "2020-08-29T08:03:58.262738Z",
     "start_time": "2020-08-29T08:03:58.248267Z"
    }
   },
   "outputs": [],
   "source": [
    "from sklearn.ensemble import (RandomForestClassifier,\n",
    "                              GradientBoostingClassifier,AdaBoostClassifier,ExtraTreesClassifier)\n",
    "from sklearn.tree import DecisionTreeClassifier\n",
    "from sklearn.linear_model import LogisticRegression\n",
    "from xgboost import XGBClassifier\n",
    "from sklearn.pipeline import Pipeline\n",
    "from pipelinehelper import PipelineHelper\n",
    "from sklearn.model_selection import GridSearchCV,cross_val_score,RandomizedSearchCV"
   ]
  },
  {
   "cell_type": "code",
   "execution_count": 109,
   "metadata": {
    "ExecuteTime": {
     "end_time": "2020-08-29T08:40:23.275456Z",
     "start_time": "2020-08-29T08:40:23.262888Z"
    }
   },
   "outputs": [
    {
     "data": {
      "text/plain": [
       "(1095, 212)"
      ]
     },
     "execution_count": 109,
     "metadata": {},
     "output_type": "execute_result"
    }
   ],
   "source": [
    "X_trainval, X_test, y_trainval, y_test = train_test_split(X,y,random_state=0)\n",
    "print(X_trainval.shape)\n",
    "y_trainval[0]"
   ]
  },
  {
   "cell_type": "code",
   "execution_count": 111,
   "metadata": {
    "ExecuteTime": {
     "end_time": "2020-08-29T08:40:24.638187Z",
     "start_time": "2020-08-29T08:40:24.621786Z"
    }
   },
   "outputs": [],
   "source": [
    "seedNum=42\n",
    "models=[('tree',DecisionTreeClassifier(random_state=seedNum)),\n",
    "        ('abc',AdaBoostClassifier(random_state=seedNum)),\\\n",
    "        ('rfc',RandomForestClassifier(random_state=seedNum)),\n",
    "        ('etc',ExtraTreesClassifier(random_state=seedNum)),\n",
    "        ('xgbc',XGBClassifier(random_state=seedNum)),\n",
    "        ('gbc', GradientBoostingClassifier(random_state=seedNum))]"
   ]
  },
  {
   "cell_type": "code",
   "execution_count": 112,
   "metadata": {
    "ExecuteTime": {
     "end_time": "2020-08-29T08:40:34.372915Z",
     "start_time": "2020-08-29T08:40:25.192101Z"
    }
   },
   "outputs": [
    {
     "name": "stdout",
     "output_type": "stream",
     "text": [
      "tree: 0.871233\n",
      "\n",
      "abc: 0.899543\n",
      "\n",
      "rfc: 0.925114\n",
      "\n",
      "etc: 0.916895\n",
      "\n",
      "xgbc: 0.915068\n",
      "\n",
      "gbc: 0.918721\n",
      "\n",
      "The Best Model is:\n",
      " ('rfc', RandomForestClassifier(bootstrap=True, ccp_alpha=0.0, class_weight=None,\n",
      "                       criterion='gini', max_depth=None, max_features='auto',\n",
      "                       max_leaf_nodes=None, max_samples=None,\n",
      "                       min_impurity_decrease=0.0, min_impurity_split=None,\n",
      "                       min_samples_leaf=1, min_samples_split=2,\n",
      "                       min_weight_fraction_leaf=0.0, n_estimators=100,\n",
      "                       n_jobs=None, oob_score=False, random_state=42, verbose=0,\n",
      "                       warm_start=False))\n"
     ]
    }
   ],
   "source": [
    "results=[]\n",
    "names=[]\n",
    "metrics=[]\n",
    "for name, model in models:\n",
    "    cv_results=cross_val_score(model,X_trainval,y_trainval,cv=5)\n",
    "    results.append(cv_results)\n",
    "    metrics.append(cv_results.mean())\n",
    "    \n",
    "    print('%s: %f\\n'%(name,cv_results.mean()))\n",
    "best_model=models[metrics.index(max(metrics))]\n",
    "print(f'The Best Model is:\\n {best_model}')"
   ]
  },
  {
   "cell_type": "code",
   "execution_count": 123,
   "metadata": {
    "ExecuteTime": {
     "end_time": "2020-08-29T08:56:40.853928Z",
     "start_time": "2020-08-29T08:42:43.176184Z"
    }
   },
   "outputs": [],
   "source": [
    "# searchching for best parameters\n",
    "pipe = Pipeline([('classifier', \\\n",
    " PipelineHelper([('rfc',RandomForestClassifier(n_jobs=-1)),('xgbc', XGBClassifier(learning_rate=0.02,\\\n",
    "                                             n_estimators=100, objective='binary:logistic',nthread=4))]))])\n",
    "search_space = [{'classifier':[XGBClassifier(learning_rate=0.02,\\\n",
    "                                             n_estimators=100, objective='binary:logistic',nthread=4)],\n",
    "               'classifier__min_child_weight': [1, 5, 10],\n",
    "                 'classifier__max_depth' : [3,5,7],\n",
    "                  'classifier__subsample': [0.6, 0.8, 1.0],\n",
    "                'classifier__gamma': [0.5, 1, 1.5, 2, 5],\n",
    "                 'classifier__colsample_bytree': [0.6, 0.8, 1.0]\n",
    "                },\n",
    "                 {'classifier': [RandomForestClassifier(n_jobs=-1)],\n",
    "                 'classifier__max_depth': [10, 30, None],\n",
    "                 'classifier__min_samples_leaf': [1, 2, 4],\n",
    "                 'classifier__n_estimators': [10, 100,200]}]\n",
    "# Create grid search \n",
    "clf = GridSearchCV(pipe, search_space, cv=5, verbose=0)\n",
    "best_model = clf.fit(X_trainval, y_trainval)"
   ]
  },
  {
   "cell_type": "code",
   "execution_count": 125,
   "metadata": {
    "ExecuteTime": {
     "end_time": "2020-08-29T08:57:45.955874Z",
     "start_time": "2020-08-29T08:57:45.946945Z"
    }
   },
   "outputs": [
    {
     "data": {
      "text/plain": [
       "RandomForestClassifier(bootstrap=True, ccp_alpha=0.0, class_weight=None,\n",
       "                       criterion='gini', max_depth=10, max_features='auto',\n",
       "                       max_leaf_nodes=None, max_samples=None,\n",
       "                       min_impurity_decrease=0.0, min_impurity_split=None,\n",
       "                       min_samples_leaf=4, min_samples_split=2,\n",
       "                       min_weight_fraction_leaf=0.0, n_estimators=200,\n",
       "                       n_jobs=-1, oob_score=False, random_state=None, verbose=0,\n",
       "                       warm_start=False)"
      ]
     },
     "execution_count": 125,
     "metadata": {},
     "output_type": "execute_result"
    }
   ],
   "source": [
    "best_model.best_estimator_.get_params()['classifier']"
   ]
  },
  {
   "cell_type": "code",
   "execution_count": 126,
   "metadata": {
    "ExecuteTime": {
     "end_time": "2020-08-29T08:57:55.817058Z",
     "start_time": "2020-08-29T08:57:55.810772Z"
    }
   },
   "outputs": [
    {
     "name": "stdout",
     "output_type": "stream",
     "text": [
      "Average accuracy of Cross Validation: 0.9242009132420093\n"
     ]
    }
   ],
   "source": [
    "print(f'Average accuracy of Cross Validation: {best_model.best_score_}')"
   ]
  },
  {
   "cell_type": "code",
   "execution_count": 132,
   "metadata": {
    "ExecuteTime": {
     "end_time": "2020-08-29T09:14:04.900994Z",
     "start_time": "2020-08-29T09:14:04.785227Z"
    }
   },
   "outputs": [
    {
     "name": "stdout",
     "output_type": "stream",
     "text": [
      "Performance on unseen test set: 0.9424657534246575\n"
     ]
    }
   ],
   "source": [
    "print(f'Performance on unseen test set: {best_model.score(X_test,y_test)}')"
   ]
  },
  {
   "cell_type": "markdown",
   "metadata": {},
   "source": [
    "# Compared with the other models\n",
    "Performance of **RandomForestClassifier** on unseen data:\n",
    "    $accuracy=94.25$%\n",
    "\n",
    "Performance of **LogisticRegression** on unseen data: \n",
    "    $accuracy=91.78$%\n",
    "\n",
    "Performance of **SVC** on unseen data: \n",
    "    $accuracy=91.78$%"
   ]
  },
  {
   "cell_type": "markdown",
   "metadata": {},
   "source": [
    "- **Performance of RandomForestClassifier is better than LogisticRegression and SVM**\n",
    "\n",
    "\n",
    "- **Bias still exists**"
   ]
  },
  {
   "cell_type": "markdown",
   "metadata": {},
   "source": [
    "# VotingClassifier\n",
    "\n",
    "   **Could VotingClassifier do better?** "
   ]
  },
  {
   "cell_type": "code",
   "execution_count": 128,
   "metadata": {
    "ExecuteTime": {
     "end_time": "2020-08-29T08:58:22.738918Z",
     "start_time": "2020-08-29T08:58:22.735206Z"
    }
   },
   "outputs": [],
   "source": [
    "from sklearn.ensemble import VotingClassifier\n",
    "from sklearn.svm import SVC"
   ]
  },
  {
   "cell_type": "code",
   "execution_count": 131,
   "metadata": {
    "ExecuteTime": {
     "end_time": "2020-08-29T09:14:04.482797Z",
     "start_time": "2020-08-29T09:02:39.061455Z"
    }
   },
   "outputs": [
    {
     "name": "stdout",
     "output_type": "stream",
     "text": [
      "{'max_depth': 3, 'min_samples_leaf': 3, 'min_samples_split': 2, 'n_estimators': 100, 'subsample': 0.6}\n",
      "0.9223744292237444\n"
     ]
    }
   ],
   "source": [
    "gbc=GradientBoostingClassifier()\n",
    "param_grid = {'n_estimators': [100, 250, 200],\n",
    "                 'max_depth' : [3,5,7],\n",
    "                  'subsample': [0.6, 0.8, 1.0],\n",
    "             'min_samples_split':[2,3,4],\n",
    "    'min_samples_leaf':[1,2,3]}\n",
    "grid_search=GridSearchCV(gbc,param_grid,cv=5,n_jobs=-1)\n",
    "grid_search.fit(X_trainval,y_trainval)\n",
    "print(grid_search.best_params_)\n",
    "print(grid_search.best_score_)"
   ]
  },
  {
   "cell_type": "code",
   "execution_count": 143,
   "metadata": {
    "ExecuteTime": {
     "end_time": "2020-08-29T09:21:29.191558Z",
     "start_time": "2020-08-29T09:21:29.181568Z"
    }
   },
   "outputs": [
    {
     "data": {
      "text/plain": [
       "0.9287671232876712"
      ]
     },
     "execution_count": 143,
     "metadata": {},
     "output_type": "execute_result"
    }
   ],
   "source": [
    "grid_search.score(X_test,y_test)"
   ]
  },
  {
   "cell_type": "code",
   "execution_count": 155,
   "metadata": {
    "ExecuteTime": {
     "end_time": "2020-08-29T14:05:46.682768Z",
     "start_time": "2020-08-29T14:05:46.671520Z"
    }
   },
   "outputs": [],
   "source": [
    "estimators = [ \n",
    "    ('rfc',RandomForestClassifier(max_depth=10, min_samples_leaf=2,n_estimators=200)),\n",
    "    ('gbc',GradientBoostingClassifier(max_depth=3, subsample=0.6,min_samples_leaf=3, \\\n",
    "                                      min_samples_split=2, n_estimators=100,)),\n",
    "    ('etc',ExtraTreesClassifier(random_state=seedNum)),\n",
    "        ('xgbc',XGBClassifier(random_state=seedNum))]\n",
    "vc_hard = VotingClassifier(estimators=estimators, n_jobs=-1,voting='hard')\n",
    "vc_soft = VotingClassifier(estimators=estimators, n_jobs=-1,voting='soft')\n",
    "vc_hard.fit(X_trainval,y_trainval)\n",
    "vc_soft.fit(X_trainval,y_trainval)"
   ]
  },
  {
   "cell_type": "code",
   "execution_count": 157,
   "metadata": {
    "ExecuteTime": {
     "end_time": "2020-08-29T14:06:05.525938Z",
     "start_time": "2020-08-29T14:06:05.379318Z"
    }
   },
   "outputs": [
    {
     "name": "stdout",
     "output_type": "stream",
     "text": [
      "accuracy of hard voting: 0.9315068493150684\n",
      "accuracy of soft voting: 0.9397260273972603\n"
     ]
    }
   ],
   "source": [
    "print(f'accuracy of hard voting: {vc_hard.score(X_test,y_test)}')\n",
    "print(f'accuracy of soft voting: {vc_soft.score(X_test,y_test)}')"
   ]
  },
  {
   "cell_type": "code",
   "execution_count": 159,
   "metadata": {
    "ExecuteTime": {
     "end_time": "2020-08-29T14:07:44.780551Z",
     "start_time": "2020-08-29T14:07:44.618610Z"
    }
   },
   "outputs": [
    {
     "name": "stdout",
     "output_type": "stream",
     "text": [
      "Hard Voting:\n",
      "rfc 0.9452054794520548\n",
      "gbc 0.9342465753424658\n",
      "etc 0.9315068493150684\n",
      "xgbc 0.936986301369863\n",
      "\n",
      "Soft Voting:\n",
      "rfc 0.9506849315068493\n",
      "gbc 0.9315068493150684\n",
      "etc 0.9315068493150684\n",
      "xgbc 0.936986301369863\n"
     ]
    }
   ],
   "source": [
    "print('Hard Voting:')\n",
    "for est,name in zip(vc_hard.estimators_,vc_hard.estimators):\n",
    "    print (name[0], est.score(X_test,y_test))\n",
    "print('\\nSoft Voting:')\n",
    "for est,name in zip(vc_soft.estimators_,vc_soft.estimators):\n",
    "    print (name[0], est.score(X_test,y_test))   \n"
   ]
  },
  {
   "cell_type": "markdown",
   "metadata": {},
   "source": [
    "# Comparing VotingClassifier with RandomForestClassifier\n",
    "Performance of **RandomForestClassifier** on unseen data:\n",
    "    $accuracy=94.25$%\n",
    "    \n",
    "    \n",
    "Performance of **Soft VotingClassifier** on unseen data:\n",
    "    $accuracy=93.97$%\n",
    "   "
   ]
  },
  {
   "cell_type": "code",
   "execution_count": null,
   "metadata": {},
   "outputs": [],
   "source": []
  }
 ],
 "metadata": {
  "kernelspec": {
   "display_name": "Python 3",
   "language": "python",
   "name": "python3"
  },
  "language_info": {
   "codemirror_mode": {
    "name": "ipython",
    "version": 3
   },
   "file_extension": ".py",
   "mimetype": "text/x-python",
   "name": "python",
   "nbconvert_exporter": "python",
   "pygments_lexer": "ipython3",
   "version": "3.7.6"
  },
  "latex_envs": {
   "LaTeX_envs_menu_present": true,
   "autoclose": false,
   "autocomplete": true,
   "bibliofile": "biblio.bib",
   "cite_by": "apalike",
   "current_citInitial": 1,
   "eqLabelWithNumbers": true,
   "eqNumInitial": 1,
   "hotkeys": {
    "equation": "Ctrl-E",
    "itemize": "Ctrl-I"
   },
   "labels_anchors": false,
   "latex_user_defs": false,
   "report_style_numbering": false,
   "user_envs_cfg": false
  },
  "toc": {
   "base_numbering": 1,
   "nav_menu": {},
   "number_sections": true,
   "sideBar": true,
   "skip_h1_title": false,
   "title_cell": "Table of Contents",
   "title_sidebar": "Contents",
   "toc_cell": false,
   "toc_position": {
    "height": "calc(100% - 180px)",
    "left": "10px",
    "top": "150px",
    "width": "256px"
   },
   "toc_section_display": true,
   "toc_window_display": true
  },
  "varInspector": {
   "cols": {
    "lenName": 16,
    "lenType": 16,
    "lenVar": 40
   },
   "kernels_config": {
    "python": {
     "delete_cmd_postfix": "",
     "delete_cmd_prefix": "del ",
     "library": "var_list.py",
     "varRefreshCmd": "print(var_dic_list())"
    },
    "r": {
     "delete_cmd_postfix": ") ",
     "delete_cmd_prefix": "rm(",
     "library": "var_list.r",
     "varRefreshCmd": "cat(var_dic_list()) "
    }
   },
   "types_to_exclude": [
    "module",
    "function",
    "builtin_function_or_method",
    "instance",
    "_Feature"
   ],
   "window_display": false
  }
 },
 "nbformat": 4,
 "nbformat_minor": 2
}
