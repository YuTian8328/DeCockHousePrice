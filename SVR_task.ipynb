{
 "cells": [
  {
   "cell_type": "markdown",
   "metadata": {
    "ExecuteTime": {
     "end_time": "2020-08-16T05:25:06.692494Z",
     "start_time": "2020-08-16T05:25:06.683550Z"
    }
   },
   "source": [
    "<span style=\"color:darkblue\"><font size=\"5\"> DeCockHousePrice Dataset: SalePrice Prediction</font></span> \n",
    "    \n",
    "    SVR vs Linear Regression"
   ]
  },
  {
   "cell_type": "code",
   "execution_count": 587,
   "metadata": {
    "ExecuteTime": {
     "end_time": "2020-08-27T11:44:09.544835Z",
     "start_time": "2020-08-27T11:44:09.528319Z"
    }
   },
   "outputs": [],
   "source": [
    "import pandas as pd\n",
    "import seaborn as sns; sns.set(color_codes=True)\n",
    "from mpl_toolkits.mplot3d import Axes3D\n",
    "import matplotlib.pyplot as plt\n",
    "%matplotlib inline\n",
    "import warnings; warnings.simplefilter('ignore')\n",
    "import numpy as np\n",
    "np.random.seed(10)\n",
    "from sklearn.linear_model import LogisticRegression\n",
    "\n",
    "from sklearn.ensemble import (RandomTreesEmbedding, RandomForestClassifier,\n",
    "                              GradientBoostingClassifier)\n",
    "from sklearn.preprocessing import OneHotEncoder\n",
    "from sklearn.model_selection import train_test_split\n",
    "from sklearn.metrics import roc_curve\n",
    "from sklearn.pipeline import make_pipeline"
   ]
  },
  {
   "cell_type": "code",
   "execution_count": 588,
   "metadata": {
    "ExecuteTime": {
     "end_time": "2020-08-27T11:44:10.179187Z",
     "start_time": "2020-08-27T11:44:10.119470Z"
    }
   },
   "outputs": [],
   "source": [
    "df=pd.read_csv('data/train.csv')"
   ]
  },
  {
   "cell_type": "markdown",
   "metadata": {},
   "source": [
    "# Data cleaning"
   ]
  },
  {
   "cell_type": "code",
   "execution_count": 589,
   "metadata": {
    "ExecuteTime": {
     "end_time": "2020-08-27T11:44:11.764799Z",
     "start_time": "2020-08-27T11:44:11.666574Z"
    }
   },
   "outputs": [],
   "source": [
    "cg_cols = ['Alley', 'PoolQC', 'MiscFeature', 'Fence', 'FireplaceQu', 'GarageType',\n",
    "    'GarageFinish', 'GarageQual', 'GarageCond', 'BsmtQual', 'BsmtCond',\n",
    "    'BsmtExposure', 'BsmtFinType1', 'BsmtFinType2', 'MasVnrType']\n",
    "dc_cols = ['BsmtFinSF1', 'BsmtFinSF2', 'BsmtUnfSF', 'TotalBsmtSF', 'BsmtFullBath',\n",
    "    'BsmtHalfBath', 'GarageYrBlt', 'GarageArea', 'GarageCars', 'MasVnrArea']\n",
    "ot_cols = ['Electrical', 'Exterior1st', 'Exterior2nd', 'Functional', 'KitchenQual',\n",
    "    'SaleType', 'Utilities']\n",
    "for col in dc_cols:\n",
    "    df[col].replace(np.nan, 0, inplace=True)\n",
    "\n",
    "for col in cg_cols:\n",
    "    df[col].replace(np.nan, 'None', inplace=True)\n",
    "\n",
    "for col in ot_cols:\n",
    "    df[col].replace(np.nan, df[col].mode()[0], inplace=True)\n",
    "    \n",
    "# Filling MSZoning according to MSSubClass\n",
    "df['MSZoning'] = df.groupby('MSSubClass')['MSZoning'].apply(\n",
    "    lambda x: x.fillna(x.mode()[0]))\n",
    "\n",
    "# Filling LotFrontage according to Neighborhood\n",
    "\n",
    "df['LotFrontage']=df.groupby(['Neighborhood'])['LotFrontage'].apply(lambda x: x.fillna(x.median()))"
   ]
  },
  {
   "cell_type": "code",
   "execution_count": 590,
   "metadata": {
    "ExecuteTime": {
     "end_time": "2020-08-27T11:44:12.631541Z",
     "start_time": "2020-08-27T11:44:12.548455Z"
    }
   },
   "outputs": [],
   "source": [
    "df.drop('Id',axis=1,inplace=True)\n",
    "\n",
    "#binning with rare values\n",
    "col_rare = ['Condition1', 'Condition2', 'RoofMatl', 'Exterior1st', 'Exterior2nd',\n",
    "    'Heating', 'Electrical', 'Functional', 'SaleType']\n",
    "\n",
    "for col in col_rare:\n",
    "    mask = df[col].isin(\n",
    "        df[col].value_counts()[df[col].value_counts() < 10].index)\n",
    "    df[col][mask] = 'Other'\n",
    "\n",
    "# Features which numerical on data but should be treated as category.\n",
    "df['MSSubClass'] = df['MSSubClass'].astype(str)\n",
    "\n",
    "# cyclical feature transformation\n",
    "from math import pi\n",
    "df['MoSold']=2*pi*df['MoSold']/df['MoSold'].max()\n",
    "df[\"cos_MoSold\"] = np.cos(df[\"MoSold\"])\n",
    "df[\"sin_MoSold\"] = np.sin(df[\"MoSold\"])"
   ]
  },
  {
   "cell_type": "code",
   "execution_count": 570,
   "metadata": {
    "ExecuteTime": {
     "end_time": "2020-08-27T11:42:47.126708Z",
     "start_time": "2020-08-27T11:42:47.027972Z"
    }
   },
   "outputs": [],
   "source": [
    "#log transform skewed numeric features:\n",
    "\n",
    "from scipy.stats import skew\n",
    "numeric_feats = df.dtypes[df.dtypes != \"object\"].index\n",
    "\n",
    "skewed_feats = df[numeric_feats].apply(lambda x: skew(x.dropna())) #compute skewness\n",
    "skewed_feats = skewed_feats[skewed_feats > 0.75]\n",
    "skewed_feats = skewed_feats.index\n",
    "\n",
    "df[skewed_feats] = np.log1p(df[skewed_feats])"
   ]
  },
  {
   "cell_type": "code",
   "execution_count": 591,
   "metadata": {
    "ExecuteTime": {
     "end_time": "2020-08-27T11:44:16.830199Z",
     "start_time": "2020-08-27T11:44:16.718588Z"
    }
   },
   "outputs": [],
   "source": [
    "neigh_map={'MeadowV': 1,'IDOTRR': 1,\n",
    "    'BrDale': 1, 'BrkSide': 2,\n",
    "    'OldTown': 2, 'Edwards': 2,\n",
    "    'Sawyer': 3,    'Blueste': 3,\n",
    "    'SWISU': 3,    'NPkVill': 3,\n",
    "    'NAmes': 3,    'Mitchel': 4,\n",
    "    'SawyerW': 5,    'NWAmes': 5,\n",
    "    'Gilbert': 5,    'Blmngtn': 5,\n",
    "    'CollgCr': 5,    'ClearCr': 6,\n",
    "    'Crawfor': 6,    'Veenker': 7,\n",
    "    'Somerst': 7,    'Timber': 8,\n",
    "    'StoneBr': 9,    'NridgHt': 10,\n",
    "    'NoRidge': 10}\n",
    "    \n",
    "df['Neighborhood'] = df['Neighborhood'].map(neigh_map).astype('int')\n",
    "\n",
    "ext_map = {'Po': 1, 'Fa': 2, 'TA': 3, 'Gd': 4, 'Ex': 5}\n",
    "df['ExterCond'] = df['ExterCond'].map(ext_map).astype('int')\n",
    "df['ExterQual'] = df['ExterQual'].map(ext_map).astype('int')\n",
    "\n",
    "bsm_map = {'None': 0, 'Po': 1, 'Fa': 2, 'TA': 3, 'Gd': 4, 'Ex': 5}\n",
    "df['BsmtQual'] = df['BsmtQual'].map(bsm_map).astype('int')\n",
    "df['BsmtCond'] = df['BsmtCond'].map(bsm_map).astype('int')\n",
    "bsmf_map = {'None': 0, 'Unf': 1,'LwQ': 2,'Rec': 3, 'BLQ': 4, 'ALQ': 5,'GLQ': 6}\n",
    "\n",
    "df['BsmtFinType1'] = df['BsmtFinType1'].map(bsmf_map).astype('int')\n",
    "df['BsmtFinType2'] = df['BsmtFinType2'].map(bsmf_map).astype('int')\n",
    "heat_map = {'Po': 1, 'Fa': 2, 'TA': 3, 'Gd': 4, 'Ex': 5}\n",
    "df['HeatingQC'] = df['HeatingQC'].map(heat_map).astype('int')\n",
    "df['KitchenQual'] = df['KitchenQual'].map(heat_map).astype('int')\n",
    "df['FireplaceQu'] = df['FireplaceQu'].map(bsm_map).astype('int')\n",
    "df['GarageCond'] = df['GarageCond'].map(bsm_map).astype('int')\n",
    "df['GarageQual'] = df['GarageQual'].map(bsm_map).astype('int')\n",
    "\n",
    "# Getting dummy variables for nominal categorical features\n",
    "df = pd.get_dummies(data=df)"
   ]
  },
  {
   "cell_type": "code",
   "execution_count": 592,
   "metadata": {
    "ExecuteTime": {
     "end_time": "2020-08-27T11:44:18.319739Z",
     "start_time": "2020-08-27T11:44:18.287782Z"
    },
    "scrolled": false
   },
   "outputs": [
    {
     "data": {
      "text/html": [
       "<div>\n",
       "<style scoped>\n",
       "    .dataframe tbody tr th:only-of-type {\n",
       "        vertical-align: middle;\n",
       "    }\n",
       "\n",
       "    .dataframe tbody tr th {\n",
       "        vertical-align: top;\n",
       "    }\n",
       "\n",
       "    .dataframe thead th {\n",
       "        text-align: right;\n",
       "    }\n",
       "</style>\n",
       "<table border=\"1\" class=\"dataframe\">\n",
       "  <thead>\n",
       "    <tr style=\"text-align: right;\">\n",
       "      <th></th>\n",
       "      <th>LotFrontage</th>\n",
       "      <th>LotArea</th>\n",
       "      <th>Neighborhood</th>\n",
       "      <th>OverallQual</th>\n",
       "      <th>OverallCond</th>\n",
       "      <th>YearBuilt</th>\n",
       "      <th>YearRemodAdd</th>\n",
       "      <th>MasVnrArea</th>\n",
       "      <th>ExterQual</th>\n",
       "      <th>ExterCond</th>\n",
       "      <th>...</th>\n",
       "      <th>SaleType_COD</th>\n",
       "      <th>SaleType_New</th>\n",
       "      <th>SaleType_Other</th>\n",
       "      <th>SaleType_WD</th>\n",
       "      <th>SaleCondition_Abnorml</th>\n",
       "      <th>SaleCondition_AdjLand</th>\n",
       "      <th>SaleCondition_Alloca</th>\n",
       "      <th>SaleCondition_Family</th>\n",
       "      <th>SaleCondition_Normal</th>\n",
       "      <th>SaleCondition_Partial</th>\n",
       "    </tr>\n",
       "  </thead>\n",
       "  <tbody>\n",
       "    <tr>\n",
       "      <th>0</th>\n",
       "      <td>65.0</td>\n",
       "      <td>8450</td>\n",
       "      <td>5</td>\n",
       "      <td>7</td>\n",
       "      <td>5</td>\n",
       "      <td>2003</td>\n",
       "      <td>2003</td>\n",
       "      <td>196.0</td>\n",
       "      <td>4</td>\n",
       "      <td>3</td>\n",
       "      <td>...</td>\n",
       "      <td>0</td>\n",
       "      <td>0</td>\n",
       "      <td>0</td>\n",
       "      <td>1</td>\n",
       "      <td>0</td>\n",
       "      <td>0</td>\n",
       "      <td>0</td>\n",
       "      <td>0</td>\n",
       "      <td>1</td>\n",
       "      <td>0</td>\n",
       "    </tr>\n",
       "    <tr>\n",
       "      <th>1</th>\n",
       "      <td>80.0</td>\n",
       "      <td>9600</td>\n",
       "      <td>7</td>\n",
       "      <td>6</td>\n",
       "      <td>8</td>\n",
       "      <td>1976</td>\n",
       "      <td>1976</td>\n",
       "      <td>0.0</td>\n",
       "      <td>3</td>\n",
       "      <td>3</td>\n",
       "      <td>...</td>\n",
       "      <td>0</td>\n",
       "      <td>0</td>\n",
       "      <td>0</td>\n",
       "      <td>1</td>\n",
       "      <td>0</td>\n",
       "      <td>0</td>\n",
       "      <td>0</td>\n",
       "      <td>0</td>\n",
       "      <td>1</td>\n",
       "      <td>0</td>\n",
       "    </tr>\n",
       "    <tr>\n",
       "      <th>2</th>\n",
       "      <td>68.0</td>\n",
       "      <td>11250</td>\n",
       "      <td>5</td>\n",
       "      <td>7</td>\n",
       "      <td>5</td>\n",
       "      <td>2001</td>\n",
       "      <td>2002</td>\n",
       "      <td>162.0</td>\n",
       "      <td>4</td>\n",
       "      <td>3</td>\n",
       "      <td>...</td>\n",
       "      <td>0</td>\n",
       "      <td>0</td>\n",
       "      <td>0</td>\n",
       "      <td>1</td>\n",
       "      <td>0</td>\n",
       "      <td>0</td>\n",
       "      <td>0</td>\n",
       "      <td>0</td>\n",
       "      <td>1</td>\n",
       "      <td>0</td>\n",
       "    </tr>\n",
       "    <tr>\n",
       "      <th>3</th>\n",
       "      <td>60.0</td>\n",
       "      <td>9550</td>\n",
       "      <td>6</td>\n",
       "      <td>7</td>\n",
       "      <td>5</td>\n",
       "      <td>1915</td>\n",
       "      <td>1970</td>\n",
       "      <td>0.0</td>\n",
       "      <td>3</td>\n",
       "      <td>3</td>\n",
       "      <td>...</td>\n",
       "      <td>0</td>\n",
       "      <td>0</td>\n",
       "      <td>0</td>\n",
       "      <td>1</td>\n",
       "      <td>1</td>\n",
       "      <td>0</td>\n",
       "      <td>0</td>\n",
       "      <td>0</td>\n",
       "      <td>0</td>\n",
       "      <td>0</td>\n",
       "    </tr>\n",
       "    <tr>\n",
       "      <th>4</th>\n",
       "      <td>84.0</td>\n",
       "      <td>14260</td>\n",
       "      <td>10</td>\n",
       "      <td>8</td>\n",
       "      <td>5</td>\n",
       "      <td>2000</td>\n",
       "      <td>2000</td>\n",
       "      <td>350.0</td>\n",
       "      <td>4</td>\n",
       "      <td>3</td>\n",
       "      <td>...</td>\n",
       "      <td>0</td>\n",
       "      <td>0</td>\n",
       "      <td>0</td>\n",
       "      <td>1</td>\n",
       "      <td>0</td>\n",
       "      <td>0</td>\n",
       "      <td>0</td>\n",
       "      <td>0</td>\n",
       "      <td>1</td>\n",
       "      <td>0</td>\n",
       "    </tr>\n",
       "  </tbody>\n",
       "</table>\n",
       "<p>5 rows × 215 columns</p>\n",
       "</div>"
      ],
      "text/plain": [
       "   LotFrontage  LotArea  Neighborhood  OverallQual  OverallCond  YearBuilt  \\\n",
       "0         65.0     8450             5            7            5       2003   \n",
       "1         80.0     9600             7            6            8       1976   \n",
       "2         68.0    11250             5            7            5       2001   \n",
       "3         60.0     9550             6            7            5       1915   \n",
       "4         84.0    14260            10            8            5       2000   \n",
       "\n",
       "   YearRemodAdd  MasVnrArea  ExterQual  ExterCond  ...  SaleType_COD  \\\n",
       "0          2003       196.0          4          3  ...             0   \n",
       "1          1976         0.0          3          3  ...             0   \n",
       "2          2002       162.0          4          3  ...             0   \n",
       "3          1970         0.0          3          3  ...             0   \n",
       "4          2000       350.0          4          3  ...             0   \n",
       "\n",
       "   SaleType_New  SaleType_Other  SaleType_WD  SaleCondition_Abnorml  \\\n",
       "0             0               0            1                      0   \n",
       "1             0               0            1                      0   \n",
       "2             0               0            1                      0   \n",
       "3             0               0            1                      1   \n",
       "4             0               0            1                      0   \n",
       "\n",
       "   SaleCondition_AdjLand  SaleCondition_Alloca  SaleCondition_Family  \\\n",
       "0                      0                     0                     0   \n",
       "1                      0                     0                     0   \n",
       "2                      0                     0                     0   \n",
       "3                      0                     0                     0   \n",
       "4                      0                     0                     0   \n",
       "\n",
       "   SaleCondition_Normal  SaleCondition_Partial  \n",
       "0                     1                      0  \n",
       "1                     1                      0  \n",
       "2                     1                      0  \n",
       "3                     0                      0  \n",
       "4                     1                      0  \n",
       "\n",
       "[5 rows x 215 columns]"
      ]
     },
     "execution_count": 592,
     "metadata": {},
     "output_type": "execute_result"
    }
   ],
   "source": [
    "df.head()"
   ]
  },
  {
   "cell_type": "code",
   "execution_count": null,
   "metadata": {},
   "outputs": [],
   "source": []
  },
  {
   "cell_type": "markdown",
   "metadata": {},
   "source": [
    "# Feature Selection\n",
    "    \n",
    "     Based on Correlation and P-value "
   ]
  },
  {
   "cell_type": "code",
   "execution_count": 593,
   "metadata": {
    "ExecuteTime": {
     "end_time": "2020-08-27T11:44:21.881640Z",
     "start_time": "2020-08-27T11:44:21.512915Z"
    }
   },
   "outputs": [],
   "source": [
    "corr = df.corr()\n",
    "#Remove one of two features that have a correlation higher than 0.9\n",
    "columns = np.full((corr.shape[0],), True, dtype=bool)\n",
    "for i in range(corr.shape[0]):\n",
    "    for j in range(i+1, corr.shape[0]):\n",
    "        if corr.iloc[i,j] >= 0.9:\n",
    "            if columns[j]:\n",
    "                columns[j] = False\n",
    "selected_columns = df.columns[columns]\n",
    "\n",
    "df = df[selected_columns]"
   ]
  },
  {
   "cell_type": "code",
   "execution_count": 594,
   "metadata": {
    "ExecuteTime": {
     "end_time": "2020-08-27T11:44:29.371580Z",
     "start_time": "2020-08-27T11:44:23.788060Z"
    }
   },
   "outputs": [
    {
     "data": {
      "text/plain": [
       "119"
      ]
     },
     "execution_count": 594,
     "metadata": {},
     "output_type": "execute_result"
    }
   ],
   "source": [
    "import statsmodels.regression.linear_model as sm\n",
    "X=df.drop('SalePrice',axis=1).values\n",
    "y=df.loc[:,'SalePrice'].values\n",
    "\n",
    "selected_columns\n",
    "\n",
    "selected_columns=selected_columns.tolist()\n",
    "\n",
    "selected_columns.remove('SalePrice')\n",
    "\n",
    "selected_columns=np.array(selected_columns)\n",
    "\n",
    "numVars = len(selected_columns)-1\n",
    "for i in range(0, numVars):\n",
    "    regressor_OLS = sm.OLS(y, X).fit()\n",
    "    maxVar = max(regressor_OLS.pvalues).astype(float)\n",
    "    if maxVar > 0.05:\n",
    "        for j in range(0, numVars - i):\n",
    "            if (regressor_OLS.pvalues[j].astype(float) == maxVar):\n",
    "                X = np.delete(X, j, 1)\n",
    "                selected_columns = np.delete(selected_columns, j)\n",
    "\n",
    "selected_columns.size"
   ]
  },
  {
   "cell_type": "markdown",
   "metadata": {},
   "source": [
    "# Data Scaling and transformation"
   ]
  },
  {
   "cell_type": "code",
   "execution_count": 595,
   "metadata": {
    "ExecuteTime": {
     "end_time": "2020-08-27T11:44:32.163949Z",
     "start_time": "2020-08-27T11:44:32.148682Z"
    }
   },
   "outputs": [
    {
     "data": {
      "text/plain": [
       "array([12.24769432, 12.10901093, 12.31716669, ..., 12.49312952,\n",
       "       11.86446223, 11.90158345])"
      ]
     },
     "execution_count": 595,
     "metadata": {},
     "output_type": "execute_result"
    }
   ],
   "source": [
    "y=np.log(y)\n",
    "y"
   ]
  },
  {
   "cell_type": "code",
   "execution_count": 596,
   "metadata": {
    "ExecuteTime": {
     "end_time": "2020-08-27T11:44:35.085525Z",
     "start_time": "2020-08-27T11:44:35.077042Z"
    }
   },
   "outputs": [],
   "source": [
    "from sklearn.preprocessing import MinMaxScaler\n",
    "minmax = MinMaxScaler()\n",
    "X = minmax.fit_transform(X)"
   ]
  },
  {
   "cell_type": "code",
   "execution_count": 598,
   "metadata": {
    "ExecuteTime": {
     "end_time": "2020-08-27T11:44:56.610917Z",
     "start_time": "2020-08-27T11:44:56.551128Z"
    }
   },
   "outputs": [
    {
     "data": {
      "text/plain": [
       "0.9707082029962816"
      ]
     },
     "execution_count": 598,
     "metadata": {},
     "output_type": "execute_result"
    }
   ],
   "source": [
    "from sklearn.decomposition import PCA\n",
    "pca = PCA(n_components=60)\n",
    "X = pca.fit_transform(X)\n",
    "pca.explained_variance_ratio_.sum()"
   ]
  },
  {
   "cell_type": "markdown",
   "metadata": {},
   "source": [
    "# Model training and evaluation\n",
    "    SVR versus Ridge"
   ]
  },
  {
   "cell_type": "code",
   "execution_count": 599,
   "metadata": {
    "ExecuteTime": {
     "end_time": "2020-08-27T11:45:03.266430Z",
     "start_time": "2020-08-27T11:45:03.243581Z"
    }
   },
   "outputs": [
    {
     "data": {
      "text/plain": [
       "(1168, 60)"
      ]
     },
     "execution_count": 599,
     "metadata": {},
     "output_type": "execute_result"
    }
   ],
   "source": [
    "X_train_val, X_test, y_train_val, y_test = train_test_split(X, y, test_size=0.2,random_state=0)\n",
    "X_train_val.shape"
   ]
  },
  {
   "cell_type": "code",
   "execution_count": 521,
   "metadata": {
    "ExecuteTime": {
     "end_time": "2020-08-25T07:48:53.525475Z",
     "start_time": "2020-08-25T07:48:53.519047Z"
    }
   },
   "outputs": [],
   "source": [
    "from sklearn.svm import SVR\n",
    "\n",
    "from sklearn.model_selection import cross_val_score,GridSearchCV"
   ]
  },
  {
   "cell_type": "code",
   "execution_count": 522,
   "metadata": {
    "ExecuteTime": {
     "end_time": "2020-08-25T07:59:24.996984Z",
     "start_time": "2020-08-25T07:48:54.546531Z"
    }
   },
   "outputs": [
    {
     "data": {
      "text/plain": [
       "{'C': 10, 'gamma': 0.01, 'kernel': 'rbf'}"
      ]
     },
     "execution_count": 522,
     "metadata": {},
     "output_type": "execute_result"
    }
   ],
   "source": [
    "param_grid = [\n",
    "  {'C': [0.01,0.1,1, 10, 100, 1000], 'kernel': ['linear']},\n",
    "  {'C': [0.01,0.1,1, 10, 100, 1000], 'gamma': [100,10,1,0.1,0.01,0.001, 0.001], \\\n",
    "   'kernel': ['rbf']},]\n",
    "grid_search=GridSearchCV(SVR(),param_grid,cv=5)\n",
    "grid_search.fit(X_train_val,y_train_val)\n",
    "grid_search.best_params_"
   ]
  },
  {
   "cell_type": "code",
   "execution_count": 523,
   "metadata": {
    "ExecuteTime": {
     "end_time": "2020-08-25T07:59:30.448829Z",
     "start_time": "2020-08-25T07:59:30.433410Z"
    }
   },
   "outputs": [
    {
     "data": {
      "text/plain": [
       "0.8740967615493374"
      ]
     },
     "execution_count": 523,
     "metadata": {},
     "output_type": "execute_result"
    }
   ],
   "source": [
    "grid_search.best_score_"
   ]
  },
  {
   "cell_type": "code",
   "execution_count": 524,
   "metadata": {
    "ExecuteTime": {
     "end_time": "2020-08-25T07:59:34.165697Z",
     "start_time": "2020-08-25T07:59:34.145298Z"
    }
   },
   "outputs": [
    {
     "data": {
      "text/plain": [
       "0.8227719769328563"
      ]
     },
     "execution_count": 524,
     "metadata": {},
     "output_type": "execute_result"
    }
   ],
   "source": [
    "grid_search.score(X_test,y_test)"
   ]
  },
  {
   "cell_type": "code",
   "execution_count": 525,
   "metadata": {
    "ExecuteTime": {
     "end_time": "2020-08-25T07:59:42.743997Z",
     "start_time": "2020-08-25T07:59:42.722570Z"
    }
   },
   "outputs": [
    {
     "data": {
      "text/plain": [
       "0.16380566128834084"
      ]
     },
     "execution_count": 525,
     "metadata": {},
     "output_type": "execute_result"
    }
   ],
   "source": [
    "y_pred=grid_search.predict(X_test)\n",
    "from sklearn.metrics import mean_squared_error\n",
    "np.sqrt(mean_squared_error(y_test, y_pred))"
   ]
  },
  {
   "cell_type": "code",
   "execution_count": 528,
   "metadata": {
    "ExecuteTime": {
     "end_time": "2020-08-25T08:01:00.471162Z",
     "start_time": "2020-08-25T08:01:00.352684Z"
    }
   },
   "outputs": [
    {
     "name": "stdout",
     "output_type": "stream",
     "text": [
      "alpha= 0.0001\n",
      "Average R2_score:0.8641821784609308\n",
      "\n",
      "\n",
      "alpha= 0.001\n",
      "Average R2_score:0.8641834498060416\n",
      "\n",
      "\n",
      "alpha= 0.01\n",
      "Average R2_score:0.8641961175252617\n",
      "\n",
      "\n",
      "alpha= 0.1\n",
      "Average R2_score:0.8643182969380492\n",
      "\n",
      "\n",
      "alpha= 1\n",
      "Average R2_score:0.8651542752864443\n",
      "\n",
      "\n",
      "alpha= 10\n",
      "Average R2_score:0.8586766711174278\n",
      "\n",
      "\n",
      "alpha= 100\n",
      "Average R2_score:0.7414474467595763\n",
      "\n",
      "\n"
     ]
    }
   ],
   "source": [
    "from sklearn.linear_model import Ridge\n",
    "from sklearn.model_selection import cross_val_score\n",
    "for alpha in [0.0001,0.001,0.01,0.1,1,10,100]:\n",
    "    model = Ridge(alpha=alpha)\n",
    "    print(f'alpha= {alpha}')\n",
    "    print(f'Average R2_score:{ cross_val_score(model,X_train_val, y_train_val,cv=3).mean()}')\n",
    "    print('\\n')"
   ]
  },
  {
   "cell_type": "code",
   "execution_count": 530,
   "metadata": {
    "ExecuteTime": {
     "end_time": "2020-08-25T08:01:50.304297Z",
     "start_time": "2020-08-25T08:01:50.263109Z"
    }
   },
   "outputs": [
    {
     "data": {
      "text/plain": [
       "array([0.88259859, 0.8280492 , 0.85471439, 0.88222856, 0.8735736 ])"
      ]
     },
     "execution_count": 530,
     "metadata": {},
     "output_type": "execute_result"
    }
   ],
   "source": [
    "ridge_model=Ridge(alpha=10)\n",
    "ridge_model.fit(X_train_val, y_train_val)\n",
    "cross_val_score(ridge_model,X_train_val, y_train_val,cv=5)"
   ]
  },
  {
   "cell_type": "code",
   "execution_count": 531,
   "metadata": {
    "ExecuteTime": {
     "end_time": "2020-08-25T08:01:52.037624Z",
     "start_time": "2020-08-25T08:01:52.022792Z"
    }
   },
   "outputs": [
    {
     "data": {
      "text/plain": [
       "0.8241236833260553"
      ]
     },
     "execution_count": 531,
     "metadata": {},
     "output_type": "execute_result"
    }
   ],
   "source": [
    "ridge_model.score(X_test,y_test)"
   ]
  },
  {
   "cell_type": "code",
   "execution_count": 532,
   "metadata": {
    "ExecuteTime": {
     "end_time": "2020-08-25T08:01:56.962682Z",
     "start_time": "2020-08-25T08:01:56.951016Z"
    }
   },
   "outputs": [
    {
     "data": {
      "text/plain": [
       "0.1631797981856338"
      ]
     },
     "execution_count": 532,
     "metadata": {},
     "output_type": "execute_result"
    }
   ],
   "source": [
    "y_pred=ridge_model.predict(X_test)\n",
    "np.sqrt(mean_squared_error(y_test, y_pred))"
   ]
  },
  {
   "cell_type": "markdown",
   "metadata": {},
   "source": [
    "# Bias and Variance Analysis and Conclusions"
   ]
  },
  {
   "cell_type": "code",
   "execution_count": 534,
   "metadata": {
    "ExecuteTime": {
     "end_time": "2020-08-25T08:02:12.923461Z",
     "start_time": "2020-08-25T08:02:12.915057Z"
    }
   },
   "outputs": [],
   "source": [
    "def svr_bias_variance(X,y):\n",
    "    from mlxtend.evaluate import bias_variance_decomp\n",
    "    X_train, X_test, y_train, y_test = train_test_split(X, y,\n",
    "                                                    test_size=0.3,\n",
    "                                                    random_state=123,\n",
    "                                                    shuffle=True)\n",
    "    model = SVR(C=10, gamma=0.01, kernel='rbf')\n",
    "\n",
    "    avg_expected_loss, avg_bias, avg_var = bias_variance_decomp(\n",
    "        model, X_train, y_train, X_test, y_test, \n",
    "        loss='mse',\n",
    "        random_seed=123)\n",
    "\n",
    "    print('Average expected loss: %.3f' % avg_expected_loss)\n",
    "    print('Average bias: %.3f' % avg_bias)\n",
    "    print('Average variance: %.3f' % avg_var)"
   ]
  },
  {
   "cell_type": "code",
   "execution_count": 535,
   "metadata": {
    "ExecuteTime": {
     "end_time": "2020-08-25T08:02:25.355001Z",
     "start_time": "2020-08-25T08:02:25.336929Z"
    }
   },
   "outputs": [],
   "source": [
    "def ridge_bias_variance(X,y):\n",
    "    from mlxtend.evaluate import bias_variance_decomp\n",
    "    X_train, X_test, y_train, y_test = train_test_split(X, y,\n",
    "                                                    test_size=0.3,\n",
    "                                                    random_state=123,\n",
    "                                                    shuffle=True)\n",
    "    model = Ridge(alpha=10)\n",
    "\n",
    "    avg_expected_loss, avg_bias, avg_var = bias_variance_decomp(\n",
    "        model, X_train, y_train, X_test, y_test, \n",
    "        loss='mse',\n",
    "        random_seed=123)\n",
    "\n",
    "    print('Average expected loss: %.3f' % avg_expected_loss)\n",
    "    print('Average bias: %.3f' % avg_bias)\n",
    "    print('Average variance: %.3f' % avg_var)"
   ]
  },
  {
   "cell_type": "code",
   "execution_count": 539,
   "metadata": {
    "ExecuteTime": {
     "end_time": "2020-08-25T08:05:40.690706Z",
     "start_time": "2020-08-25T08:05:25.110593Z"
    },
    "scrolled": true
   },
   "outputs": [
    {
     "name": "stdout",
     "output_type": "stream",
     "text": [
      "Bias and Variance of SVR model:\n",
      "Average expected loss: 0.378\n",
      "Average bias: 0.354\n",
      "Average variance: 0.023\n",
      "\n",
      " Bias and Variance of Ridge model:\n",
      "Average expected loss: 0.378\n",
      "Average bias: 0.362\n",
      "Average variance: 0.016\n"
     ]
    }
   ],
   "source": [
    "print('Bias and Variance of SVR model:')\n",
    "svr_bias_variance(X,y)\n",
    "print('\\n Bias and Variance of Ridge model:')\n",
    "ridge_bias_variance(X,y)"
   ]
  },
  {
   "cell_type": "code",
   "execution_count": 533,
   "metadata": {
    "ExecuteTime": {
     "end_time": "2020-08-25T08:02:02.045611Z",
     "start_time": "2020-08-25T08:02:02.025022Z"
    }
   },
   "outputs": [
    {
     "name": "stdout",
     "output_type": "stream",
     "text": [
      "Performance of SVM on unseen data: \n",
      "    R2 score: 0.8227719769328563\n",
      "\n",
      "Performance of Ridge on unseen data: \n",
      "   R2 score: 0.8241236833260553\n"
     ]
    }
   ],
   "source": [
    "print(f'Performance of SVM on unseen data: \\n    R2 score: {grid_search.score(X_test,y_test)}\\n' )\n",
    "print(f'Performance of Ridge on unseen data: \\n   R2 score: {ridge_model.score(X_test,y_test)}' )"
   ]
  },
  {
   "cell_type": "markdown",
   "metadata": {},
   "source": [
    "\n",
    "- **SVM model's performance on unseen data is  similar as Ridge**\n",
    "- **Bias is the problem**"
   ]
  },
  {
   "cell_type": "markdown",
   "metadata": {},
   "source": [
    "# solution\n",
    "- Collect more valuable features\n",
    "- Manully creat new features from existing features\n",
    "- Change feature selection strategy"
   ]
  },
  {
   "cell_type": "code",
   "execution_count": 559,
   "metadata": {
    "ExecuteTime": {
     "end_time": "2020-08-27T11:41:10.972520Z",
     "start_time": "2020-08-27T11:41:10.956042Z"
    }
   },
   "outputs": [],
   "source": [
    "X=df.drop('SalePrice',axis=1).values\n",
    "y=df.loc[:,'SalePrice'].values"
   ]
  },
  {
   "cell_type": "code",
   "execution_count": 562,
   "metadata": {
    "ExecuteTime": {
     "end_time": "2020-08-27T11:41:37.625317Z",
     "start_time": "2020-08-27T11:41:37.617511Z"
    }
   },
   "outputs": [
    {
     "data": {
      "text/plain": [
       "12.24769911637256"
      ]
     },
     "execution_count": 562,
     "metadata": {},
     "output_type": "execute_result"
    }
   ],
   "source": [
    "y[0]"
   ]
  },
  {
   "cell_type": "code",
   "execution_count": 600,
   "metadata": {
    "ExecuteTime": {
     "end_time": "2020-08-27T11:45:17.387151Z",
     "start_time": "2020-08-27T11:45:17.380701Z"
    }
   },
   "outputs": [],
   "source": [
    "from pyearth import Earth\n",
    "\n",
    "mars = Earth(max_degree=1, penalty=1.0, endspan=5)"
   ]
  },
  {
   "cell_type": "code",
   "execution_count": 601,
   "metadata": {
    "ExecuteTime": {
     "end_time": "2020-08-27T11:46:31.216689Z",
     "start_time": "2020-08-27T11:45:20.874510Z"
    }
   },
   "outputs": [
    {
     "data": {
      "text/plain": [
       "0.8161191027788333"
      ]
     },
     "execution_count": 601,
     "metadata": {},
     "output_type": "execute_result"
    }
   ],
   "source": [
    "# gbrmars=AdaBoostRegressor(base_estimator=mars,)\n",
    "\n",
    "cross_val_score(mars,X,y,cv=5).mean()\n",
    "\n",
    "# boosted_model = AdaBoostRegressor(base_estimator=mars, n_estimators=25,\n",
    "#                                   learning_rate=0.1, loss=\"exponential\")"
   ]
  },
  {
   "cell_type": "code",
   "execution_count": null,
   "metadata": {},
   "outputs": [],
   "source": [
    "from sklearn.metrics import mean_squared_error\n",
    "from math import sqrt\n",
    "\n",
    "rms = sqrt(mean_squared_error(y_actual, y_predicted))"
   ]
  },
  {
   "cell_type": "code",
   "execution_count": 544,
   "metadata": {
    "ExecuteTime": {
     "end_time": "2020-08-27T10:48:00.672015Z",
     "start_time": "2020-08-27T10:48:00.657424Z"
    }
   },
   "outputs": [],
   "source": [
    "from sklearn.ensemble import AdaBoostRegressor\n",
    "boosted_model = AdaBoostRegressor(base_estimator=mars, n_estimators=25,\n",
    "                                  learning_rate=0.1, loss=\"exponential\")"
   ]
  },
  {
   "cell_type": "code",
   "execution_count": 602,
   "metadata": {
    "ExecuteTime": {
     "end_time": "2020-08-27T12:04:19.129143Z",
     "start_time": "2020-08-27T11:47:15.899930Z"
    }
   },
   "outputs": [
    {
     "data": {
      "text/plain": [
       "0.7875485427633672"
      ]
     },
     "execution_count": 602,
     "metadata": {},
     "output_type": "execute_result"
    }
   ],
   "source": [
    "cross_val_score(boosted_model,X,y,cv=3).mean()\n"
   ]
  },
  {
   "cell_type": "code",
   "execution_count": null,
   "metadata": {},
   "outputs": [],
   "source": []
  }
 ],
 "metadata": {
  "kernelspec": {
   "display_name": "Python 3",
   "language": "python",
   "name": "python3"
  },
  "language_info": {
   "codemirror_mode": {
    "name": "ipython",
    "version": 3
   },
   "file_extension": ".py",
   "mimetype": "text/x-python",
   "name": "python",
   "nbconvert_exporter": "python",
   "pygments_lexer": "ipython3",
   "version": "3.7.6"
  },
  "latex_envs": {
   "LaTeX_envs_menu_present": true,
   "autoclose": false,
   "autocomplete": true,
   "bibliofile": "biblio.bib",
   "cite_by": "apalike",
   "current_citInitial": 1,
   "eqLabelWithNumbers": true,
   "eqNumInitial": 1,
   "hotkeys": {
    "equation": "Ctrl-E",
    "itemize": "Ctrl-I"
   },
   "labels_anchors": false,
   "latex_user_defs": false,
   "report_style_numbering": false,
   "user_envs_cfg": false
  },
  "toc": {
   "base_numbering": 1,
   "nav_menu": {},
   "number_sections": true,
   "sideBar": true,
   "skip_h1_title": false,
   "title_cell": "Table of Contents",
   "title_sidebar": "Contents",
   "toc_cell": false,
   "toc_position": {
    "height": "calc(100% - 180px)",
    "left": "10px",
    "top": "150px",
    "width": "256px"
   },
   "toc_section_display": true,
   "toc_window_display": true
  },
  "varInspector": {
   "cols": {
    "lenName": 16,
    "lenType": 16,
    "lenVar": 40
   },
   "kernels_config": {
    "python": {
     "delete_cmd_postfix": "",
     "delete_cmd_prefix": "del ",
     "library": "var_list.py",
     "varRefreshCmd": "print(var_dic_list())"
    },
    "r": {
     "delete_cmd_postfix": ") ",
     "delete_cmd_prefix": "rm(",
     "library": "var_list.r",
     "varRefreshCmd": "cat(var_dic_list()) "
    }
   },
   "types_to_exclude": [
    "module",
    "function",
    "builtin_function_or_method",
    "instance",
    "_Feature"
   ],
   "window_display": false
  }
 },
 "nbformat": 4,
 "nbformat_minor": 2
}
