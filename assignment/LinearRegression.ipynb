{
 "cells": [
  {
   "cell_type": "code",
   "execution_count": 1,
   "metadata": {
    "ExecuteTime": {
     "end_time": "2020-08-17T08:00:57.252020Z",
     "start_time": "2020-08-17T08:00:55.784379Z"
    },
    "scrolled": true
   },
   "outputs": [],
   "source": [
    "import numpy as np\n",
    "import pandas as pd\n",
    "import matplotlib.pyplot as plt\n",
    "import seaborn as sns\n",
    "from sklearn.model_selection import train_test_split\n",
    "from sklearn.linear_model import LinearRegression\n",
    "from sklearn.metrics import mean_squared_error\n",
    "from sklearn.metrics import mean_absolute_error\n",
    "from sklearn.metrics import r2_score\n",
    "from sklearn.metrics import accuracy_score\n",
    "%matplotlib inline"
   ]
  },
  {
   "cell_type": "code",
   "execution_count": 2,
   "metadata": {
    "ExecuteTime": {
     "end_time": "2020-08-17T08:00:57.899095Z",
     "start_time": "2020-08-17T08:00:57.880675Z"
    }
   },
   "outputs": [],
   "source": [
    "df = pd.read_csv('winequality-red.csv')"
   ]
  },
  {
   "cell_type": "code",
   "execution_count": 3,
   "metadata": {
    "ExecuteTime": {
     "end_time": "2020-08-17T08:00:58.793959Z",
     "start_time": "2020-08-17T08:00:58.753515Z"
    }
   },
   "outputs": [
    {
     "data": {
      "text/html": [
       "<div>\n",
       "<style scoped>\n",
       "    .dataframe tbody tr th:only-of-type {\n",
       "        vertical-align: middle;\n",
       "    }\n",
       "\n",
       "    .dataframe tbody tr th {\n",
       "        vertical-align: top;\n",
       "    }\n",
       "\n",
       "    .dataframe thead th {\n",
       "        text-align: right;\n",
       "    }\n",
       "</style>\n",
       "<table border=\"1\" class=\"dataframe\">\n",
       "  <thead>\n",
       "    <tr style=\"text-align: right;\">\n",
       "      <th></th>\n",
       "      <th>fixed acidity</th>\n",
       "      <th>volatile acidity</th>\n",
       "      <th>citric acid</th>\n",
       "      <th>residual sugar</th>\n",
       "      <th>chlorides</th>\n",
       "      <th>free sulfur dioxide</th>\n",
       "      <th>total sulfur dioxide</th>\n",
       "      <th>density</th>\n",
       "      <th>pH</th>\n",
       "      <th>sulphates</th>\n",
       "      <th>alcohol</th>\n",
       "      <th>quality</th>\n",
       "    </tr>\n",
       "  </thead>\n",
       "  <tbody>\n",
       "    <tr>\n",
       "      <th>0</th>\n",
       "      <td>7.4</td>\n",
       "      <td>0.70</td>\n",
       "      <td>0.00</td>\n",
       "      <td>1.9</td>\n",
       "      <td>0.076</td>\n",
       "      <td>11.0</td>\n",
       "      <td>34.0</td>\n",
       "      <td>0.9978</td>\n",
       "      <td>3.51</td>\n",
       "      <td>0.56</td>\n",
       "      <td>9.4</td>\n",
       "      <td>5</td>\n",
       "    </tr>\n",
       "    <tr>\n",
       "      <th>1</th>\n",
       "      <td>7.8</td>\n",
       "      <td>0.88</td>\n",
       "      <td>0.00</td>\n",
       "      <td>2.6</td>\n",
       "      <td>0.098</td>\n",
       "      <td>25.0</td>\n",
       "      <td>67.0</td>\n",
       "      <td>0.9968</td>\n",
       "      <td>3.20</td>\n",
       "      <td>0.68</td>\n",
       "      <td>9.8</td>\n",
       "      <td>5</td>\n",
       "    </tr>\n",
       "    <tr>\n",
       "      <th>2</th>\n",
       "      <td>7.8</td>\n",
       "      <td>0.76</td>\n",
       "      <td>0.04</td>\n",
       "      <td>2.3</td>\n",
       "      <td>0.092</td>\n",
       "      <td>15.0</td>\n",
       "      <td>54.0</td>\n",
       "      <td>0.9970</td>\n",
       "      <td>3.26</td>\n",
       "      <td>0.65</td>\n",
       "      <td>9.8</td>\n",
       "      <td>5</td>\n",
       "    </tr>\n",
       "    <tr>\n",
       "      <th>3</th>\n",
       "      <td>11.2</td>\n",
       "      <td>0.28</td>\n",
       "      <td>0.56</td>\n",
       "      <td>1.9</td>\n",
       "      <td>0.075</td>\n",
       "      <td>17.0</td>\n",
       "      <td>60.0</td>\n",
       "      <td>0.9980</td>\n",
       "      <td>3.16</td>\n",
       "      <td>0.58</td>\n",
       "      <td>9.8</td>\n",
       "      <td>6</td>\n",
       "    </tr>\n",
       "    <tr>\n",
       "      <th>4</th>\n",
       "      <td>7.4</td>\n",
       "      <td>0.70</td>\n",
       "      <td>0.00</td>\n",
       "      <td>1.9</td>\n",
       "      <td>0.076</td>\n",
       "      <td>11.0</td>\n",
       "      <td>34.0</td>\n",
       "      <td>0.9978</td>\n",
       "      <td>3.51</td>\n",
       "      <td>0.56</td>\n",
       "      <td>9.4</td>\n",
       "      <td>5</td>\n",
       "    </tr>\n",
       "  </tbody>\n",
       "</table>\n",
       "</div>"
      ],
      "text/plain": [
       "   fixed acidity  volatile acidity  citric acid  residual sugar  chlorides  \\\n",
       "0            7.4              0.70         0.00             1.9      0.076   \n",
       "1            7.8              0.88         0.00             2.6      0.098   \n",
       "2            7.8              0.76         0.04             2.3      0.092   \n",
       "3           11.2              0.28         0.56             1.9      0.075   \n",
       "4            7.4              0.70         0.00             1.9      0.076   \n",
       "\n",
       "   free sulfur dioxide  total sulfur dioxide  density    pH  sulphates  \\\n",
       "0                 11.0                  34.0   0.9978  3.51       0.56   \n",
       "1                 25.0                  67.0   0.9968  3.20       0.68   \n",
       "2                 15.0                  54.0   0.9970  3.26       0.65   \n",
       "3                 17.0                  60.0   0.9980  3.16       0.58   \n",
       "4                 11.0                  34.0   0.9978  3.51       0.56   \n",
       "\n",
       "   alcohol  quality  \n",
       "0      9.4        5  \n",
       "1      9.8        5  \n",
       "2      9.8        5  \n",
       "3      9.8        6  \n",
       "4      9.4        5  "
      ]
     },
     "execution_count": 3,
     "metadata": {},
     "output_type": "execute_result"
    }
   ],
   "source": [
    "df.head()"
   ]
  },
  {
   "cell_type": "code",
   "execution_count": 4,
   "metadata": {
    "ExecuteTime": {
     "end_time": "2020-08-17T08:00:59.646507Z",
     "start_time": "2020-08-17T08:00:59.628213Z"
    }
   },
   "outputs": [
    {
     "name": "stdout",
     "output_type": "stream",
     "text": [
      "<class 'pandas.core.frame.DataFrame'>\n",
      "RangeIndex: 1599 entries, 0 to 1598\n",
      "Data columns (total 12 columns):\n",
      " #   Column                Non-Null Count  Dtype  \n",
      "---  ------                --------------  -----  \n",
      " 0   fixed acidity         1599 non-null   float64\n",
      " 1   volatile acidity      1599 non-null   float64\n",
      " 2   citric acid           1599 non-null   float64\n",
      " 3   residual sugar        1599 non-null   float64\n",
      " 4   chlorides             1599 non-null   float64\n",
      " 5   free sulfur dioxide   1599 non-null   float64\n",
      " 6   total sulfur dioxide  1599 non-null   float64\n",
      " 7   density               1599 non-null   float64\n",
      " 8   pH                    1599 non-null   float64\n",
      " 9   sulphates             1599 non-null   float64\n",
      " 10  alcohol               1599 non-null   float64\n",
      " 11  quality               1599 non-null   int64  \n",
      "dtypes: float64(11), int64(1)\n",
      "memory usage: 150.0 KB\n"
     ]
    }
   ],
   "source": [
    "df.info()\n",
    "#df.isnull().any() "
   ]
  },
  {
   "cell_type": "code",
   "execution_count": 5,
   "metadata": {
    "ExecuteTime": {
     "end_time": "2020-08-17T08:01:00.362873Z",
     "start_time": "2020-08-17T08:01:00.282331Z"
    }
   },
   "outputs": [
    {
     "data": {
      "text/html": [
       "<div>\n",
       "<style scoped>\n",
       "    .dataframe tbody tr th:only-of-type {\n",
       "        vertical-align: middle;\n",
       "    }\n",
       "\n",
       "    .dataframe tbody tr th {\n",
       "        vertical-align: top;\n",
       "    }\n",
       "\n",
       "    .dataframe thead th {\n",
       "        text-align: right;\n",
       "    }\n",
       "</style>\n",
       "<table border=\"1\" class=\"dataframe\">\n",
       "  <thead>\n",
       "    <tr style=\"text-align: right;\">\n",
       "      <th></th>\n",
       "      <th>fixed acidity</th>\n",
       "      <th>volatile acidity</th>\n",
       "      <th>citric acid</th>\n",
       "      <th>residual sugar</th>\n",
       "      <th>chlorides</th>\n",
       "      <th>free sulfur dioxide</th>\n",
       "      <th>total sulfur dioxide</th>\n",
       "      <th>density</th>\n",
       "      <th>pH</th>\n",
       "      <th>sulphates</th>\n",
       "      <th>alcohol</th>\n",
       "      <th>quality</th>\n",
       "    </tr>\n",
       "  </thead>\n",
       "  <tbody>\n",
       "    <tr>\n",
       "      <th>count</th>\n",
       "      <td>1599.000000</td>\n",
       "      <td>1599.000000</td>\n",
       "      <td>1599.000000</td>\n",
       "      <td>1599.000000</td>\n",
       "      <td>1599.000000</td>\n",
       "      <td>1599.000000</td>\n",
       "      <td>1599.000000</td>\n",
       "      <td>1599.000000</td>\n",
       "      <td>1599.000000</td>\n",
       "      <td>1599.000000</td>\n",
       "      <td>1599.000000</td>\n",
       "      <td>1599.000000</td>\n",
       "    </tr>\n",
       "    <tr>\n",
       "      <th>mean</th>\n",
       "      <td>8.319637</td>\n",
       "      <td>0.527821</td>\n",
       "      <td>0.270976</td>\n",
       "      <td>2.538806</td>\n",
       "      <td>0.087467</td>\n",
       "      <td>15.874922</td>\n",
       "      <td>46.467792</td>\n",
       "      <td>0.996747</td>\n",
       "      <td>3.311113</td>\n",
       "      <td>0.658149</td>\n",
       "      <td>10.422983</td>\n",
       "      <td>5.636023</td>\n",
       "    </tr>\n",
       "    <tr>\n",
       "      <th>std</th>\n",
       "      <td>1.741096</td>\n",
       "      <td>0.179060</td>\n",
       "      <td>0.194801</td>\n",
       "      <td>1.409928</td>\n",
       "      <td>0.047065</td>\n",
       "      <td>10.460157</td>\n",
       "      <td>32.895324</td>\n",
       "      <td>0.001887</td>\n",
       "      <td>0.154386</td>\n",
       "      <td>0.169507</td>\n",
       "      <td>1.065668</td>\n",
       "      <td>0.807569</td>\n",
       "    </tr>\n",
       "    <tr>\n",
       "      <th>min</th>\n",
       "      <td>4.600000</td>\n",
       "      <td>0.120000</td>\n",
       "      <td>0.000000</td>\n",
       "      <td>0.900000</td>\n",
       "      <td>0.012000</td>\n",
       "      <td>1.000000</td>\n",
       "      <td>6.000000</td>\n",
       "      <td>0.990070</td>\n",
       "      <td>2.740000</td>\n",
       "      <td>0.330000</td>\n",
       "      <td>8.400000</td>\n",
       "      <td>3.000000</td>\n",
       "    </tr>\n",
       "    <tr>\n",
       "      <th>25%</th>\n",
       "      <td>7.100000</td>\n",
       "      <td>0.390000</td>\n",
       "      <td>0.090000</td>\n",
       "      <td>1.900000</td>\n",
       "      <td>0.070000</td>\n",
       "      <td>7.000000</td>\n",
       "      <td>22.000000</td>\n",
       "      <td>0.995600</td>\n",
       "      <td>3.210000</td>\n",
       "      <td>0.550000</td>\n",
       "      <td>9.500000</td>\n",
       "      <td>5.000000</td>\n",
       "    </tr>\n",
       "    <tr>\n",
       "      <th>50%</th>\n",
       "      <td>7.900000</td>\n",
       "      <td>0.520000</td>\n",
       "      <td>0.260000</td>\n",
       "      <td>2.200000</td>\n",
       "      <td>0.079000</td>\n",
       "      <td>14.000000</td>\n",
       "      <td>38.000000</td>\n",
       "      <td>0.996750</td>\n",
       "      <td>3.310000</td>\n",
       "      <td>0.620000</td>\n",
       "      <td>10.200000</td>\n",
       "      <td>6.000000</td>\n",
       "    </tr>\n",
       "    <tr>\n",
       "      <th>75%</th>\n",
       "      <td>9.200000</td>\n",
       "      <td>0.640000</td>\n",
       "      <td>0.420000</td>\n",
       "      <td>2.600000</td>\n",
       "      <td>0.090000</td>\n",
       "      <td>21.000000</td>\n",
       "      <td>62.000000</td>\n",
       "      <td>0.997835</td>\n",
       "      <td>3.400000</td>\n",
       "      <td>0.730000</td>\n",
       "      <td>11.100000</td>\n",
       "      <td>6.000000</td>\n",
       "    </tr>\n",
       "    <tr>\n",
       "      <th>max</th>\n",
       "      <td>15.900000</td>\n",
       "      <td>1.580000</td>\n",
       "      <td>1.000000</td>\n",
       "      <td>15.500000</td>\n",
       "      <td>0.611000</td>\n",
       "      <td>72.000000</td>\n",
       "      <td>289.000000</td>\n",
       "      <td>1.003690</td>\n",
       "      <td>4.010000</td>\n",
       "      <td>2.000000</td>\n",
       "      <td>14.900000</td>\n",
       "      <td>8.000000</td>\n",
       "    </tr>\n",
       "  </tbody>\n",
       "</table>\n",
       "</div>"
      ],
      "text/plain": [
       "       fixed acidity  volatile acidity  citric acid  residual sugar  \\\n",
       "count    1599.000000       1599.000000  1599.000000     1599.000000   \n",
       "mean        8.319637          0.527821     0.270976        2.538806   \n",
       "std         1.741096          0.179060     0.194801        1.409928   \n",
       "min         4.600000          0.120000     0.000000        0.900000   \n",
       "25%         7.100000          0.390000     0.090000        1.900000   \n",
       "50%         7.900000          0.520000     0.260000        2.200000   \n",
       "75%         9.200000          0.640000     0.420000        2.600000   \n",
       "max        15.900000          1.580000     1.000000       15.500000   \n",
       "\n",
       "         chlorides  free sulfur dioxide  total sulfur dioxide      density  \\\n",
       "count  1599.000000          1599.000000           1599.000000  1599.000000   \n",
       "mean      0.087467            15.874922             46.467792     0.996747   \n",
       "std       0.047065            10.460157             32.895324     0.001887   \n",
       "min       0.012000             1.000000              6.000000     0.990070   \n",
       "25%       0.070000             7.000000             22.000000     0.995600   \n",
       "50%       0.079000            14.000000             38.000000     0.996750   \n",
       "75%       0.090000            21.000000             62.000000     0.997835   \n",
       "max       0.611000            72.000000            289.000000     1.003690   \n",
       "\n",
       "                pH    sulphates      alcohol      quality  \n",
       "count  1599.000000  1599.000000  1599.000000  1599.000000  \n",
       "mean      3.311113     0.658149    10.422983     5.636023  \n",
       "std       0.154386     0.169507     1.065668     0.807569  \n",
       "min       2.740000     0.330000     8.400000     3.000000  \n",
       "25%       3.210000     0.550000     9.500000     5.000000  \n",
       "50%       3.310000     0.620000    10.200000     6.000000  \n",
       "75%       3.400000     0.730000    11.100000     6.000000  \n",
       "max       4.010000     2.000000    14.900000     8.000000  "
      ]
     },
     "execution_count": 5,
     "metadata": {},
     "output_type": "execute_result"
    }
   ],
   "source": [
    "df.describe()"
   ]
  },
  {
   "cell_type": "code",
   "execution_count": 6,
   "metadata": {
    "ExecuteTime": {
     "end_time": "2020-08-17T08:01:00.966687Z",
     "start_time": "2020-08-17T08:01:00.957970Z"
    }
   },
   "outputs": [],
   "source": [
    "X = df[df.columns[0:10]]"
   ]
  },
  {
   "cell_type": "code",
   "execution_count": 7,
   "metadata": {
    "ExecuteTime": {
     "end_time": "2020-08-17T08:01:01.615366Z",
     "start_time": "2020-08-17T08:01:01.606707Z"
    }
   },
   "outputs": [],
   "source": [
    "y = df['quality']"
   ]
  },
  {
   "cell_type": "code",
   "execution_count": 8,
   "metadata": {
    "ExecuteTime": {
     "end_time": "2020-08-17T08:01:02.213351Z",
     "start_time": "2020-08-17T08:01:02.200049Z"
    }
   },
   "outputs": [],
   "source": [
    "X_train,X_test,y_train,y_test = train_test_split(X,y,test_size = 0.2, random_state = 0) "
   ]
  },
  {
   "cell_type": "code",
   "execution_count": 9,
   "metadata": {
    "ExecuteTime": {
     "end_time": "2020-08-17T08:01:02.834223Z",
     "start_time": "2020-08-17T08:01:02.787899Z"
    }
   },
   "outputs": [
    {
     "data": {
      "text/plain": [
       "LinearRegression(copy_X=True, fit_intercept=True, n_jobs=None, normalize=False)"
      ]
     },
     "execution_count": 9,
     "metadata": {},
     "output_type": "execute_result"
    }
   ],
   "source": [
    "regressor = LinearRegression()\n",
    "regressor.fit(X_train,y_train)"
   ]
  },
  {
   "cell_type": "code",
   "execution_count": 10,
   "metadata": {
    "ExecuteTime": {
     "end_time": "2020-08-17T08:01:03.433969Z",
     "start_time": "2020-08-17T08:01:03.413149Z"
    }
   },
   "outputs": [
    {
     "data": {
      "text/html": [
       "<div>\n",
       "<style scoped>\n",
       "    .dataframe tbody tr th:only-of-type {\n",
       "        vertical-align: middle;\n",
       "    }\n",
       "\n",
       "    .dataframe tbody tr th {\n",
       "        vertical-align: top;\n",
       "    }\n",
       "\n",
       "    .dataframe thead th {\n",
       "        text-align: right;\n",
       "    }\n",
       "</style>\n",
       "<table border=\"1\" class=\"dataframe\">\n",
       "  <thead>\n",
       "    <tr style=\"text-align: right;\">\n",
       "      <th></th>\n",
       "      <th>Coefficient</th>\n",
       "    </tr>\n",
       "  </thead>\n",
       "  <tbody>\n",
       "    <tr>\n",
       "      <th>fixed acidity</th>\n",
       "      <td>0.182368</td>\n",
       "    </tr>\n",
       "    <tr>\n",
       "      <th>volatile acidity</th>\n",
       "      <td>-1.037826</td>\n",
       "    </tr>\n",
       "    <tr>\n",
       "      <th>citric acid</th>\n",
       "      <td>0.041427</td>\n",
       "    </tr>\n",
       "    <tr>\n",
       "      <th>residual sugar</th>\n",
       "      <td>0.102766</td>\n",
       "    </tr>\n",
       "    <tr>\n",
       "      <th>chlorides</th>\n",
       "      <td>-2.229348</td>\n",
       "    </tr>\n",
       "    <tr>\n",
       "      <th>free sulfur dioxide</th>\n",
       "      <td>0.001635</td>\n",
       "    </tr>\n",
       "    <tr>\n",
       "      <th>total sulfur dioxide</th>\n",
       "      <td>-0.003255</td>\n",
       "    </tr>\n",
       "    <tr>\n",
       "      <th>density</th>\n",
       "      <td>-196.846814</td>\n",
       "    </tr>\n",
       "    <tr>\n",
       "      <th>pH</th>\n",
       "      <td>0.749746</td>\n",
       "    </tr>\n",
       "    <tr>\n",
       "      <th>sulphates</th>\n",
       "      <td>1.271346</td>\n",
       "    </tr>\n",
       "  </tbody>\n",
       "</table>\n",
       "</div>"
      ],
      "text/plain": [
       "                      Coefficient\n",
       "fixed acidity            0.182368\n",
       "volatile acidity        -1.037826\n",
       "citric acid              0.041427\n",
       "residual sugar           0.102766\n",
       "chlorides               -2.229348\n",
       "free sulfur dioxide      0.001635\n",
       "total sulfur dioxide    -0.003255\n",
       "density               -196.846814\n",
       "pH                       0.749746\n",
       "sulphates                1.271346"
      ]
     },
     "execution_count": 10,
     "metadata": {},
     "output_type": "execute_result"
    }
   ],
   "source": [
    "coeff_df = pd.DataFrame(regressor.coef_, index = X.columns, columns=['Coefficient'])  \n",
    "coeff_df"
   ]
  },
  {
   "cell_type": "code",
   "execution_count": 11,
   "metadata": {
    "ExecuteTime": {
     "end_time": "2020-08-17T08:01:06.010719Z",
     "start_time": "2020-08-17T08:01:06.000825Z"
    }
   },
   "outputs": [],
   "source": [
    "y_pred = regressor.predict(X_test)"
   ]
  },
  {
   "cell_type": "code",
   "execution_count": 16,
   "metadata": {
    "ExecuteTime": {
     "end_time": "2020-08-17T08:02:24.053214Z",
     "start_time": "2020-08-17T08:02:23.837800Z"
    }
   },
   "outputs": [
    {
     "data": {
      "text/plain": [
       "<matplotlib.axes._subplots.AxesSubplot at 0x7fd80439db90>"
      ]
     },
     "execution_count": 16,
     "metadata": {},
     "output_type": "execute_result"
    },
    {
     "data": {
      "image/png": "[encoded data removed]",
      "text/plain": [
       "<Figure size 432x288 with 1 Axes>"
      ]
     },
     "metadata": {
      "needs_background": "light"
     },
     "output_type": "display_data"
    }
   ],
   "source": [
    "df_output.plot('Actual value','Predicted value',kind='scatter')"
   ]
  },
  {
   "cell_type": "code",
   "execution_count": 12,
   "metadata": {
    "ExecuteTime": {
     "end_time": "2020-08-17T08:01:06.904611Z",
     "start_time": "2020-08-17T08:01:06.885584Z"
    }
   },
   "outputs": [
    {
     "data": {
      "text/html": [
       "<div>\n",
       "<style scoped>\n",
       "    .dataframe tbody tr th:only-of-type {\n",
       "        vertical-align: middle;\n",
       "    }\n",
       "\n",
       "    .dataframe tbody tr th {\n",
       "        vertical-align: top;\n",
       "    }\n",
       "\n",
       "    .dataframe thead th {\n",
       "        text-align: right;\n",
       "    }\n",
       "</style>\n",
       "<table border=\"1\" class=\"dataframe\">\n",
       "  <thead>\n",
       "    <tr style=\"text-align: right;\">\n",
       "      <th></th>\n",
       "      <th>Actual value</th>\n",
       "      <th>Predicted value</th>\n",
       "    </tr>\n",
       "  </thead>\n",
       "  <tbody>\n",
       "    <tr>\n",
       "      <th>1109</th>\n",
       "      <td>6</td>\n",
       "      <td>5.626699</td>\n",
       "    </tr>\n",
       "    <tr>\n",
       "      <th>1032</th>\n",
       "      <td>5</td>\n",
       "      <td>5.044625</td>\n",
       "    </tr>\n",
       "    <tr>\n",
       "      <th>1002</th>\n",
       "      <td>7</td>\n",
       "      <td>6.606630</td>\n",
       "    </tr>\n",
       "    <tr>\n",
       "      <th>487</th>\n",
       "      <td>6</td>\n",
       "      <td>5.266029</td>\n",
       "    </tr>\n",
       "    <tr>\n",
       "      <th>979</th>\n",
       "      <td>5</td>\n",
       "      <td>6.264039</td>\n",
       "    </tr>\n",
       "    <tr>\n",
       "      <th>1054</th>\n",
       "      <td>6</td>\n",
       "      <td>4.992569</td>\n",
       "    </tr>\n",
       "    <tr>\n",
       "      <th>542</th>\n",
       "      <td>5</td>\n",
       "      <td>5.491274</td>\n",
       "    </tr>\n",
       "    <tr>\n",
       "      <th>853</th>\n",
       "      <td>6</td>\n",
       "      <td>6.183053</td>\n",
       "    </tr>\n",
       "    <tr>\n",
       "      <th>1189</th>\n",
       "      <td>4</td>\n",
       "      <td>5.135285</td>\n",
       "    </tr>\n",
       "    <tr>\n",
       "      <th>412</th>\n",
       "      <td>5</td>\n",
       "      <td>4.985393</td>\n",
       "    </tr>\n",
       "    <tr>\n",
       "      <th>1099</th>\n",
       "      <td>5</td>\n",
       "      <td>5.417855</td>\n",
       "    </tr>\n",
       "    <tr>\n",
       "      <th>475</th>\n",
       "      <td>5</td>\n",
       "      <td>5.123290</td>\n",
       "    </tr>\n",
       "    <tr>\n",
       "      <th>799</th>\n",
       "      <td>6</td>\n",
       "      <td>5.508800</td>\n",
       "    </tr>\n",
       "    <tr>\n",
       "      <th>553</th>\n",
       "      <td>5</td>\n",
       "      <td>5.292651</td>\n",
       "    </tr>\n",
       "    <tr>\n",
       "      <th>1537</th>\n",
       "      <td>6</td>\n",
       "      <td>5.601132</td>\n",
       "    </tr>\n",
       "    <tr>\n",
       "      <th>1586</th>\n",
       "      <td>6</td>\n",
       "      <td>6.375765</td>\n",
       "    </tr>\n",
       "    <tr>\n",
       "      <th>805</th>\n",
       "      <td>7</td>\n",
       "      <td>6.746337</td>\n",
       "    </tr>\n",
       "    <tr>\n",
       "      <th>1095</th>\n",
       "      <td>5</td>\n",
       "      <td>5.538401</td>\n",
       "    </tr>\n",
       "    <tr>\n",
       "      <th>1547</th>\n",
       "      <td>5</td>\n",
       "      <td>5.964821</td>\n",
       "    </tr>\n",
       "    <tr>\n",
       "      <th>18</th>\n",
       "      <td>4</td>\n",
       "      <td>5.363942</td>\n",
       "    </tr>\n",
       "  </tbody>\n",
       "</table>\n",
       "</div>"
      ],
      "text/plain": [
       "      Actual value  Predicted value\n",
       "1109             6         5.626699\n",
       "1032             5         5.044625\n",
       "1002             7         6.606630\n",
       "487              6         5.266029\n",
       "979              5         6.264039\n",
       "1054             6         4.992569\n",
       "542              5         5.491274\n",
       "853              6         6.183053\n",
       "1189             4         5.135285\n",
       "412              5         4.985393\n",
       "1099             5         5.417855\n",
       "475              5         5.123290\n",
       "799              6         5.508800\n",
       "553              5         5.292651\n",
       "1537             6         5.601132\n",
       "1586             6         6.375765\n",
       "805              7         6.746337\n",
       "1095             5         5.538401\n",
       "1547             5         5.964821\n",
       "18               4         5.363942"
      ]
     },
     "execution_count": 12,
     "metadata": {},
     "output_type": "execute_result"
    }
   ],
   "source": [
    "df_output = pd.DataFrame({'Actual value': y_test, 'Predicted value':y_pred})\n",
    "df_output.head(20)"
   ]
  },
  {
   "cell_type": "code",
   "execution_count": 12,
   "metadata": {
    "ExecuteTime": {
     "end_time": "2020-08-14T07:06:48.436924Z",
     "start_time": "2020-08-14T07:06:48.424587Z"
    }
   },
   "outputs": [
    {
     "name": "stdout",
     "output_type": "stream",
     "text": [
      "Mean Absolute Error: 0.4926752437187648\n",
      "Mean Squared Error: 0.4169870203480858\n",
      "Root Mean Squared Error: 0.6457453215843579\n"
     ]
    }
   ],
   "source": [
    "print('Mean Absolute Error:', mean_absolute_error(y_test, y_pred))  \n",
    "print('Mean Squared Error:', mean_squared_error(y_test, y_pred))  \n",
    "print('Root Mean Squared Error:', np.sqrt(mean_squared_error(y_test, y_pred)))"
   ]
  },
  {
   "cell_type": "code",
   "execution_count": 13,
   "metadata": {
    "ExecuteTime": {
     "end_time": "2020-08-14T07:06:48.456921Z",
     "start_time": "2020-08-14T07:06:48.440914Z"
    }
   },
   "outputs": [
    {
     "name": "stdout",
     "output_type": "stream",
     "text": [
      "0.3246007746811589\n",
      "0.27158869185185963\n"
     ]
    }
   ],
   "source": [
    "print(regressor.score(X_train,y_train))\n",
    "print(regressor.score(X_test,y_test))"
   ]
  },
  {
   "cell_type": "markdown",
   "metadata": {},
   "source": [
    "We can see that the value of R2 is really low for both train set and test set. We can say that the model is under fitted."
   ]
  },
  {
   "cell_type": "markdown",
   "metadata": {
    "ExecuteTime": {
     "end_time": "2020-08-13T09:08:12.025126Z",
     "start_time": "2020-08-13T09:08:12.004184Z"
    }
   },
   "source": [
    "### Mean absolute error: \n",
    "This is the average of absolute errors of all the data points in the given dataset.\n",
    "### Mean squared error: \n",
    "This is the average of the squares of the errors of all the data points in the given dataset. It is one of the most popular metrics out there!\n",
    "### Root Mean Squared Error: \n",
    "RMSE is the standard deviation of the errors which occur when a prediction is made on a dataset. This is the same as MSE (Mean Squared Error) but the root of the value is considered while determining the accuracy of the model"
   ]
  },
  {
   "cell_type": "markdown",
   "metadata": {},
   "source": [
    "You can see that the value of root mean squared error is 0.62.This means that our algorithm was not very accurate but can still make reasonably good predictions."
   ]
  },
  {
   "cell_type": "markdown",
   "metadata": {},
   "source": [
    "### If the model was overfitted. We can try ridge regression (L2 regularization) to see the model performance."
   ]
  },
  {
   "cell_type": "markdown",
   "metadata": {},
   "source": [
    "# Ridge regression (L2 regularization)"
   ]
  },
  {
   "cell_type": "code",
   "execution_count": 18,
   "metadata": {
    "ExecuteTime": {
     "end_time": "2020-08-14T07:10:23.813245Z",
     "start_time": "2020-08-14T07:10:23.798036Z"
    }
   },
   "outputs": [
    {
     "name": "stdout",
     "output_type": "stream",
     "text": [
      "0.24576485107154056\n",
      "0.21819715968300604\n"
     ]
    }
   ],
   "source": [
    "from sklearn.linear_model import Ridge\n",
    "\n",
    "ridge = Ridge().fit(X_train,y_train) # we can also put alpha value as l2 regularization parameter to change the l2 penalty (lemda*m^2)\n",
    "print(ridge.score(X_train,y_train))\n",
    "print(ridge.score(X_test,y_test))"
   ]
  },
  {
   "cell_type": "markdown",
   "metadata": {},
   "source": [
    "Increasing the alpha value forces coefficients and decreases training set performance. However it may help to generalization.Decreasing the alpha allows the coefficients to be less restricted."
   ]
  },
  {
   "cell_type": "markdown",
   "metadata": {},
   "source": [
    "# Lasso(L1 regularization)"
   ]
  },
  {
   "cell_type": "code",
   "execution_count": 20,
   "metadata": {
    "ExecuteTime": {
     "end_time": "2020-08-14T08:29:41.943701Z",
     "start_time": "2020-08-14T08:29:41.928164Z"
    }
   },
   "outputs": [
    {
     "name": "stdout",
     "output_type": "stream",
     "text": [
      "Training: 0.032455862776013866\n",
      "Testing: 0.029040902458977613\n",
      "Number of features used: 1\n"
     ]
    }
   ],
   "source": [
    "from sklearn.linear_model import Lasso\n",
    "\n",
    "lasso = Lasso().fit(X_train, y_train)\n",
    "print('Training: {}'.format(lasso.score(X_train,y_train)))\n",
    "print('Testing: {}'.format(lasso.score(X_test,y_test)))\n",
    "print('Number of features used: {}'.format(np.sum(lasso.coef_ != 0)))"
   ]
  },
  {
   "cell_type": "code",
   "execution_count": 26,
   "metadata": {
    "ExecuteTime": {
     "end_time": "2020-08-14T08:41:28.406936Z",
     "start_time": "2020-08-14T08:41:28.399434Z"
    }
   },
   "outputs": [],
   "source": [
    "corr = df.corr()"
   ]
  },
  {
   "cell_type": "code",
   "execution_count": 34,
   "metadata": {
    "ExecuteTime": {
     "end_time": "2020-08-14T08:44:10.724621Z",
     "start_time": "2020-08-14T08:44:09.945236Z"
    }
   },
   "outputs": [
    {
     "data": {
      "text/plain": [
       "<matplotlib.axes._subplots.AxesSubplot at 0x25f633bcda0>"
      ]
     },
     "execution_count": 34,
     "metadata": {},
     "output_type": "execute_result"
    },
    {
     "data": {
      "image/png": "[encoded data removed]",
      "text/plain": [
       "<Figure size 432x288 with 2 Axes>"
      ]
     },
     "metadata": {
      "needs_background": "light"
     },
     "output_type": "display_data"
    }
   ],
   "source": [
    "\n",
    "sns.heatmap(corr, annot= True,fmt='.1g')"
   ]
  },
  {
   "cell_type": "code",
   "execution_count": 37,
   "metadata": {
    "ExecuteTime": {
     "end_time": "2020-08-14T08:48:10.166748Z",
     "start_time": "2020-08-14T08:48:10.151789Z"
    }
   },
   "outputs": [
    {
     "name": "stdout",
     "output_type": "stream",
     "text": [
      "Training set score: 0.20\n",
      "Test set score: 0.19\n",
      "Number of features used: 6\n"
     ]
    }
   ],
   "source": [
    "# we increase the default setting of \"max_iter\",\n",
    "# otherwise the model would warn us that we should increase max_iter.\n",
    "#A lower alpha allowed us to fit a more complex model, which worked better on the training and test data\n",
    "\n",
    "la = Lasso(alpha=0.01, max_iter=100000).fit(X_train, y_train)\n",
    "print(\"Training set score: {:.2f}\".format(la.score(X_train, y_train)))\n",
    "print(\"Test set score: {:.2f}\".format(la.score(X_test, y_test)))\n",
    "print(\"Number of features used: {}\".format(np.sum(la.coef_ != 0)))\n"
   ]
  },
  {
   "cell_type": "markdown",
   "metadata": {},
   "source": [
    "### Robust regression"
   ]
  },
  {
   "cell_type": "code",
   "execution_count": 60,
   "metadata": {
    "ExecuteTime": {
     "end_time": "2020-08-14T11:59:41.296288Z",
     "start_time": "2020-08-14T11:59:41.288274Z"
    }
   },
   "outputs": [
    {
     "name": "stderr",
     "output_type": "stream",
     "text": [
      "C:\\Users\\ashek\\Anaconda3\\lib\\site-packages\\ipykernel_launcher.py:4: SettingWithCopyWarning: \n",
      "A value is trying to be set on a copy of a slice from a DataFrame.\n",
      "Try using .loc[row_indexer,col_indexer] = value instead\n",
      "\n",
      "See the caveats in the documentation: https://pandas.pydata.org/pandas-docs/stable/user_guide/indexing.html#returning-a-view-versus-a-copy\n",
      "  after removing the cwd from sys.path.\n",
      "C:\\Users\\ashek\\AppData\\Roaming\\Python\\Python37\\site-packages\\pandas\\core\\frame.py:2945: SettingWithCopyWarning: \n",
      "A value is trying to be set on a copy of a slice from a DataFrame\n",
      "\n",
      "See the caveats in the documentation: https://pandas.pydata.org/pandas-docs/stable/user_guide/indexing.html#returning-a-view-versus-a-copy\n",
      "  self.loc._setitem_with_indexer(key, value)\n",
      "C:\\Users\\ashek\\AppData\\Roaming\\Python\\Python37\\site-packages\\pandas\\core\\frame.py:2930: SettingWithCopyWarning: \n",
      "A value is trying to be set on a copy of a slice from a DataFrame\n",
      "\n",
      "See the caveats in the documentation: https://pandas.pydata.org/pandas-docs/stable/user_guide/indexing.html#returning-a-view-versus-a-copy\n",
      "  return self._setitem_slice(indexer, value)\n",
      "C:\\Users\\ashek\\Anaconda3\\lib\\site-packages\\ipykernel_launcher.py:5: SettingWithCopyWarning: \n",
      "A value is trying to be set on a copy of a slice from a DataFrame\n",
      "\n",
      "See the caveats in the documentation: https://pandas.pydata.org/pandas-docs/stable/user_guide/indexing.html#returning-a-view-versus-a-copy\n",
      "  \"\"\"\n"
     ]
    }
   ],
   "source": [
    "# Add outlier data\n",
    "n_outliers = 10\n",
    "np.random.seed(0)\n",
    "X[:n_outliers] = np.random.normal(size=(n_outliers, 1))\n",
    "y[:n_outliers] = np.random.normal(size=n_outliers) + 10"
   ]
  },
  {
   "cell_type": "code",
   "execution_count": 66,
   "metadata": {
    "ExecuteTime": {
     "end_time": "2020-08-14T12:04:06.411784Z",
     "start_time": "2020-08-14T12:04:06.321027Z"
    }
   },
   "outputs": [
    {
     "data": {
      "text/plain": [
       "RANSACRegressor(base_estimator=None, is_data_valid=None, is_model_valid=None,\n",
       "                loss='absolute_loss', max_skips=inf, max_trials=100,\n",
       "                min_samples=None, random_state=None, residual_threshold=None,\n",
       "                stop_n_inliers=inf, stop_probability=0.99, stop_score=inf)"
      ]
     },
     "execution_count": 66,
     "metadata": {},
     "output_type": "execute_result"
    }
   ],
   "source": [
    "from sklearn.linear_model import LinearRegression,RANSACRegressor\n",
    "X_train2,X_test2,y_train2,y_test2 = train_test_split(X,y,test_size = 0.2, random_state = 0) \n",
    "lr = LinearRegression()\n",
    "lr.fit(X_train2,y_train2)\n",
    "ransac = RANSACRegressor()\n",
    "ransac.fit(X_train2,y_train2)"
   ]
  },
  {
   "cell_type": "code",
   "execution_count": 67,
   "metadata": {
    "ExecuteTime": {
     "end_time": "2020-08-14T12:04:46.270916Z",
     "start_time": "2020-08-14T12:04:46.263706Z"
    }
   },
   "outputs": [],
   "source": [
    "ransac_pred = ransac.predict(X_test2)\n",
    "lr_pred = lr.predict(X_test2)"
   ]
  },
  {
   "cell_type": "code",
   "execution_count": 68,
   "metadata": {
    "ExecuteTime": {
     "end_time": "2020-08-14T12:05:44.956673Z",
     "start_time": "2020-08-14T12:05:44.949636Z"
    }
   },
   "outputs": [
    {
     "name": "stdout",
     "output_type": "stream",
     "text": [
      "Mean Absolute Error: 3.705778906214222\n",
      "Mean Squared Error: 1041.8369245897436\n",
      "Root Mean Squared Error: 32.277498735028146\n"
     ]
    }
   ],
   "source": [
    "print('Mean Absolute Error:', mean_absolute_error(y_test2, ransac_pred))  \n",
    "print('Mean Squared Error:', mean_squared_error(y_test2, ransac_pred))  \n",
    "print('Root Mean Squared Error:', np.sqrt(mean_squared_error(y_test2, ransac_pred)))"
   ]
  },
  {
   "cell_type": "code",
   "execution_count": 69,
   "metadata": {
    "ExecuteTime": {
     "end_time": "2020-08-14T12:06:11.602092Z",
     "start_time": "2020-08-14T12:06:11.595115Z"
    }
   },
   "outputs": [
    {
     "name": "stdout",
     "output_type": "stream",
     "text": [
      "Mean Absolute Error: 0.5523813529057735\n",
      "Mean Squared Error: 0.5210716024278534\n",
      "Root Mean Squared Error: 0.721852895282587\n"
     ]
    }
   ],
   "source": [
    "print('Mean Absolute Error:', mean_absolute_error(y_test2, lr_pred))  \n",
    "print('Mean Squared Error:', mean_squared_error(y_test2, lr_pred))  \n",
    "print('Root Mean Squared Error:', np.sqrt(mean_squared_error(y_test2, lr_pred)))"
   ]
  },
  {
   "cell_type": "code",
   "execution_count": 80,
   "metadata": {
    "ExecuteTime": {
     "end_time": "2020-08-14T12:12:08.294146Z",
     "start_time": "2020-08-14T12:12:07.690323Z"
    }
   },
   "outputs": [
    {
     "name": "stderr",
     "output_type": "stream",
     "text": [
      "C:\\Users\\ashek\\Anaconda3\\lib\\site-packages\\sklearn\\linear_model\\logistic.py:432: FutureWarning: Default solver will be changed to 'lbfgs' in 0.22. Specify a solver to silence this warning.\n",
      "  FutureWarning)\n",
      "C:\\Users\\ashek\\Anaconda3\\lib\\site-packages\\sklearn\\linear_model\\logistic.py:469: FutureWarning: Default multi_class will be changed to 'auto' in 0.22. Specify the multi_class option to silence this warning.\n",
      "  \"this warning.\", FutureWarning)\n"
     ]
    },
    {
     "data": {
      "text/plain": [
       "0.51"
      ]
     },
     "execution_count": 80,
     "metadata": {},
     "output_type": "execute_result"
    }
   ],
   "source": [
    "from sklearn.preprocessing import PolynomialFeatures\n",
    "from sklearn.linear_model import LogisticRegression\n",
    "from sklearn.datasets import make_circles\n",
    "\n",
    "#X,y = make_circles(n_samples=1000, noise=.04)\n",
    "#plt.scatter(X[:,0],X[:,1],c=y,s=10)\n",
    "\n",
    "pol = PolynomialFeatures(degree=2)\n",
    "\n",
    "X_tf = pol.fit_transform(X)\n",
    "lr = LogisticRegression()\n",
    "\n",
    "trainX,testX,trainY,testY = train_test_split(X_tf,y)\n",
    "lr.fit(trainX,trainY)\n",
    "\n",
    "lr.score(testX,testY)\n"
   ]
  },
  {
   "cell_type": "code",
   "execution_count": 81,
   "metadata": {
    "ExecuteTime": {
     "end_time": "2020-08-14T12:12:19.463562Z",
     "start_time": "2020-08-14T12:12:19.453591Z"
    }
   },
   "outputs": [
    {
     "data": {
      "text/plain": [
       "array([[-1.09970016e-01, -2.16729920e-01, -3.58637475e-03,\n",
       "         1.00307651e-02,  8.04561243e-02,  4.73860156e-02,\n",
       "         8.43922523e-02, -4.05903526e-01, -1.04760808e-01,\n",
       "        -2.79384414e-01,  2.04792996e-03, -7.13557696e-02,\n",
       "         2.75501091e-01,  6.35751203e-01, -4.14721764e-01,\n",
       "         6.36474916e-01, -6.71946907e-02,  6.17029113e-02,\n",
       "        -1.76142496e-01,  3.73547776e-01,  1.04620482e-01,\n",
       "        -3.01002719e-02, -2.81485592e-02,  8.96447312e-01,\n",
       "         3.21993836e-02,  1.01787260e+00, -2.20302734e-01,\n",
       "         1.14030290e-04,  7.21846034e-02,  9.51128405e-02,\n",
       "         9.23723878e-02, -2.50051782e-01,  2.68762003e-02,\n",
       "        -9.55088497e-01,  2.69835681e-01,  1.18287333e-02,\n",
       "         4.72877299e-02, -2.34202163e-02,  1.22835255e-01,\n",
       "         9.83163964e-02, -4.64714019e-01,  8.11868972e-02,\n",
       "         8.91743214e-02,  7.62579917e-01,  1.08410118e-01,\n",
       "         1.75187375e-02,  2.88282529e-01,  1.20607766e-01,\n",
       "         4.77722083e-02,  1.50143202e-01,  2.68444778e-02,\n",
       "        -5.23591113e-02,  4.86643304e-02,  1.26279045e-01,\n",
       "         6.03940300e-02,  2.84133922e-01, -9.43251293e-03,\n",
       "        -2.63238695e-01,  8.18772109e-02, -2.81562945e-01,\n",
       "        -9.95825037e-02, -2.62193460e-01,  4.51773157e-03,\n",
       "        -6.49867954e-01,  8.18561608e-02, -1.47709414e-02],\n",
       "       [-9.35531057e-02, -4.16492317e-01,  1.96413208e-02,\n",
       "         1.96651090e-03,  3.69632797e-02, -3.09347066e-02,\n",
       "        -6.22452644e-01, -3.56901981e-02, -9.06026128e-02,\n",
       "        -1.50648361e-01, -2.02000750e-01,  9.10768741e-03,\n",
       "         1.54005353e-01, -3.37361059e-01, -1.38763541e-01,\n",
       "        -1.20261233e-01,  2.92369412e-02,  4.82749921e-03,\n",
       "        -3.95158434e-01,  3.63793503e-01, -1.06093876e+00,\n",
       "        -3.29318971e-01,  7.97472458e-02, -4.01921187e-01,\n",
       "        -3.10793867e-02, -1.95891605e-01,  1.04850787e-01,\n",
       "         2.21053445e-02,  1.03905970e-01,  4.77796306e-02,\n",
       "        -5.43761246e-02,  3.83299931e-01,  2.91111544e-02,\n",
       "         5.62091721e-02, -6.18093023e-03,  1.82255695e-03,\n",
       "         1.19565079e-02, -2.74684489e-02, -8.11215397e-02,\n",
       "        -1.10685126e-01,  2.53647348e-02, -9.13477632e-03,\n",
       "         3.20312130e-02,  6.05779620e-01, -1.89459475e-01,\n",
       "        -1.32357312e-03,  1.13761092e+00, -1.90700988e-01,\n",
       "        -3.05023825e-02, -8.82328440e-02,  2.25212557e-03,\n",
       "        -9.69257036e-04,  2.95956575e-04, -5.75309725e-01,\n",
       "         2.27928686e-01,  1.90654959e-01, -3.74265257e-04,\n",
       "         1.16569073e-01, -5.20237846e-02,  9.83820307e-02,\n",
       "        -8.76907277e-02, -1.41040796e-01, -1.99256206e-01,\n",
       "        -6.07303096e-02, -5.66750266e-01, -3.28290320e-01],\n",
       "       [ 1.22839325e-01, -1.15128185e-01,  3.46398756e-01,\n",
       "        -2.28024075e-02,  2.17463198e-02,  4.71430125e-02,\n",
       "        -7.58377340e-01, -2.47806601e+00,  2.32622852e-01,\n",
       "         1.99088240e-01,  6.95588411e-02,  4.53328891e-03,\n",
       "         2.39291045e-02, -3.38115335e-03,  4.97547714e-02,\n",
       "        -4.47040389e-01, -1.87731624e-03,  1.12110885e-03,\n",
       "         6.67623187e-01, -1.49870800e-01, -6.66089967e-01,\n",
       "        -1.45190039e+00,  2.18829603e-01,  8.80552267e-02,\n",
       "        -1.42602216e-01,  9.68723460e-02, -4.08759797e-02,\n",
       "         3.92667765e-01,  7.77849439e-01,  1.13808885e-01,\n",
       "        -6.71519365e-01, -2.97014714e-01, -1.31432001e-01,\n",
       "        -6.16782423e-03, -4.39285749e-03,  3.93042129e-03,\n",
       "         3.52497049e-01, -7.74303960e-02,  2.60130364e-02,\n",
       "         5.45842827e-02, -2.01560725e-03,  1.98687837e-03,\n",
       "         2.57034706e-01, -3.66722561e-01,  1.08958962e-01,\n",
       "        -1.60454604e-01, -5.32110480e-01,  4.12634581e-01,\n",
       "         5.40744703e-02,  2.76230995e-01, -2.02686880e-01,\n",
       "         5.29731995e-04,  1.44855938e-03,  9.83943233e-01,\n",
       "        -9.49734227e-02, -5.49253025e-02, -2.00302767e-04,\n",
       "         2.32547821e+00,  4.81839035e-02,  1.18397162e-02,\n",
       "         3.41338748e-01,  5.72693957e-01,  1.38387387e-01,\n",
       "        -1.90143841e-01,  2.72931758e-02,  9.63494376e-01],\n",
       "       [-3.43140824e-02, -6.23595018e-02, -5.34096627e-02,\n",
       "         2.80044719e-02,  5.43396714e-03,  1.47340078e-02,\n",
       "        -1.47538562e-01,  1.69434691e-01, -3.63514430e-02,\n",
       "        -7.50527079e-02, -3.33827186e-03,  1.12323301e-03,\n",
       "         3.92922017e-02, -2.95133823e-02, -6.53077758e-02,\n",
       "         2.42783106e-01,  2.56514056e-03, -2.32575872e-04,\n",
       "        -7.34702577e-02,  7.20337648e-02,  7.74822838e-02,\n",
       "        -1.13051729e-01,  6.19363640e-02, -1.18780839e-01,\n",
       "         4.68771701e-04, -4.37122512e-02, -3.84307225e-03,\n",
       "        -5.43043662e-02, -1.64019050e-01,  8.11742746e-02,\n",
       "         2.80105297e-02, -4.84825521e-02,  1.19964398e-02,\n",
       "        -1.24029186e-01,  3.25720784e-02,  2.72564849e-02,\n",
       "         1.06045351e-01, -4.56608395e-02,  1.44154095e-02,\n",
       "         5.03836519e-02, -5.40813737e-04,  2.25810731e-03,\n",
       "         1.34585564e-03,  9.11081099e-02,  3.39110346e-02,\n",
       "         6.07396160e-03,  1.01300919e-01, -1.66847894e-01,\n",
       "         1.45963290e-02,  4.45701622e-02,  2.06953629e-02,\n",
       "        -8.30003024e-04, -6.75988075e-04, -2.06790672e-01,\n",
       "         1.41730765e-01,  1.18515002e-05, -1.26043577e-04,\n",
       "        -2.47544511e-02, -4.18693204e-02,  9.30219908e-03,\n",
       "        -3.83597919e-02, -8.22958415e-02, -4.00827914e-03,\n",
       "        -1.06243797e-01,  3.00697070e-02, -8.38502459e-02],\n",
       "       [ 4.13000756e-03,  6.12809665e-02, -1.23067254e-01,\n",
       "        -6.16603544e-02,  3.36947362e-02,  1.03579849e-02,\n",
       "         2.78987933e-01, -2.78928666e-02, -7.15074883e-03,\n",
       "        -6.49839908e-03,  1.16362414e-01, -1.21947413e-02,\n",
       "        -3.96458149e-01,  7.12934800e-02,  9.44445699e-02,\n",
       "         5.97483533e-02,  3.51311852e-03,  4.13790045e-03,\n",
       "        -2.77432295e-02, -6.69396817e-02,  3.00740814e-01,\n",
       "        -1.24762899e-01, -2.12269200e-02,  2.05449143e-01,\n",
       "        -4.66047805e-03,  2.24895257e-01, -5.57619536e-02,\n",
       "        -1.26325580e-01, -4.27943412e-01, -1.14127411e-02,\n",
       "         7.43551016e-03, -2.27862911e-02,  1.30863829e-02,\n",
       "         1.51539235e-01, -8.81166858e-03, -6.41843059e-02,\n",
       "        -2.54537737e-01, -2.86242951e-02, -8.95024225e-02,\n",
       "         6.50432947e-02,  1.06587895e-02, -1.10491064e-02,\n",
       "         1.19030906e-02,  1.18543527e-01,  1.67832265e-02,\n",
       "         9.32974581e-03, -1.36728612e-01, -8.51569298e-01,\n",
       "         9.49347415e-03,  3.21419542e-02,  2.01227496e-02,\n",
       "        -3.49676141e-04, -1.83528739e-03,  1.42588024e-01,\n",
       "        -1.17755200e-01, -7.72937207e-02,  7.51886783e-04,\n",
       "        -3.73494198e-01,  1.13565793e-01,  2.07001628e-02,\n",
       "        -1.83371995e-02, -4.40745404e-02,  1.07029435e-01,\n",
       "        -1.25768493e-01,  4.17520637e-01, -4.25669731e-02],\n",
       "       [ 4.93725610e-02,  3.44638436e-01, -9.95171476e-03,\n",
       "         9.79397487e-02, -2.81985354e-03, -4.91661539e-02,\n",
       "         4.63015769e-01,  1.59857040e-01,  4.13982317e-02,\n",
       "         5.76169076e-02,  8.16876992e-02, -3.89669991e-03,\n",
       "        -2.62311428e-01,  1.01068568e+00,  1.79350442e-01,\n",
       "        -5.13832171e-01,  2.43480679e-02, -1.52236006e-02,\n",
       "         2.81554410e-01, -6.20093612e-01,  4.20444536e-02,\n",
       "        -8.33524427e-02,  5.71818260e-02,  2.46917228e-01,\n",
       "        -2.70693646e-02, -1.61704783e-01,  5.96263230e-02,\n",
       "        -1.30823786e-02, -4.09558996e-03,  2.36113405e-02,\n",
       "         8.29370946e-03,  2.04156723e-01, -2.49553511e-02,\n",
       "         1.24148584e-01, -1.22846116e-01,  9.50756642e-02,\n",
       "         2.27454241e-01,  5.04106680e-02, -2.15986876e-01,\n",
       "        -1.76988885e-01, -7.69000255e-02,  7.32526081e-03,\n",
       "        -1.65072212e-02,  1.06302124e-01,  1.63850826e-01,\n",
       "        -1.46321213e-02,  5.12317665e-02, -5.95916302e-01,\n",
       "        -4.96094435e-02, -1.62609151e-01, -4.36039388e-02,\n",
       "        -7.33445548e-03,  1.23606573e-02,  3.00958131e-01,\n",
       "        -2.59621668e-01, -2.93000206e-01, -4.11224355e-03,\n",
       "        -2.35997643e-01,  8.48008799e-02,  1.56745608e-01,\n",
       "         3.34991107e-02,  3.10602258e-02,  7.50425767e-02,\n",
       "        -2.77137332e-02,  2.39381939e-01, -1.29179684e-01]])"
      ]
     },
     "execution_count": 81,
     "metadata": {},
     "output_type": "execute_result"
    }
   ],
   "source": [
    "lr.coef_"
   ]
  },
  {
   "cell_type": "code",
   "execution_count": null,
   "metadata": {},
   "outputs": [],
   "source": []
  }
 ],
 "metadata": {
  "kernelspec": {
   "display_name": "Python 3",
   "language": "python",
   "name": "python3"
  },
  "language_info": {
   "codemirror_mode": {
    "name": "ipython",
    "version": 3
   },
   "file_extension": ".py",
   "mimetype": "text/x-python",
   "name": "python",
   "nbconvert_exporter": "python",
   "pygments_lexer": "ipython3",
   "version": "3.7.6"
  },
  "latex_envs": {
   "LaTeX_envs_menu_present": true,
   "autoclose": false,
   "autocomplete": true,
   "bibliofile": "biblio.bib",
   "cite_by": "apalike",
   "current_citInitial": 1,
   "eqLabelWithNumbers": true,
   "eqNumInitial": 1,
   "hotkeys": {
    "equation": "Ctrl-E",
    "itemize": "Ctrl-I"
   },
   "labels_anchors": false,
   "latex_user_defs": false,
   "report_style_numbering": false,
   "user_envs_cfg": false
  },
  "toc": {
   "base_numbering": 1,
   "nav_menu": {},
   "number_sections": true,
   "sideBar": true,
   "skip_h1_title": false,
   "title_cell": "Table of Contents",
   "title_sidebar": "Contents",
   "toc_cell": false,
   "toc_position": {},
   "toc_section_display": true,
   "toc_window_display": false
  },
  "varInspector": {
   "cols": {
    "lenName": 16,
    "lenType": 16,
    "lenVar": 40
   },
   "kernels_config": {
    "python": {
     "delete_cmd_postfix": "",
     "delete_cmd_prefix": "del ",
     "library": "var_list.py",
     "varRefreshCmd": "print(var_dic_list())"
    },
    "r": {
     "delete_cmd_postfix": ") ",
     "delete_cmd_prefix": "rm(",
     "library": "var_list.r",
     "varRefreshCmd": "cat(var_dic_list()) "
    }
   },
   "types_to_exclude": [
    "module",
    "function",
    "builtin_function_or_method",
    "instance",
    "_Feature"
   ],
   "window_display": false
  }
 },
 "nbformat": 4,
 "nbformat_minor": 2
}
