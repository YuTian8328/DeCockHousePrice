{
 "cells": [
  {
   "cell_type": "markdown",
   "metadata": {
    "ExecuteTime": {
     "end_time": "2020-08-16T05:25:06.692494Z",
     "start_time": "2020-08-16T05:25:06.683550Z"
    }
   },
   "source": [
    "<span style=\"color:darkblue\"><font size=\"5\"> DeCockHousePrice Dataset: Salerice Level Classification </font></span> "
   ]
  },
  {
   "cell_type": "code",
   "execution_count": 167,
   "metadata": {
    "ExecuteTime": {
     "end_time": "2020-08-16T04:12:41.154347Z",
     "start_time": "2020-08-16T04:12:41.139779Z"
    }
   },
   "outputs": [],
   "source": [
    "import pandas as pd\n",
    "import seaborn as sns; sns.set(color_codes=True)\n",
    "from mpl_toolkits.mplot3d import Axes3D\n",
    "import matplotlib.pyplot as plt\n",
    "%matplotlib inline\n",
    "import warnings; warnings.simplefilter('ignore')\n",
    "import numpy as np\n",
    "np.random.seed(10)\n",
    "from sklearn.linear_model import LogisticRegression\n",
    "\n",
    "from sklearn.ensemble import (RandomTreesEmbedding, RandomForestClassifier,\n",
    "                              GradientBoostingClassifier)\n",
    "from sklearn.preprocessing import OneHotEncoder\n",
    "from sklearn.model_selection import train_test_split\n",
    "from sklearn.metrics import roc_curve\n",
    "from sklearn.pipeline import make_pipeline"
   ]
  },
  {
   "cell_type": "code",
   "execution_count": 168,
   "metadata": {
    "ExecuteTime": {
     "end_time": "2020-08-16T04:12:41.844928Z",
     "start_time": "2020-08-16T04:12:41.814051Z"
    }
   },
   "outputs": [],
   "source": [
    "df=pd.read_csv('data/train.csv')"
   ]
  },
  {
   "cell_type": "markdown",
   "metadata": {},
   "source": [
    "# Data cleaning"
   ]
  },
  {
   "cell_type": "code",
   "execution_count": 169,
   "metadata": {
    "ExecuteTime": {
     "end_time": "2020-08-16T04:12:42.594463Z",
     "start_time": "2020-08-16T04:12:42.527780Z"
    }
   },
   "outputs": [],
   "source": [
    "cg_cols = ['Alley', 'PoolQC', 'MiscFeature', 'Fence', 'FireplaceQu', 'GarageType',\n",
    "    'GarageFinish', 'GarageQual', 'GarageCond', 'BsmtQual', 'BsmtCond',\n",
    "    'BsmtExposure', 'BsmtFinType1', 'BsmtFinType2', 'MasVnrType']\n",
    "dc_cols = ['BsmtFinSF1', 'BsmtFinSF2', 'BsmtUnfSF', 'TotalBsmtSF', 'BsmtFullBath',\n",
    "    'BsmtHalfBath', 'GarageYrBlt', 'GarageArea', 'GarageCars', 'MasVnrArea']\n",
    "ot_cols = ['Electrical', 'Exterior1st', 'Exterior2nd', 'Functional', 'KitchenQual',\n",
    "    'SaleType', 'Utilities']\n",
    "for col in dc_cols:\n",
    "    df[col].replace(np.nan, 0, inplace=True)\n",
    "\n",
    "for col in cg_cols:\n",
    "    df[col].replace(np.nan, 'None', inplace=True)\n",
    "\n",
    "for col in ot_cols:\n",
    "    df[col].replace(np.nan, df[col].mode()[0], inplace=True)\n",
    "    \n",
    "# Filling MSZoning according to MSSubClass\n",
    "df['MSZoning'] = df.groupby('MSSubClass')['MSZoning'].apply(\n",
    "    lambda x: x.fillna(x.mode()[0]))\n",
    "\n",
    "# Filling LotFrontage according to Neighborhood\n",
    "\n",
    "df['LotFrontage']=df.groupby(['Neighborhood'])['LotFrontage'].apply(lambda x: x.fillna(x.median()))"
   ]
  },
  {
   "cell_type": "code",
   "execution_count": 170,
   "metadata": {
    "ExecuteTime": {
     "end_time": "2020-08-16T04:12:43.450677Z",
     "start_time": "2020-08-16T04:12:43.438155Z"
    }
   },
   "outputs": [],
   "source": [
    "df.drop('Id',axis=1,inplace=True)\n",
    "\n",
    "#binning with rare values\n",
    "col_rare = ['Condition1', 'Condition2', 'RoofMatl', 'Exterior1st', 'Exterior2nd',\n",
    "    'Heating', 'Electrical', 'Functional', 'SaleType']\n",
    "\n",
    "for col in col_rare:\n",
    "    mask = df[col].isin(\n",
    "        df[col].value_counts()[df[col].value_counts() < 10].index)\n",
    "    df[col][mask] = 'Other'"
   ]
  },
  {
   "cell_type": "code",
   "execution_count": 172,
   "metadata": {
    "ExecuteTime": {
     "end_time": "2020-08-16T04:12:44.911953Z",
     "start_time": "2020-08-16T04:12:44.899968Z"
    }
   },
   "outputs": [],
   "source": [
    "# Features which numerical on data but should be treated as category.\n",
    "df['MSSubClass'] = df['MSSubClass'].astype(str)\n",
    "\n",
    "# cyclical feature transformation\n",
    "from math import pi\n",
    "df['MoSold']=2*pi*df['MoSold']/df['MoSold'].max()\n",
    "df[\"cos_MoSold\"] = np.cos(df[\"MoSold\"])\n",
    "df[\"sin_MoSold\"] = np.sin(df[\"MoSold\"])"
   ]
  },
  {
   "cell_type": "code",
   "execution_count": 174,
   "metadata": {
    "ExecuteTime": {
     "end_time": "2020-08-16T04:12:45.857987Z",
     "start_time": "2020-08-16T04:12:45.799729Z"
    }
   },
   "outputs": [],
   "source": [
    "neigh_map={'MeadowV': 1,'IDOTRR': 1,\n",
    "    'BrDale': 1, 'BrkSide': 2,\n",
    "    'OldTown': 2, 'Edwards': 2,\n",
    "    'Sawyer': 3,    'Blueste': 3,\n",
    "    'SWISU': 3,    'NPkVill': 3,\n",
    "    'NAmes': 3,    'Mitchel': 4,\n",
    "    'SawyerW': 5,    'NWAmes': 5,\n",
    "    'Gilbert': 5,    'Blmngtn': 5,\n",
    "    'CollgCr': 5,    'ClearCr': 6,\n",
    "    'Crawfor': 6,    'Veenker': 7,\n",
    "    'Somerst': 7,    'Timber': 8,\n",
    "    'StoneBr': 9,    'NridgHt': 10,\n",
    "    'NoRidge': 10}\n",
    "    \n",
    "df['Neighborhood'] = df['Neighborhood'].map(neigh_map).astype('int')\n",
    "\n",
    "ext_map = {'Po': 1, 'Fa': 2, 'TA': 3, 'Gd': 4, 'Ex': 5}\n",
    "df['ExterCond'] = df['ExterCond'].map(ext_map).astype('int')\n",
    "df['ExterQual'] = df['ExterQual'].map(ext_map).astype('int')\n",
    "\n",
    "bsm_map = {'None': 0, 'Po': 1, 'Fa': 2, 'TA': 3, 'Gd': 4, 'Ex': 5}\n",
    "df['BsmtQual'] = df['BsmtQual'].map(bsm_map).astype('int')\n",
    "df['BsmtCond'] = df['BsmtCond'].map(bsm_map).astype('int')\n",
    "bsmf_map = {'None': 0, 'Unf': 1,'LwQ': 2,'Rec': 3, 'BLQ': 4, 'ALQ': 5,'GLQ': 6}\n",
    "\n",
    "df['BsmtFinType1'] = df['BsmtFinType1'].map(bsmf_map).astype('int')\n",
    "df['BsmtFinType2'] = df['BsmtFinType2'].map(bsmf_map).astype('int')\n",
    "heat_map = {'Po': 1, 'Fa': 2, 'TA': 3, 'Gd': 4, 'Ex': 5}\n",
    "df['HeatingQC'] = df['HeatingQC'].map(heat_map).astype('int')\n",
    "df['KitchenQual'] = df['KitchenQual'].map(heat_map).astype('int')\n",
    "df['FireplaceQu'] = df['FireplaceQu'].map(bsm_map).astype('int')\n",
    "df['GarageCond'] = df['GarageCond'].map(bsm_map).astype('int')\n",
    "df['GarageQual'] = df['GarageQual'].map(bsm_map).astype('int')"
   ]
  },
  {
   "cell_type": "code",
   "execution_count": 175,
   "metadata": {
    "ExecuteTime": {
     "end_time": "2020-08-16T04:12:47.510930Z",
     "start_time": "2020-08-16T04:12:47.417080Z"
    }
   },
   "outputs": [],
   "source": [
    "# Getting dummy variables for nominal categorical features\n",
    "df = pd.get_dummies(data=df)"
   ]
  },
  {
   "cell_type": "code",
   "execution_count": 622,
   "metadata": {
    "ExecuteTime": {
     "end_time": "2020-08-16T05:27:54.215717Z",
     "start_time": "2020-08-16T05:27:54.194190Z"
    }
   },
   "outputs": [
    {
     "data": {
      "text/plain": [
       "0.0"
      ]
     },
     "execution_count": 622,
     "metadata": {},
     "output_type": "execute_result"
    }
   ],
   "source": [
    "#Categorize SalePrice into binary variable\n",
    "df[\"SalePrice\"].median()\n",
    "df.loc[df['SalePrice'] <= 163000, 'SalePrice'] = 0\n",
    "df.loc[df['SalePrice'] > 163000, 'SalePrice'] = 1"
   ]
  },
  {
   "cell_type": "code",
   "execution_count": 178,
   "metadata": {
    "ExecuteTime": {
     "end_time": "2020-08-16T04:12:50.937909Z",
     "start_time": "2020-08-16T04:12:50.928678Z"
    }
   },
   "outputs": [
    {
     "name": "stdout",
     "output_type": "stream",
     "text": [
      "<class 'pandas.core.frame.DataFrame'>\n",
      "RangeIndex: 1460 entries, 0 to 1459\n",
      "Columns: 215 entries, LotFrontage to SaleCondition_Partial\n",
      "dtypes: float64(6), int64(44), uint8(165)\n",
      "memory usage: 805.7 KB\n"
     ]
    }
   ],
   "source": [
    "df.info()"
   ]
  },
  {
   "cell_type": "code",
   "execution_count": 179,
   "metadata": {
    "ExecuteTime": {
     "end_time": "2020-08-16T04:12:53.717343Z",
     "start_time": "2020-08-16T04:12:53.690831Z"
    }
   },
   "outputs": [
    {
     "data": {
      "text/html": [
       "<div>\n",
       "<style scoped>\n",
       "    .dataframe tbody tr th:only-of-type {\n",
       "        vertical-align: middle;\n",
       "    }\n",
       "\n",
       "    .dataframe tbody tr th {\n",
       "        vertical-align: top;\n",
       "    }\n",
       "\n",
       "    .dataframe thead th {\n",
       "        text-align: right;\n",
       "    }\n",
       "</style>\n",
       "<table border=\"1\" class=\"dataframe\">\n",
       "  <thead>\n",
       "    <tr style=\"text-align: right;\">\n",
       "      <th></th>\n",
       "      <th>LotFrontage</th>\n",
       "      <th>LotArea</th>\n",
       "      <th>Neighborhood</th>\n",
       "      <th>OverallQual</th>\n",
       "      <th>OverallCond</th>\n",
       "      <th>YearBuilt</th>\n",
       "      <th>YearRemodAdd</th>\n",
       "      <th>MasVnrArea</th>\n",
       "      <th>ExterQual</th>\n",
       "      <th>ExterCond</th>\n",
       "      <th>...</th>\n",
       "      <th>SaleType_COD</th>\n",
       "      <th>SaleType_New</th>\n",
       "      <th>SaleType_Other</th>\n",
       "      <th>SaleType_WD</th>\n",
       "      <th>SaleCondition_Abnorml</th>\n",
       "      <th>SaleCondition_AdjLand</th>\n",
       "      <th>SaleCondition_Alloca</th>\n",
       "      <th>SaleCondition_Family</th>\n",
       "      <th>SaleCondition_Normal</th>\n",
       "      <th>SaleCondition_Partial</th>\n",
       "    </tr>\n",
       "  </thead>\n",
       "  <tbody>\n",
       "    <tr>\n",
       "      <th>0</th>\n",
       "      <td>65.0</td>\n",
       "      <td>8450</td>\n",
       "      <td>5</td>\n",
       "      <td>7</td>\n",
       "      <td>5</td>\n",
       "      <td>2003</td>\n",
       "      <td>2003</td>\n",
       "      <td>196.0</td>\n",
       "      <td>4</td>\n",
       "      <td>3</td>\n",
       "      <td>...</td>\n",
       "      <td>0</td>\n",
       "      <td>0</td>\n",
       "      <td>0</td>\n",
       "      <td>1</td>\n",
       "      <td>0</td>\n",
       "      <td>0</td>\n",
       "      <td>0</td>\n",
       "      <td>0</td>\n",
       "      <td>1</td>\n",
       "      <td>0</td>\n",
       "    </tr>\n",
       "    <tr>\n",
       "      <th>1</th>\n",
       "      <td>80.0</td>\n",
       "      <td>9600</td>\n",
       "      <td>7</td>\n",
       "      <td>6</td>\n",
       "      <td>8</td>\n",
       "      <td>1976</td>\n",
       "      <td>1976</td>\n",
       "      <td>0.0</td>\n",
       "      <td>3</td>\n",
       "      <td>3</td>\n",
       "      <td>...</td>\n",
       "      <td>0</td>\n",
       "      <td>0</td>\n",
       "      <td>0</td>\n",
       "      <td>1</td>\n",
       "      <td>0</td>\n",
       "      <td>0</td>\n",
       "      <td>0</td>\n",
       "      <td>0</td>\n",
       "      <td>1</td>\n",
       "      <td>0</td>\n",
       "    </tr>\n",
       "    <tr>\n",
       "      <th>2</th>\n",
       "      <td>68.0</td>\n",
       "      <td>11250</td>\n",
       "      <td>5</td>\n",
       "      <td>7</td>\n",
       "      <td>5</td>\n",
       "      <td>2001</td>\n",
       "      <td>2002</td>\n",
       "      <td>162.0</td>\n",
       "      <td>4</td>\n",
       "      <td>3</td>\n",
       "      <td>...</td>\n",
       "      <td>0</td>\n",
       "      <td>0</td>\n",
       "      <td>0</td>\n",
       "      <td>1</td>\n",
       "      <td>0</td>\n",
       "      <td>0</td>\n",
       "      <td>0</td>\n",
       "      <td>0</td>\n",
       "      <td>1</td>\n",
       "      <td>0</td>\n",
       "    </tr>\n",
       "    <tr>\n",
       "      <th>3</th>\n",
       "      <td>60.0</td>\n",
       "      <td>9550</td>\n",
       "      <td>6</td>\n",
       "      <td>7</td>\n",
       "      <td>5</td>\n",
       "      <td>1915</td>\n",
       "      <td>1970</td>\n",
       "      <td>0.0</td>\n",
       "      <td>3</td>\n",
       "      <td>3</td>\n",
       "      <td>...</td>\n",
       "      <td>0</td>\n",
       "      <td>0</td>\n",
       "      <td>0</td>\n",
       "      <td>1</td>\n",
       "      <td>1</td>\n",
       "      <td>0</td>\n",
       "      <td>0</td>\n",
       "      <td>0</td>\n",
       "      <td>0</td>\n",
       "      <td>0</td>\n",
       "    </tr>\n",
       "    <tr>\n",
       "      <th>4</th>\n",
       "      <td>84.0</td>\n",
       "      <td>14260</td>\n",
       "      <td>10</td>\n",
       "      <td>8</td>\n",
       "      <td>5</td>\n",
       "      <td>2000</td>\n",
       "      <td>2000</td>\n",
       "      <td>350.0</td>\n",
       "      <td>4</td>\n",
       "      <td>3</td>\n",
       "      <td>...</td>\n",
       "      <td>0</td>\n",
       "      <td>0</td>\n",
       "      <td>0</td>\n",
       "      <td>1</td>\n",
       "      <td>0</td>\n",
       "      <td>0</td>\n",
       "      <td>0</td>\n",
       "      <td>0</td>\n",
       "      <td>1</td>\n",
       "      <td>0</td>\n",
       "    </tr>\n",
       "  </tbody>\n",
       "</table>\n",
       "<p>5 rows × 215 columns</p>\n",
       "</div>"
      ],
      "text/plain": [
       "   LotFrontage  LotArea  Neighborhood  OverallQual  OverallCond  YearBuilt  \\\n",
       "0         65.0     8450             5            7            5       2003   \n",
       "1         80.0     9600             7            6            8       1976   \n",
       "2         68.0    11250             5            7            5       2001   \n",
       "3         60.0     9550             6            7            5       1915   \n",
       "4         84.0    14260            10            8            5       2000   \n",
       "\n",
       "   YearRemodAdd  MasVnrArea  ExterQual  ExterCond  ...  SaleType_COD  \\\n",
       "0          2003       196.0          4          3  ...             0   \n",
       "1          1976         0.0          3          3  ...             0   \n",
       "2          2002       162.0          4          3  ...             0   \n",
       "3          1970         0.0          3          3  ...             0   \n",
       "4          2000       350.0          4          3  ...             0   \n",
       "\n",
       "   SaleType_New  SaleType_Other  SaleType_WD  SaleCondition_Abnorml  \\\n",
       "0             0               0            1                      0   \n",
       "1             0               0            1                      0   \n",
       "2             0               0            1                      0   \n",
       "3             0               0            1                      1   \n",
       "4             0               0            1                      0   \n",
       "\n",
       "   SaleCondition_AdjLand  SaleCondition_Alloca  SaleCondition_Family  \\\n",
       "0                      0                     0                     0   \n",
       "1                      0                     0                     0   \n",
       "2                      0                     0                     0   \n",
       "3                      0                     0                     0   \n",
       "4                      0                     0                     0   \n",
       "\n",
       "   SaleCondition_Normal  SaleCondition_Partial  \n",
       "0                     1                      0  \n",
       "1                     1                      0  \n",
       "2                     1                      0  \n",
       "3                     0                      0  \n",
       "4                     1                      0  \n",
       "\n",
       "[5 rows x 215 columns]"
      ]
     },
     "execution_count": 179,
     "metadata": {},
     "output_type": "execute_result"
    }
   ],
   "source": [
    "df.head()"
   ]
  },
  {
   "cell_type": "markdown",
   "metadata": {},
   "source": [
    "# Feature Selection \n",
    "    - Based on correlation\n",
    "    \n",
    "    - Based on P-value"
   ]
  },
  {
   "cell_type": "code",
   "execution_count": 339,
   "metadata": {
    "ExecuteTime": {
     "end_time": "2020-08-16T04:42:35.606746Z",
     "start_time": "2020-08-16T04:42:35.478813Z"
    }
   },
   "outputs": [
    {
     "data": {
      "text/html": [
       "<div>\n",
       "<style scoped>\n",
       "    .dataframe tbody tr th:only-of-type {\n",
       "        vertical-align: middle;\n",
       "    }\n",
       "\n",
       "    .dataframe tbody tr th {\n",
       "        vertical-align: top;\n",
       "    }\n",
       "\n",
       "    .dataframe thead th {\n",
       "        text-align: right;\n",
       "    }\n",
       "</style>\n",
       "<table border=\"1\" class=\"dataframe\">\n",
       "  <thead>\n",
       "    <tr style=\"text-align: right;\">\n",
       "      <th></th>\n",
       "      <th>LotFrontage</th>\n",
       "      <th>LotArea</th>\n",
       "      <th>Neighborhood</th>\n",
       "      <th>OverallQual</th>\n",
       "      <th>OverallCond</th>\n",
       "      <th>YearBuilt</th>\n",
       "      <th>YearRemodAdd</th>\n",
       "      <th>MasVnrArea</th>\n",
       "      <th>ExterQual</th>\n",
       "      <th>ExterCond</th>\n",
       "      <th>...</th>\n",
       "      <th>MiscFeature_TenC</th>\n",
       "      <th>SaleType_COD</th>\n",
       "      <th>SaleType_New</th>\n",
       "      <th>SaleType_Other</th>\n",
       "      <th>SaleType_WD</th>\n",
       "      <th>SaleCondition_Abnorml</th>\n",
       "      <th>SaleCondition_AdjLand</th>\n",
       "      <th>SaleCondition_Alloca</th>\n",
       "      <th>SaleCondition_Family</th>\n",
       "      <th>SaleCondition_Normal</th>\n",
       "    </tr>\n",
       "  </thead>\n",
       "  <tbody>\n",
       "    <tr>\n",
       "      <th>LotFrontage</th>\n",
       "      <td>1.000000</td>\n",
       "      <td>0.335957</td>\n",
       "      <td>0.250274</td>\n",
       "      <td>0.239546</td>\n",
       "      <td>-0.043595</td>\n",
       "      <td>0.120999</td>\n",
       "      <td>0.084550</td>\n",
       "      <td>0.195830</td>\n",
       "      <td>0.166857</td>\n",
       "      <td>-0.006124</td>\n",
       "      <td>...</td>\n",
       "      <td>0.011442</td>\n",
       "      <td>-0.004261</td>\n",
       "      <td>0.122643</td>\n",
       "      <td>-0.017725</td>\n",
       "      <td>-0.090900</td>\n",
       "      <td>-0.014946</td>\n",
       "      <td>-0.036696</td>\n",
       "      <td>-0.018572</td>\n",
       "      <td>0.013666</td>\n",
       "      <td>-0.073047</td>\n",
       "    </tr>\n",
       "    <tr>\n",
       "      <th>LotArea</th>\n",
       "      <td>0.335957</td>\n",
       "      <td>1.000000</td>\n",
       "      <td>0.168539</td>\n",
       "      <td>0.105806</td>\n",
       "      <td>-0.005636</td>\n",
       "      <td>0.014228</td>\n",
       "      <td>0.013788</td>\n",
       "      <td>0.103321</td>\n",
       "      <td>0.055570</td>\n",
       "      <td>0.014732</td>\n",
       "      <td>...</td>\n",
       "      <td>0.016203</td>\n",
       "      <td>-0.016019</td>\n",
       "      <td>0.020039</td>\n",
       "      <td>-0.015026</td>\n",
       "      <td>-0.002292</td>\n",
       "      <td>-0.029126</td>\n",
       "      <td>-0.013208</td>\n",
       "      <td>0.008966</td>\n",
       "      <td>-0.010781</td>\n",
       "      <td>0.005711</td>\n",
       "    </tr>\n",
       "    <tr>\n",
       "      <th>Neighborhood</th>\n",
       "      <td>0.250274</td>\n",
       "      <td>0.168539</td>\n",
       "      <td>1.000000</td>\n",
       "      <td>0.684318</td>\n",
       "      <td>-0.219006</td>\n",
       "      <td>0.647928</td>\n",
       "      <td>0.506673</td>\n",
       "      <td>0.402346</td>\n",
       "      <td>0.652067</td>\n",
       "      <td>-0.062696</td>\n",
       "      <td>...</td>\n",
       "      <td>0.005388</td>\n",
       "      <td>-0.068483</td>\n",
       "      <td>0.327229</td>\n",
       "      <td>-0.032468</td>\n",
       "      <td>-0.220026</td>\n",
       "      <td>-0.090647</td>\n",
       "      <td>-0.053492</td>\n",
       "      <td>-0.024682</td>\n",
       "      <td>-0.045602</td>\n",
       "      <td>-0.150234</td>\n",
       "    </tr>\n",
       "    <tr>\n",
       "      <th>OverallQual</th>\n",
       "      <td>0.239546</td>\n",
       "      <td>0.105806</td>\n",
       "      <td>0.684318</td>\n",
       "      <td>1.000000</td>\n",
       "      <td>-0.091932</td>\n",
       "      <td>0.572323</td>\n",
       "      <td>0.550684</td>\n",
       "      <td>0.407252</td>\n",
       "      <td>0.726278</td>\n",
       "      <td>0.013953</td>\n",
       "      <td>...</td>\n",
       "      <td>0.017056</td>\n",
       "      <td>-0.065259</td>\n",
       "      <td>0.327412</td>\n",
       "      <td>-0.024494</td>\n",
       "      <td>-0.225013</td>\n",
       "      <td>-0.103535</td>\n",
       "      <td>-0.041677</td>\n",
       "      <td>-0.044950</td>\n",
       "      <td>-0.025515</td>\n",
       "      <td>-0.143282</td>\n",
       "    </tr>\n",
       "    <tr>\n",
       "      <th>OverallCond</th>\n",
       "      <td>-0.043595</td>\n",
       "      <td>-0.005636</td>\n",
       "      <td>-0.219006</td>\n",
       "      <td>-0.091932</td>\n",
       "      <td>1.000000</td>\n",
       "      <td>-0.375983</td>\n",
       "      <td>0.073741</td>\n",
       "      <td>-0.125694</td>\n",
       "      <td>-0.138942</td>\n",
       "      <td>0.389163</td>\n",
       "      <td>...</td>\n",
       "      <td>-0.013540</td>\n",
       "      <td>-0.028186</td>\n",
       "      <td>-0.156175</td>\n",
       "      <td>-0.054364</td>\n",
       "      <td>0.163684</td>\n",
       "      <td>-0.046367</td>\n",
       "      <td>-0.038888</td>\n",
       "      <td>-0.033444</td>\n",
       "      <td>-0.023873</td>\n",
       "      <td>0.161642</td>\n",
       "    </tr>\n",
       "  </tbody>\n",
       "</table>\n",
       "<p>5 rows × 203 columns</p>\n",
       "</div>"
      ],
      "text/plain": [
       "              LotFrontage   LotArea  Neighborhood  OverallQual  OverallCond  \\\n",
       "LotFrontage      1.000000  0.335957      0.250274     0.239546    -0.043595   \n",
       "LotArea          0.335957  1.000000      0.168539     0.105806    -0.005636   \n",
       "Neighborhood     0.250274  0.168539      1.000000     0.684318    -0.219006   \n",
       "OverallQual      0.239546  0.105806      0.684318     1.000000    -0.091932   \n",
       "OverallCond     -0.043595 -0.005636     -0.219006    -0.091932     1.000000   \n",
       "\n",
       "              YearBuilt  YearRemodAdd  MasVnrArea  ExterQual  ExterCond  ...  \\\n",
       "LotFrontage    0.120999      0.084550    0.195830   0.166857  -0.006124  ...   \n",
       "LotArea        0.014228      0.013788    0.103321   0.055570   0.014732  ...   \n",
       "Neighborhood   0.647928      0.506673    0.402346   0.652067  -0.062696  ...   \n",
       "OverallQual    0.572323      0.550684    0.407252   0.726278   0.013953  ...   \n",
       "OverallCond   -0.375983      0.073741   -0.125694  -0.138942   0.389163  ...   \n",
       "\n",
       "              MiscFeature_TenC  SaleType_COD  SaleType_New  SaleType_Other  \\\n",
       "LotFrontage           0.011442     -0.004261      0.122643       -0.017725   \n",
       "LotArea               0.016203     -0.016019      0.020039       -0.015026   \n",
       "Neighborhood          0.005388     -0.068483      0.327229       -0.032468   \n",
       "OverallQual           0.017056     -0.065259      0.327412       -0.024494   \n",
       "OverallCond          -0.013540     -0.028186     -0.156175       -0.054364   \n",
       "\n",
       "              SaleType_WD  SaleCondition_Abnorml  SaleCondition_AdjLand  \\\n",
       "LotFrontage     -0.090900              -0.014946              -0.036696   \n",
       "LotArea         -0.002292              -0.029126              -0.013208   \n",
       "Neighborhood    -0.220026              -0.090647              -0.053492   \n",
       "OverallQual     -0.225013              -0.103535              -0.041677   \n",
       "OverallCond      0.163684              -0.046367              -0.038888   \n",
       "\n",
       "              SaleCondition_Alloca  SaleCondition_Family  SaleCondition_Normal  \n",
       "LotFrontage              -0.018572              0.013666             -0.073047  \n",
       "LotArea                   0.008966             -0.010781              0.005711  \n",
       "Neighborhood             -0.024682             -0.045602             -0.150234  \n",
       "OverallQual              -0.044950             -0.025515             -0.143282  \n",
       "OverallCond              -0.033444             -0.023873              0.161642  \n",
       "\n",
       "[5 rows x 203 columns]"
      ]
     },
     "execution_count": 339,
     "metadata": {},
     "output_type": "execute_result"
    }
   ],
   "source": [
    "corr = df.corr()\n",
    "corr.head()"
   ]
  },
  {
   "cell_type": "code",
   "execution_count": 340,
   "metadata": {
    "ExecuteTime": {
     "end_time": "2020-08-16T04:42:37.328612Z",
     "start_time": "2020-08-16T04:42:37.106315Z"
    }
   },
   "outputs": [],
   "source": [
    "#Remove one of two features that have a correlation higher than 0.9\n",
    "columns = np.full((corr.shape[0],), True, dtype=bool)\n",
    "for i in range(corr.shape[0]):\n",
    "    for j in range(i+1, corr.shape[0]):\n",
    "        if corr.iloc[i,j] >= 0.9:\n",
    "            if columns[j]:\n",
    "                columns[j] = False\n",
    "selected_columns = df.columns[columns]"
   ]
  },
  {
   "cell_type": "code",
   "execution_count": 341,
   "metadata": {
    "ExecuteTime": {
     "end_time": "2020-08-16T04:42:38.079221Z",
     "start_time": "2020-08-16T04:42:38.067140Z"
    }
   },
   "outputs": [
    {
     "data": {
      "text/plain": [
       "numpy.ndarray"
      ]
     },
     "execution_count": 341,
     "metadata": {},
     "output_type": "execute_result"
    }
   ],
   "source": [
    "df = df[selected_columns]\n",
    "\n",
    "selected_columns\n",
    "\n",
    "selected_columns=selected_columns.tolist()\n",
    "\n",
    "selected_columns.remove('SalePrice')\n",
    "\n",
    "selected_columns=np.array(selected_columns)"
   ]
  },
  {
   "cell_type": "code",
   "execution_count": 342,
   "metadata": {
    "ExecuteTime": {
     "end_time": "2020-08-16T04:42:38.832351Z",
     "start_time": "2020-08-16T04:42:38.825514Z"
    }
   },
   "outputs": [],
   "source": [
    "import statsmodels.regression.linear_model as sm"
   ]
  },
  {
   "cell_type": "code",
   "execution_count": 343,
   "metadata": {
    "ExecuteTime": {
     "end_time": "2020-08-16T04:42:39.462914Z",
     "start_time": "2020-08-16T04:42:39.452623Z"
    }
   },
   "outputs": [],
   "source": [
    "X=df.drop('SalePrice',axis=1).values\n",
    "y=df.loc[:,'SalePrice'].values"
   ]
  },
  {
   "cell_type": "code",
   "execution_count": 344,
   "metadata": {
    "ExecuteTime": {
     "end_time": "2020-08-16T04:42:44.920898Z",
     "start_time": "2020-08-16T04:42:41.019892Z"
    }
   },
   "outputs": [],
   "source": [
    "numVars = df.shape[1]-1\n",
    "for i in range(0, numVars):\n",
    "    regressor_OLS = sm.OLS(y, X).fit()\n",
    "    maxVar = max(regressor_OLS.pvalues).astype(float)\n",
    "    if maxVar > 0.05:\n",
    "        for j in range(0, numVars - i):\n",
    "            if (regressor_OLS.pvalues[j].astype(float) == maxVar):\n",
    "                X = np.delete(X, j, 1)\n",
    "                selected_columns = np.delete(selected_columns, j)"
   ]
  },
  {
   "cell_type": "code",
   "execution_count": 834,
   "metadata": {
    "ExecuteTime": {
     "end_time": "2020-08-17T04:42:10.635931Z",
     "start_time": "2020-08-17T04:42:10.580824Z"
    }
   },
   "outputs": [
    {
     "data": {
      "text/plain": [
       "49"
      ]
     },
     "execution_count": 834,
     "metadata": {},
     "output_type": "execute_result"
    }
   ],
   "source": [
    "selected_columns.size"
   ]
  },
  {
   "cell_type": "code",
   "execution_count": 835,
   "metadata": {
    "ExecuteTime": {
     "end_time": "2020-08-17T04:42:11.556027Z",
     "start_time": "2020-08-17T04:42:11.540779Z"
    }
   },
   "outputs": [
    {
     "data": {
      "text/plain": [
       "(1460, 49)"
      ]
     },
     "execution_count": 835,
     "metadata": {},
     "output_type": "execute_result"
    }
   ],
   "source": [
    "X.shape"
   ]
  },
  {
   "cell_type": "markdown",
   "metadata": {},
   "source": [
    "# Data Scaling"
   ]
  },
  {
   "cell_type": "code",
   "execution_count": 697,
   "metadata": {
    "ExecuteTime": {
     "end_time": "2020-08-16T05:46:07.454254Z",
     "start_time": "2020-08-16T05:46:07.444103Z"
    }
   },
   "outputs": [],
   "source": [
    "from sklearn.preprocessing import MinMaxScaler\n",
    "minmax = MinMaxScaler()\n",
    "X = minmax.fit_transform(X)"
   ]
  },
  {
   "cell_type": "markdown",
   "metadata": {},
   "source": [
    "# Logistic Regression Model Training and Evaluation"
   ]
  },
  {
   "cell_type": "code",
   "execution_count": 836,
   "metadata": {
    "ExecuteTime": {
     "end_time": "2020-08-17T04:42:56.049598Z",
     "start_time": "2020-08-17T04:42:56.029498Z"
    }
   },
   "outputs": [],
   "source": [
    "X_train, X_test, y_train, y_test = train_test_split(X, y, test_size=0.33,random_state=0)"
   ]
  },
  {
   "cell_type": "code",
   "execution_count": 837,
   "metadata": {
    "ExecuteTime": {
     "end_time": "2020-08-17T04:42:56.849323Z",
     "start_time": "2020-08-17T04:42:56.770940Z"
    }
   },
   "outputs": [],
   "source": [
    "#logistic regression only\n",
    "lm = LogisticRegression(C=1,max_iter=1500)\n",
    "lm.fit(X_train, y_train)\n",
    "y_pred = lm.predict(X_test)\n",
    "y_pred_lm = lm.predict_proba(X_test)[:, 1]\n",
    "fpr_lm, tpr_lm, _ = roc_curve(y_test, y_pred_lm)"
   ]
  },
  {
   "cell_type": "code",
   "execution_count": 838,
   "metadata": {
    "ExecuteTime": {
     "end_time": "2020-08-17T04:42:58.100060Z",
     "start_time": "2020-08-17T04:42:58.088448Z"
    }
   },
   "outputs": [
    {
     "data": {
      "text/plain": [
       "0.9314928425357873"
      ]
     },
     "execution_count": 838,
     "metadata": {},
     "output_type": "execute_result"
    }
   ],
   "source": [
    "lm.score(X_train,y_train)"
   ]
  },
  {
   "cell_type": "code",
   "execution_count": 839,
   "metadata": {
    "ExecuteTime": {
     "end_time": "2020-08-17T04:42:58.584199Z",
     "start_time": "2020-08-17T04:42:58.565151Z"
    },
    "scrolled": true
   },
   "outputs": [
    {
     "data": {
      "text/plain": [
       "0.9294605809128631"
      ]
     },
     "execution_count": 839,
     "metadata": {},
     "output_type": "execute_result"
    }
   ],
   "source": [
    "lm.score(X_test,y_test)"
   ]
  },
  {
   "cell_type": "code",
   "execution_count": 848,
   "metadata": {
    "ExecuteTime": {
     "end_time": "2020-08-17T04:48:54.921918Z",
     "start_time": "2020-08-17T04:48:54.757383Z"
    }
   },
   "outputs": [
    {
     "name": "stdout",
     "output_type": "stream",
     "text": [
      "[0.93835616 0.92808219 0.90068493 0.94178082 0.92465753]\n"
     ]
    }
   ],
   "source": [
    "from sklearn.model_selection import cross_val_score\n",
    "regressor_model = LogisticRegression()\n",
    "regressor_model.fit(X, y,)\n",
    "print(cross_val_score(regressor_model,X, y,cv=5))"
   ]
  },
  {
   "cell_type": "code",
   "execution_count": 841,
   "metadata": {
    "ExecuteTime": {
     "end_time": "2020-08-17T04:43:05.849299Z",
     "start_time": "2020-08-17T04:43:05.830263Z"
    }
   },
   "outputs": [
    {
     "data": {
      "text/plain": [
       "0.9288702928870293"
      ]
     },
     "execution_count": 841,
     "metadata": {},
     "output_type": "execute_result"
    }
   ],
   "source": [
    "from sklearn.metrics import f1_score, confusion_matrix\n",
    "f1_score(y_test, y_pred)"
   ]
  },
  {
   "cell_type": "code",
   "execution_count": null,
   "metadata": {},
   "outputs": [],
   "source": [
    "regressor_model."
   ]
  },
  {
   "cell_type": "code",
   "execution_count": 842,
   "metadata": {
    "ExecuteTime": {
     "end_time": "2020-08-17T04:43:06.853064Z",
     "start_time": "2020-08-17T04:43:06.837093Z"
    }
   },
   "outputs": [
    {
     "data": {
      "text/plain": [
       "array([[226,  18],\n",
       "       [ 16, 222]])"
      ]
     },
     "execution_count": 842,
     "metadata": {},
     "output_type": "execute_result"
    }
   ],
   "source": [
    "confusion_matrix(y_test, y_pred)"
   ]
  },
  {
   "cell_type": "markdown",
   "metadata": {},
   "source": [
    " <span style=\"color:blue\"><font size=\"4\">The model is underfitted. Next：try feature transformation </font></span>"
   ]
  },
  {
   "cell_type": "markdown",
   "metadata": {},
   "source": [
    "# Feature Transformation + LogisticRegression "
   ]
  },
  {
   "cell_type": "code",
   "execution_count": 843,
   "metadata": {
    "ExecuteTime": {
     "end_time": "2020-08-17T04:45:37.221075Z",
     "start_time": "2020-08-17T04:45:37.209091Z"
    }
   },
   "outputs": [],
   "source": [
    "#split the training set to ensemble feature transformation model(gradient boosted trees) \n",
    "#on a different subset of the training data than the linear regression model to avoid overfitting\n",
    "X_train, X_train_lr, y_train, y_train_lr = train_test_split(\n",
    "X_train, y_train, test_size=0.5,random_state=0)"
   ]
  },
  {
   "cell_type": "code",
   "execution_count": 856,
   "metadata": {
    "ExecuteTime": {
     "end_time": "2020-08-17T04:59:15.084378Z",
     "start_time": "2020-08-17T04:59:14.995434Z"
    }
   },
   "outputs": [
    {
     "data": {
      "text/plain": [
       "OneHotEncoder(categories='auto', drop=None, dtype=<class 'numpy.float64'>,\n",
       "              handle_unknown='error', sparse=True)"
      ]
     },
     "execution_count": 856,
     "metadata": {},
     "output_type": "execute_result"
    }
   ],
   "source": [
    "#transformation based on gradient boosted trees\n",
    "grd = GradientBoostingClassifier(min_samples_split=2,min_samples_leaf=5,n_estimators=35)\n",
    "grd_enc = OneHotEncoder()\n",
    "grd_lm = LogisticRegression(C=1,max_iter=1500)\n",
    "grd.fit(X_train, y_train)\n",
    "grd_enc.fit(grd.apply(X_train)[:, :, 0])"
   ]
  },
  {
   "cell_type": "code",
   "execution_count": 857,
   "metadata": {
    "ExecuteTime": {
     "end_time": "2020-08-17T04:59:27.792773Z",
     "start_time": "2020-08-17T04:59:27.731786Z"
    }
   },
   "outputs": [
    {
     "data": {
      "text/plain": [
       "LogisticRegression(C=1, class_weight=None, dual=False, fit_intercept=True,\n",
       "                   intercept_scaling=1, l1_ratio=None, max_iter=1500,\n",
       "                   multi_class='auto', n_jobs=None, penalty='l2',\n",
       "                   random_state=None, solver='lbfgs', tol=0.0001, verbose=0,\n",
       "                   warm_start=False)"
      ]
     },
     "execution_count": 857,
     "metadata": {},
     "output_type": "execute_result"
    }
   ],
   "source": [
    "#logistic regression model training\n",
    "grd_lm.fit(grd_enc.transform(grd.apply(X_train_lr)[:, :, 0]), y_train_lr)\n",
    "# y_pred_grd_lm = grd_lm.predict_proba(\n",
    "#     grd_enc.transform(grd.apply(X_test)[:, :, 0]))[:, 1]"
   ]
  },
  {
   "cell_type": "code",
   "execution_count": 858,
   "metadata": {
    "ExecuteTime": {
     "end_time": "2020-08-17T04:59:29.753195Z",
     "start_time": "2020-08-17T04:59:29.736123Z"
    }
   },
   "outputs": [
    {
     "data": {
      "text/plain": [
       "0.9734151329243353"
      ]
     },
     "execution_count": 858,
     "metadata": {},
     "output_type": "execute_result"
    }
   ],
   "source": [
    "# Performance on training set\n",
    "grd_lm.score(grd_enc.transform(grd.apply(X_train_lr)[:, :, 0]),y_train_lr)"
   ]
  },
  {
   "cell_type": "code",
   "execution_count": 873,
   "metadata": {
    "ExecuteTime": {
     "end_time": "2020-08-17T05:01:29.175638Z",
     "start_time": "2020-08-17T05:01:29.152330Z"
    },
    "scrolled": true
   },
   "outputs": [
    {
     "data": {
      "text/plain": [
       "0.9232365145228216"
      ]
     },
     "execution_count": 873,
     "metadata": {},
     "output_type": "execute_result"
    }
   ],
   "source": [
    "# Perfomance on test set\n",
    "grd_lm.score(grd_enc.transform(grd.apply(X_test)[:, :, 0]),y_test)"
   ]
  },
  {
   "cell_type": "code",
   "execution_count": 868,
   "metadata": {
    "ExecuteTime": {
     "end_time": "2020-08-17T05:00:22.210695Z",
     "start_time": "2020-08-17T05:00:22.124814Z"
    }
   },
   "outputs": [
    {
     "data": {
      "text/plain": [
       "OneHotEncoder(categories='auto', drop=None, dtype=<class 'numpy.float64'>,\n",
       "              handle_unknown='error', sparse=True)"
      ]
     },
     "execution_count": 868,
     "metadata": {},
     "output_type": "execute_result"
    }
   ],
   "source": [
    "#transformation based on gradient boosted trees\n",
    "grd = GradientBoostingClassifier(min_samples_split=2,min_samples_leaf=5,n_estimators=35)\n",
    "grd_enc = OneHotEncoder()\n",
    "grd_lm = LogisticRegression(C=0.2,max_iter=1500)\n",
    "grd.fit(X_train, y_train)\n",
    "grd_enc.fit(grd.apply(X_train)[:, :, 0])"
   ]
  },
  {
   "cell_type": "code",
   "execution_count": 869,
   "metadata": {
    "ExecuteTime": {
     "end_time": "2020-08-17T05:00:22.795383Z",
     "start_time": "2020-08-17T05:00:22.749841Z"
    }
   },
   "outputs": [],
   "source": [
    "#logistic regression model training\n",
    "grd_lm.fit(grd_enc.transform(grd.apply(X_train_lr)[:, :, 0]), y_train_lr)\n",
    "y_pred_grd_lm = grd_lm.predict_proba(\n",
    "    grd_enc.transform(grd.apply(X_test)[:, :, 0]))[:, 1]\n",
    "fpr_grd_lm, tpr_grd_lm, _ = roc_curve(y_test, y_pred_grd_lm)"
   ]
  },
  {
   "cell_type": "code",
   "execution_count": 870,
   "metadata": {
    "ExecuteTime": {
     "end_time": "2020-08-17T05:00:23.366676Z",
     "start_time": "2020-08-17T05:00:23.348527Z"
    }
   },
   "outputs": [
    {
     "data": {
      "text/plain": [
       "0.9406952965235174"
      ]
     },
     "execution_count": 870,
     "metadata": {},
     "output_type": "execute_result"
    }
   ],
   "source": [
    "grd_lm.score(grd_enc.transform(grd.apply(X_train_lr)[:, :, 0]),y_train_lr)"
   ]
  },
  {
   "cell_type": "code",
   "execution_count": 871,
   "metadata": {
    "ExecuteTime": {
     "end_time": "2020-08-17T05:00:24.063021Z",
     "start_time": "2020-08-17T05:00:24.046230Z"
    },
    "scrolled": true
   },
   "outputs": [
    {
     "data": {
      "text/plain": [
       "0.9232365145228216"
      ]
     },
     "execution_count": 871,
     "metadata": {},
     "output_type": "execute_result"
    }
   ],
   "source": [
    "grd_lm.score(grd_enc.transform(grd.apply(X_test)[:, :, 0]),y_test)"
   ]
  },
  {
   "cell_type": "code",
   "execution_count": 872,
   "metadata": {
    "ExecuteTime": {
     "end_time": "2020-08-17T05:00:33.489313Z",
     "start_time": "2020-08-17T05:00:32.153592Z"
    }
   },
   "outputs": [
    {
     "data": {
      "image/png": "[encoded data removed]",
      "text/plain": [
       "<Figure size 432x288 with 1 Axes>"
      ]
     },
     "metadata": {
      "needs_background": "light"
     },
     "output_type": "display_data"
    },
    {
     "data": {
      "image/png": "[encoded data removed]",
      "text/plain": [
       "<Figure size 432x288 with 1 Axes>"
      ]
     },
     "metadata": {
      "needs_background": "light"
     },
     "output_type": "display_data"
    }
   ],
   "source": [
    "# Comparing new new model with previous model\n",
    "plt.figure(1)\n",
    "plt.plot([0, 1], [0, 1], 'k--')\n",
    "plt.plot(fpr_lm, tpr_lm, label='LM')\n",
    "plt.plot(fpr_grd_lm, tpr_grd_lm, label='GBT + LR')\n",
    "plt.xlabel('False positive rate')\n",
    "plt.ylabel('True positive rate')\n",
    "plt.title('ROC curve')\n",
    "plt.legend(loc='best')\n",
    "plt.show()\n",
    "plt.figure(2)\n",
    "plt.xlim(0, 0.2)\n",
    "plt.ylim(0.8, 1)\n",
    "plt.plot([0, 1], [0, 1], 'k--')\n",
    "plt.plot(fpr_lm, tpr_lm, label='LM')\n",
    "plt.plot(fpr_grd_lm, tpr_grd_lm, label='GBT + LR')\n",
    "plt.xlabel('False positive rate')\n",
    "plt.ylabel('True positive rate')\n",
    "plt.title('ROC curve (zoomed in at top left)')\n",
    "plt.legend(loc='best')\n",
    "plt.show()"
   ]
  },
  {
   "cell_type": "markdown",
   "metadata": {},
   "source": [
    "# Problem:\n",
    "- After tree based feature transformation is done, Model performance is obviously improved on training set, but the tradeoff is variance problem, test accuracy didn't change at all.\n",
    "- Tree based feature transformation + LogisticRegression（with regularization) ≈  LogisticRegression\n",
    "- Bias problem still exists\n",
    "    "
   ]
  },
  {
   "cell_type": "markdown",
   "metadata": {},
   "source": [
    "# solution\n",
    "- Biger training set\n",
    "- Collect more valuable features\n",
    "- Manully creat new features from existing features\n",
    "- Change feature selection strategy\n",
    "- more complex model, Tree or SVM"
   ]
  }
 ],
 "metadata": {
  "kernelspec": {
   "display_name": "Python 3",
   "language": "python",
   "name": "python3"
  },
  "language_info": {
   "codemirror_mode": {
    "name": "ipython",
    "version": 3
   },
   "file_extension": ".py",
   "mimetype": "text/x-python",
   "name": "python",
   "nbconvert_exporter": "python",
   "pygments_lexer": "ipython3",
   "version": "3.7.6"
  },
  "latex_envs": {
   "LaTeX_envs_menu_present": true,
   "autoclose": false,
   "autocomplete": true,
   "bibliofile": "biblio.bib",
   "cite_by": "apalike",
   "current_citInitial": 1,
   "eqLabelWithNumbers": true,
   "eqNumInitial": 1,
   "hotkeys": {
    "equation": "Ctrl-E",
    "itemize": "Ctrl-I"
   },
   "labels_anchors": false,
   "latex_user_defs": false,
   "report_style_numbering": false,
   "user_envs_cfg": false
  },
  "toc": {
   "base_numbering": 1,
   "nav_menu": {},
   "number_sections": true,
   "sideBar": true,
   "skip_h1_title": false,
   "title_cell": "Table of Contents",
   "title_sidebar": "Contents",
   "toc_cell": false,
   "toc_position": {
    "height": "calc(100% - 180px)",
    "left": "10px",
    "top": "150px",
    "width": "256px"
   },
   "toc_section_display": true,
   "toc_window_display": true
  },
  "varInspector": {
   "cols": {
    "lenName": 16,
    "lenType": 16,
    "lenVar": 40
   },
   "kernels_config": {
    "python": {
     "delete_cmd_postfix": "",
     "delete_cmd_prefix": "del ",
     "library": "var_list.py",
     "varRefreshCmd": "print(var_dic_list())"
    },
    "r": {
     "delete_cmd_postfix": ") ",
     "delete_cmd_prefix": "rm(",
     "library": "var_list.r",
     "varRefreshCmd": "cat(var_dic_list()) "
    }
   },
   "types_to_exclude": [
    "module",
    "function",
    "builtin_function_or_method",
    "instance",
    "_Feature"
   ],
   "window_display": false
  }
 },
 "nbformat": 4,
 "nbformat_minor": 2
}
