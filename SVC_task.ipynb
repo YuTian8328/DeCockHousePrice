{
 "cells": [
  {
   "cell_type": "markdown",
   "metadata": {
    "ExecuteTime": {
     "end_time": "2020-08-16T05:25:06.692494Z",
     "start_time": "2020-08-16T05:25:06.683550Z"
    }
   },
   "source": [
    "<span style=\"color:darkblue\"><font size=\"5\"> DeCockHousePrice Dataset: Salerice Level Classification </font></span> \n",
    "\n",
    "    SVC vs Logistic Regression"
   ]
  },
  {
   "cell_type": "code",
   "execution_count": 698,
   "metadata": {
    "ExecuteTime": {
     "end_time": "2020-08-25T08:19:59.288587Z",
     "start_time": "2020-08-25T08:19:58.960440Z"
    }
   },
   "outputs": [],
   "source": [
    "import pandas as pd\n",
    "import seaborn as sns; sns.set(color_codes=True)\n",
    "from mpl_toolkits.mplot3d import Axes3D\n",
    "import matplotlib.pyplot as plt\n",
    "%matplotlib inline\n",
    "import warnings; warnings.simplefilter('ignore')\n",
    "import numpy as np\n",
    "np.random.seed(10)\n",
    "from sklearn.linear_model import LogisticRegression\n",
    "\n",
    "from sklearn.ensemble import (RandomTreesEmbedding, RandomForestClassifier,\n",
    "                              GradientBoostingClassifier)\n",
    "from sklearn.preprocessing import OneHotEncoder\n",
    "from sklearn.model_selection import train_test_split\n",
    "from sklearn.metrics import roc_curve\n",
    "from sklearn.pipeline import make_pipeline"
   ]
  },
  {
   "cell_type": "code",
   "execution_count": 699,
   "metadata": {
    "ExecuteTime": {
     "end_time": "2020-08-25T08:20:01.054182Z",
     "start_time": "2020-08-25T08:20:00.957250Z"
    }
   },
   "outputs": [],
   "source": [
    "df=pd.read_csv('data/train.csv')"
   ]
  },
  {
   "cell_type": "markdown",
   "metadata": {},
   "source": [
    "# Data cleaning"
   ]
  },
  {
   "cell_type": "code",
   "execution_count": 700,
   "metadata": {
    "ExecuteTime": {
     "end_time": "2020-08-25T08:20:02.418080Z",
     "start_time": "2020-08-25T08:20:02.274163Z"
    }
   },
   "outputs": [],
   "source": [
    "cg_cols = ['Alley', 'PoolQC', 'MiscFeature', 'Fence', 'FireplaceQu', 'GarageType',\n",
    "    'GarageFinish', 'GarageQual', 'GarageCond', 'BsmtQual', 'BsmtCond',\n",
    "    'BsmtExposure', 'BsmtFinType1', 'BsmtFinType2', 'MasVnrType']\n",
    "dc_cols = ['BsmtFinSF1', 'BsmtFinSF2', 'BsmtUnfSF', 'TotalBsmtSF', 'BsmtFullBath',\n",
    "    'BsmtHalfBath', 'GarageYrBlt', 'GarageArea', 'GarageCars', 'MasVnrArea']\n",
    "ot_cols = ['Electrical', 'Exterior1st', 'Exterior2nd', 'Functional', 'KitchenQual',\n",
    "    'SaleType', 'Utilities']\n",
    "for col in dc_cols:\n",
    "    df[col].replace(np.nan, 0, inplace=True)\n",
    "\n",
    "for col in cg_cols:\n",
    "    df[col].replace(np.nan, 'None', inplace=True)\n",
    "\n",
    "for col in ot_cols:\n",
    "    df[col].replace(np.nan, df[col].mode()[0], inplace=True)\n",
    "    \n",
    "# Filling MSZoning according to MSSubClass\n",
    "df['MSZoning'] = df.groupby('MSSubClass')['MSZoning'].apply(\n",
    "    lambda x: x.fillna(x.mode()[0]))\n",
    "\n",
    "# Filling LotFrontage according to Neighborhood\n",
    "\n",
    "df['LotFrontage']=df.groupby(['Neighborhood'])['LotFrontage'].apply(lambda x: x.fillna(x.median()))"
   ]
  },
  {
   "cell_type": "code",
   "execution_count": 701,
   "metadata": {
    "ExecuteTime": {
     "end_time": "2020-08-25T08:20:03.113326Z",
     "start_time": "2020-08-25T08:20:03.023118Z"
    }
   },
   "outputs": [],
   "source": [
    "df.drop('Id',axis=1,inplace=True)\n",
    "\n",
    "#binning with rare values\n",
    "col_rare = ['Condition1', 'Condition2', 'RoofMatl', 'Exterior1st', 'Exterior2nd',\n",
    "    'Heating', 'Electrical', 'Functional', 'SaleType']\n",
    "\n",
    "for col in col_rare:\n",
    "    mask = df[col].isin(\n",
    "        df[col].value_counts()[df[col].value_counts() < 10].index)\n",
    "    df[col][mask] = 'Other'"
   ]
  },
  {
   "cell_type": "code",
   "execution_count": 702,
   "metadata": {
    "ExecuteTime": {
     "end_time": "2020-08-25T08:20:03.820739Z",
     "start_time": "2020-08-25T08:20:03.757480Z"
    }
   },
   "outputs": [],
   "source": [
    "# Features which numerical on data but should be treated as category.\n",
    "df['MSSubClass'] = df['MSSubClass'].astype(str)\n",
    "\n",
    "# cyclical feature transformation\n",
    "from math import pi\n",
    "df['MoSold']=2*pi*df['MoSold']/df['MoSold'].max()\n",
    "df[\"cos_MoSold\"] = np.cos(df[\"MoSold\"])\n",
    "df[\"sin_MoSold\"] = np.sin(df[\"MoSold\"])"
   ]
  },
  {
   "cell_type": "code",
   "execution_count": 703,
   "metadata": {
    "ExecuteTime": {
     "end_time": "2020-08-25T08:20:04.562573Z",
     "start_time": "2020-08-25T08:20:04.487208Z"
    }
   },
   "outputs": [],
   "source": [
    "neigh_map={'MeadowV': 1,'IDOTRR': 1,\n",
    "    'BrDale': 1, 'BrkSide': 2,\n",
    "    'OldTown': 2, 'Edwards': 2,\n",
    "    'Sawyer': 3,    'Blueste': 3,\n",
    "    'SWISU': 3,    'NPkVill': 3,\n",
    "    'NAmes': 3,    'Mitchel': 4,\n",
    "    'SawyerW': 5,    'NWAmes': 5,\n",
    "    'Gilbert': 5,    'Blmngtn': 5,\n",
    "    'CollgCr': 5,    'ClearCr': 6,\n",
    "    'Crawfor': 6,    'Veenker': 7,\n",
    "    'Somerst': 7,    'Timber': 8,\n",
    "    'StoneBr': 9,    'NridgHt': 10,\n",
    "    'NoRidge': 10}\n",
    "    \n",
    "df['Neighborhood'] = df['Neighborhood'].map(neigh_map).astype('int')\n",
    "\n",
    "ext_map = {'Po': 1, 'Fa': 2, 'TA': 3, 'Gd': 4, 'Ex': 5}\n",
    "df['ExterCond'] = df['ExterCond'].map(ext_map).astype('int')\n",
    "df['ExterQual'] = df['ExterQual'].map(ext_map).astype('int')\n",
    "\n",
    "bsm_map = {'None': 0, 'Po': 1, 'Fa': 2, 'TA': 3, 'Gd': 4, 'Ex': 5}\n",
    "df['BsmtQual'] = df['BsmtQual'].map(bsm_map).astype('int')\n",
    "df['BsmtCond'] = df['BsmtCond'].map(bsm_map).astype('int')\n",
    "bsmf_map = {'None': 0, 'Unf': 1,'LwQ': 2,'Rec': 3, 'BLQ': 4, 'ALQ': 5,'GLQ': 6}\n",
    "\n",
    "df['BsmtFinType1'] = df['BsmtFinType1'].map(bsmf_map).astype('int')\n",
    "df['BsmtFinType2'] = df['BsmtFinType2'].map(bsmf_map).astype('int')\n",
    "heat_map = {'Po': 1, 'Fa': 2, 'TA': 3, 'Gd': 4, 'Ex': 5}\n",
    "df['HeatingQC'] = df['HeatingQC'].map(heat_map).astype('int')\n",
    "df['KitchenQual'] = df['KitchenQual'].map(heat_map).astype('int')\n",
    "df['FireplaceQu'] = df['FireplaceQu'].map(bsm_map).astype('int')\n",
    "df['GarageCond'] = df['GarageCond'].map(bsm_map).astype('int')\n",
    "df['GarageQual'] = df['GarageQual'].map(bsm_map).astype('int')"
   ]
  },
  {
   "cell_type": "code",
   "execution_count": 704,
   "metadata": {
    "ExecuteTime": {
     "end_time": "2020-08-25T08:20:06.725077Z",
     "start_time": "2020-08-25T08:20:06.648036Z"
    }
   },
   "outputs": [],
   "source": [
    "# Getting dummy variables for nominal categorical features\n",
    "df = pd.get_dummies(data=df)"
   ]
  },
  {
   "cell_type": "code",
   "execution_count": 705,
   "metadata": {
    "ExecuteTime": {
     "end_time": "2020-08-25T08:20:12.407376Z",
     "start_time": "2020-08-25T08:20:12.373038Z"
    },
    "scrolled": true
   },
   "outputs": [
    {
     "data": {
      "text/html": [
       "<div>\n",
       "<style scoped>\n",
       "    .dataframe tbody tr th:only-of-type {\n",
       "        vertical-align: middle;\n",
       "    }\n",
       "\n",
       "    .dataframe tbody tr th {\n",
       "        vertical-align: top;\n",
       "    }\n",
       "\n",
       "    .dataframe thead th {\n",
       "        text-align: right;\n",
       "    }\n",
       "</style>\n",
       "<table border=\"1\" class=\"dataframe\">\n",
       "  <thead>\n",
       "    <tr style=\"text-align: right;\">\n",
       "      <th></th>\n",
       "      <th>LotFrontage</th>\n",
       "      <th>LotArea</th>\n",
       "      <th>Neighborhood</th>\n",
       "      <th>OverallQual</th>\n",
       "      <th>OverallCond</th>\n",
       "      <th>YearBuilt</th>\n",
       "      <th>YearRemodAdd</th>\n",
       "      <th>MasVnrArea</th>\n",
       "      <th>ExterQual</th>\n",
       "      <th>ExterCond</th>\n",
       "      <th>...</th>\n",
       "      <th>SaleType_COD</th>\n",
       "      <th>SaleType_New</th>\n",
       "      <th>SaleType_Other</th>\n",
       "      <th>SaleType_WD</th>\n",
       "      <th>SaleCondition_Abnorml</th>\n",
       "      <th>SaleCondition_AdjLand</th>\n",
       "      <th>SaleCondition_Alloca</th>\n",
       "      <th>SaleCondition_Family</th>\n",
       "      <th>SaleCondition_Normal</th>\n",
       "      <th>SaleCondition_Partial</th>\n",
       "    </tr>\n",
       "  </thead>\n",
       "  <tbody>\n",
       "    <tr>\n",
       "      <th>0</th>\n",
       "      <td>65.0</td>\n",
       "      <td>8450</td>\n",
       "      <td>5</td>\n",
       "      <td>7</td>\n",
       "      <td>5</td>\n",
       "      <td>2003</td>\n",
       "      <td>2003</td>\n",
       "      <td>196.0</td>\n",
       "      <td>4</td>\n",
       "      <td>3</td>\n",
       "      <td>...</td>\n",
       "      <td>0</td>\n",
       "      <td>0</td>\n",
       "      <td>0</td>\n",
       "      <td>1</td>\n",
       "      <td>0</td>\n",
       "      <td>0</td>\n",
       "      <td>0</td>\n",
       "      <td>0</td>\n",
       "      <td>1</td>\n",
       "      <td>0</td>\n",
       "    </tr>\n",
       "    <tr>\n",
       "      <th>1</th>\n",
       "      <td>80.0</td>\n",
       "      <td>9600</td>\n",
       "      <td>7</td>\n",
       "      <td>6</td>\n",
       "      <td>8</td>\n",
       "      <td>1976</td>\n",
       "      <td>1976</td>\n",
       "      <td>0.0</td>\n",
       "      <td>3</td>\n",
       "      <td>3</td>\n",
       "      <td>...</td>\n",
       "      <td>0</td>\n",
       "      <td>0</td>\n",
       "      <td>0</td>\n",
       "      <td>1</td>\n",
       "      <td>0</td>\n",
       "      <td>0</td>\n",
       "      <td>0</td>\n",
       "      <td>0</td>\n",
       "      <td>1</td>\n",
       "      <td>0</td>\n",
       "    </tr>\n",
       "    <tr>\n",
       "      <th>2</th>\n",
       "      <td>68.0</td>\n",
       "      <td>11250</td>\n",
       "      <td>5</td>\n",
       "      <td>7</td>\n",
       "      <td>5</td>\n",
       "      <td>2001</td>\n",
       "      <td>2002</td>\n",
       "      <td>162.0</td>\n",
       "      <td>4</td>\n",
       "      <td>3</td>\n",
       "      <td>...</td>\n",
       "      <td>0</td>\n",
       "      <td>0</td>\n",
       "      <td>0</td>\n",
       "      <td>1</td>\n",
       "      <td>0</td>\n",
       "      <td>0</td>\n",
       "      <td>0</td>\n",
       "      <td>0</td>\n",
       "      <td>1</td>\n",
       "      <td>0</td>\n",
       "    </tr>\n",
       "    <tr>\n",
       "      <th>3</th>\n",
       "      <td>60.0</td>\n",
       "      <td>9550</td>\n",
       "      <td>6</td>\n",
       "      <td>7</td>\n",
       "      <td>5</td>\n",
       "      <td>1915</td>\n",
       "      <td>1970</td>\n",
       "      <td>0.0</td>\n",
       "      <td>3</td>\n",
       "      <td>3</td>\n",
       "      <td>...</td>\n",
       "      <td>0</td>\n",
       "      <td>0</td>\n",
       "      <td>0</td>\n",
       "      <td>1</td>\n",
       "      <td>1</td>\n",
       "      <td>0</td>\n",
       "      <td>0</td>\n",
       "      <td>0</td>\n",
       "      <td>0</td>\n",
       "      <td>0</td>\n",
       "    </tr>\n",
       "    <tr>\n",
       "      <th>4</th>\n",
       "      <td>84.0</td>\n",
       "      <td>14260</td>\n",
       "      <td>10</td>\n",
       "      <td>8</td>\n",
       "      <td>5</td>\n",
       "      <td>2000</td>\n",
       "      <td>2000</td>\n",
       "      <td>350.0</td>\n",
       "      <td>4</td>\n",
       "      <td>3</td>\n",
       "      <td>...</td>\n",
       "      <td>0</td>\n",
       "      <td>0</td>\n",
       "      <td>0</td>\n",
       "      <td>1</td>\n",
       "      <td>0</td>\n",
       "      <td>0</td>\n",
       "      <td>0</td>\n",
       "      <td>0</td>\n",
       "      <td>1</td>\n",
       "      <td>0</td>\n",
       "    </tr>\n",
       "  </tbody>\n",
       "</table>\n",
       "<p>5 rows × 215 columns</p>\n",
       "</div>"
      ],
      "text/plain": [
       "   LotFrontage  LotArea  Neighborhood  OverallQual  OverallCond  YearBuilt  \\\n",
       "0         65.0     8450             5            7            5       2003   \n",
       "1         80.0     9600             7            6            8       1976   \n",
       "2         68.0    11250             5            7            5       2001   \n",
       "3         60.0     9550             6            7            5       1915   \n",
       "4         84.0    14260            10            8            5       2000   \n",
       "\n",
       "   YearRemodAdd  MasVnrArea  ExterQual  ExterCond  ...  SaleType_COD  \\\n",
       "0          2003       196.0          4          3  ...             0   \n",
       "1          1976         0.0          3          3  ...             0   \n",
       "2          2002       162.0          4          3  ...             0   \n",
       "3          1970         0.0          3          3  ...             0   \n",
       "4          2000       350.0          4          3  ...             0   \n",
       "\n",
       "   SaleType_New  SaleType_Other  SaleType_WD  SaleCondition_Abnorml  \\\n",
       "0             0               0            1                      0   \n",
       "1             0               0            1                      0   \n",
       "2             0               0            1                      0   \n",
       "3             0               0            1                      1   \n",
       "4             0               0            1                      0   \n",
       "\n",
       "   SaleCondition_AdjLand  SaleCondition_Alloca  SaleCondition_Family  \\\n",
       "0                      0                     0                     0   \n",
       "1                      0                     0                     0   \n",
       "2                      0                     0                     0   \n",
       "3                      0                     0                     0   \n",
       "4                      0                     0                     0   \n",
       "\n",
       "   SaleCondition_Normal  SaleCondition_Partial  \n",
       "0                     1                      0  \n",
       "1                     1                      0  \n",
       "2                     1                      0  \n",
       "3                     0                      0  \n",
       "4                     1                      0  \n",
       "\n",
       "[5 rows x 215 columns]"
      ]
     },
     "execution_count": 705,
     "metadata": {},
     "output_type": "execute_result"
    }
   ],
   "source": [
    "df.head()"
   ]
  },
  {
   "cell_type": "markdown",
   "metadata": {},
   "source": [
    "# Feature Selection \n",
    "    - Based on correlation\n",
    "    \n",
    "    - Based on P-value"
   ]
  },
  {
   "cell_type": "code",
   "execution_count": 706,
   "metadata": {
    "ExecuteTime": {
     "end_time": "2020-08-25T08:20:21.652176Z",
     "start_time": "2020-08-25T08:20:21.525736Z"
    }
   },
   "outputs": [],
   "source": [
    "corr = df.corr()"
   ]
  },
  {
   "cell_type": "code",
   "execution_count": 707,
   "metadata": {
    "ExecuteTime": {
     "end_time": "2020-08-25T08:20:26.578276Z",
     "start_time": "2020-08-25T08:20:26.350264Z"
    }
   },
   "outputs": [],
   "source": [
    "#Remove one of two features that have a correlation higher than 0.9\n",
    "columns = np.full((corr.shape[0],), True, dtype=bool)\n",
    "for i in range(corr.shape[0]):\n",
    "    for j in range(i+1, corr.shape[0]):\n",
    "        if corr.iloc[i,j] >= 0.9:\n",
    "            if columns[j]:\n",
    "                columns[j] = False\n",
    "selected_columns = df.columns[columns]"
   ]
  },
  {
   "cell_type": "code",
   "execution_count": 708,
   "metadata": {
    "ExecuteTime": {
     "end_time": "2020-08-25T08:20:28.625011Z",
     "start_time": "2020-08-25T08:20:28.576461Z"
    }
   },
   "outputs": [],
   "source": [
    "df = df[selected_columns]\n",
    "\n",
    "selected_columns\n",
    "\n",
    "selected_columns=selected_columns.tolist()\n",
    "\n",
    "selected_columns.remove('SalePrice')\n",
    "\n",
    "selected_columns=np.array(selected_columns)"
   ]
  },
  {
   "cell_type": "code",
   "execution_count": 612,
   "metadata": {
    "ExecuteTime": {
     "end_time": "2020-08-21T05:22:29.781089Z",
     "start_time": "2020-08-21T05:22:29.777150Z"
    }
   },
   "outputs": [],
   "source": [
    "import statsmodels.regression.linear_model as sm"
   ]
  },
  {
   "cell_type": "code",
   "execution_count": 709,
   "metadata": {
    "ExecuteTime": {
     "end_time": "2020-08-25T08:20:41.714962Z",
     "start_time": "2020-08-25T08:20:41.705983Z"
    }
   },
   "outputs": [],
   "source": [
    "X=df.drop('SalePrice',axis=1).values\n",
    "y=df.loc[:,'SalePrice'].values"
   ]
  },
  {
   "cell_type": "code",
   "execution_count": 710,
   "metadata": {
    "ExecuteTime": {
     "end_time": "2020-08-25T08:20:49.359233Z",
     "start_time": "2020-08-25T08:20:42.568983Z"
    }
   },
   "outputs": [],
   "source": [
    "numVars = df.shape[1]-1\n",
    "for i in range(0, numVars):\n",
    "    regressor_OLS = sm.OLS(y, X).fit()\n",
    "    maxVar = max(regressor_OLS.pvalues).astype(float)\n",
    "    if maxVar > 0.05:\n",
    "        for j in range(0, numVars - i):\n",
    "            if (regressor_OLS.pvalues[j].astype(float) == maxVar):\n",
    "                X = np.delete(X, j, 1)\n",
    "                selected_columns = np.delete(selected_columns, j)"
   ]
  },
  {
   "cell_type": "code",
   "execution_count": 711,
   "metadata": {
    "ExecuteTime": {
     "end_time": "2020-08-25T08:20:49.479134Z",
     "start_time": "2020-08-25T08:20:49.467140Z"
    }
   },
   "outputs": [
    {
     "data": {
      "text/plain": [
       "119"
      ]
     },
     "execution_count": 711,
     "metadata": {},
     "output_type": "execute_result"
    }
   ],
   "source": [
    "selected_columns.size"
   ]
  },
  {
   "cell_type": "code",
   "execution_count": 712,
   "metadata": {
    "ExecuteTime": {
     "end_time": "2020-08-25T08:20:55.428538Z",
     "start_time": "2020-08-25T08:20:55.388229Z"
    }
   },
   "outputs": [],
   "source": [
    "#Categorize SalePrice into binary variable\n",
    "df[\"SalePrice\"].median()\n",
    "df.loc[df['SalePrice'] <= 163000, 'SalePrice'] = 0\n",
    "df.loc[df['SalePrice'] > 163000, 'SalePrice'] = 1"
   ]
  },
  {
   "cell_type": "markdown",
   "metadata": {},
   "source": [
    "# Data Scaling"
   ]
  },
  {
   "cell_type": "code",
   "execution_count": 713,
   "metadata": {
    "ExecuteTime": {
     "end_time": "2020-08-25T08:21:03.209527Z",
     "start_time": "2020-08-25T08:21:03.205215Z"
    }
   },
   "outputs": [],
   "source": [
    "y=df.loc[:,'SalePrice'].values"
   ]
  },
  {
   "cell_type": "code",
   "execution_count": 714,
   "metadata": {
    "ExecuteTime": {
     "end_time": "2020-08-25T08:21:33.179294Z",
     "start_time": "2020-08-25T08:21:33.169470Z"
    }
   },
   "outputs": [
    {
     "data": {
      "text/plain": [
       "array([1, 1, 1, 0, 1, 0, 1, 1, 0, 0])"
      ]
     },
     "execution_count": 714,
     "metadata": {},
     "output_type": "execute_result"
    }
   ],
   "source": [
    "y[0:10]"
   ]
  },
  {
   "cell_type": "code",
   "execution_count": 715,
   "metadata": {
    "ExecuteTime": {
     "end_time": "2020-08-25T08:21:36.323548Z",
     "start_time": "2020-08-25T08:21:36.306615Z"
    }
   },
   "outputs": [],
   "source": [
    "from sklearn.preprocessing import MinMaxScaler\n",
    "minmax = MinMaxScaler()\n",
    "X = minmax.fit_transform(X)"
   ]
  },
  {
   "cell_type": "markdown",
   "metadata": {},
   "source": [
    "# SVC model training and evaluation"
   ]
  },
  {
   "cell_type": "code",
   "execution_count": 718,
   "metadata": {
    "ExecuteTime": {
     "end_time": "2020-08-25T08:21:58.923087Z",
     "start_time": "2020-08-25T08:21:58.916279Z"
    }
   },
   "outputs": [],
   "source": [
    "from sklearn.pipeline import Pipeline\n",
    "from sklearn.svm import SVC\n",
    "from sklearn.decomposition import PCA"
   ]
  },
  {
   "cell_type": "code",
   "execution_count": 719,
   "metadata": {
    "ExecuteTime": {
     "end_time": "2020-08-25T08:22:08.339907Z",
     "start_time": "2020-08-25T08:22:08.309157Z"
    }
   },
   "outputs": [],
   "source": [
    "X_train_val, X_test, y_train_val, y_test = train_test_split(X, y, test_size=0.2,random_state=0)"
   ]
  },
  {
   "cell_type": "code",
   "execution_count": 720,
   "metadata": {
    "ExecuteTime": {
     "end_time": "2020-08-25T08:23:45.549137Z",
     "start_time": "2020-08-25T08:22:27.445618Z"
    }
   },
   "outputs": [
    {
     "data": {
      "text/plain": [
       "GridSearchCV(cv=None, error_score=nan,\n",
       "             estimator=Pipeline(memory=None,\n",
       "                                steps=[('pca',\n",
       "                                        PCA(copy=True, iterated_power='auto',\n",
       "                                            n_components=None,\n",
       "                                            random_state=None,\n",
       "                                            svd_solver='auto', tol=0.0,\n",
       "                                            whiten=False)),\n",
       "                                       ('svc',\n",
       "                                        SVC(C=0.15, break_ties=False,\n",
       "                                            cache_size=200, class_weight=None,\n",
       "                                            coef0=0.0,\n",
       "                                            decision_function_shape='ovr',\n",
       "                                            degree=3, gamma='scale',\n",
       "                                            kernel='linear', max_iter...\n",
       "             iid='deprecated', n_jobs=-1,\n",
       "             param_grid=[{'pca__n_components': [5, 15, 30, 45, 64],\n",
       "                          'svc__C': [0.01, 0.1, 1, 10, 100, 1000],\n",
       "                          'svc__kernel': ['linear']},\n",
       "                         {'pca__n_components': [5, 15, 30, 45, 64],\n",
       "                          'svc__C': [0.01, 0.1, 1, 10, 100, 1000],\n",
       "                          'svc__gamma': [100, 10, 1, 0.1, 0.01, 0.001, 0.001],\n",
       "                          'svc__kernel': ['rbf']}],\n",
       "             pre_dispatch='2*n_jobs', refit=True, return_train_score=False,\n",
       "             scoring=None, verbose=0)"
      ]
     },
     "execution_count": 720,
     "metadata": {},
     "output_type": "execute_result"
    }
   ],
   "source": [
    "pca = PCA()\n",
    "scv = SVC()\n",
    "pipe = Pipeline(steps=[('pca', pca), ('svc', svc)])\n",
    "param_grid =[{'pca__n_components': [5, 15, 30, 45, 64],'svc__C': [0.01,0.1,1, 10, 100, 1000],\\\n",
    "              'svc__kernel': ['linear']}, {'pca__n_components': [5, 15, 30, 45, 64],'svc__C': [0.01,0.1,1, 10, 100, 1000], \\\n",
    "                                           'svc__gamma': [100,10,1,0.1,0.01,0.001, 0.001], \\\n",
    "                                           'svc__kernel': ['rbf']},]\n",
    "search = GridSearchCV(pipe, param_grid, n_jobs=-1)\n",
    "search.fit(X_train_val, y_train_val)"
   ]
  },
  {
   "cell_type": "code",
   "execution_count": 721,
   "metadata": {
    "ExecuteTime": {
     "end_time": "2020-08-25T08:25:34.672051Z",
     "start_time": "2020-08-25T08:25:34.624800Z"
    }
   },
   "outputs": [
    {
     "data": {
      "text/plain": [
       "{'pca__n_components': 45,\n",
       " 'svc__C': 100,\n",
       " 'svc__gamma': 0.01,\n",
       " 'svc__kernel': 'rbf'}"
      ]
     },
     "execution_count": 721,
     "metadata": {},
     "output_type": "execute_result"
    }
   ],
   "source": [
    "search.best_params_"
   ]
  },
  {
   "cell_type": "code",
   "execution_count": 734,
   "metadata": {
    "ExecuteTime": {
     "end_time": "2020-08-25T08:29:53.940856Z",
     "start_time": "2020-08-25T08:29:53.923113Z"
    }
   },
   "outputs": [
    {
     "data": {
      "text/plain": [
       "0.9075345731998092"
      ]
     },
     "execution_count": 734,
     "metadata": {},
     "output_type": "execute_result"
    }
   ],
   "source": [
    "search.best_score_"
   ]
  },
  {
   "cell_type": "code",
   "execution_count": 735,
   "metadata": {
    "ExecuteTime": {
     "end_time": "2020-08-25T08:29:54.615555Z",
     "start_time": "2020-08-25T08:29:54.590026Z"
    }
   },
   "outputs": [
    {
     "data": {
      "text/plain": [
       "0.9178082191780822"
      ]
     },
     "execution_count": 735,
     "metadata": {},
     "output_type": "execute_result"
    }
   ],
   "source": [
    "search.score(X_test,y_test)"
   ]
  },
  {
   "cell_type": "markdown",
   "metadata": {},
   "source": [
    "# Logistic Regression Model Training and Evaluation"
   ]
  },
  {
   "cell_type": "code",
   "execution_count": 725,
   "metadata": {
    "ExecuteTime": {
     "end_time": "2020-08-25T08:26:31.933737Z",
     "start_time": "2020-08-25T08:26:29.234868Z"
    }
   },
   "outputs": [
    {
     "data": {
      "text/plain": [
       "GridSearchCV(cv=5, error_score=nan,\n",
       "             estimator=Pipeline(memory=None,\n",
       "                                steps=[('pca',\n",
       "                                        PCA(copy=True, iterated_power='auto',\n",
       "                                            n_components=None,\n",
       "                                            random_state=None,\n",
       "                                            svd_solver='auto', tol=0.0,\n",
       "                                            whiten=False)),\n",
       "                                       ('lr',\n",
       "                                        LogisticRegression(C=1.0,\n",
       "                                                           class_weight=None,\n",
       "                                                           dual=False,\n",
       "                                                           fit_intercept=True,\n",
       "                                                           intercept_scaling=1,\n",
       "                                                           l1_ratio=None,\n",
       "                                                           max_iter=100,\n",
       "                                                           multi_class='auto',\n",
       "                                                           n_jobs=None,\n",
       "                                                           penalty='l2',\n",
       "                                                           random_state=None,\n",
       "                                                           solver='lbfgs',\n",
       "                                                           tol=0.0001,\n",
       "                                                           verbose=0,\n",
       "                                                           warm_start=False))],\n",
       "                                verbose=False),\n",
       "             iid='deprecated', n_jobs=-1,\n",
       "             param_grid={'lr__C': [0.01, 0.1, 1, 10, 100, 100],\n",
       "                         'pca__n_components': [5, 15, 30, 45, 64]},\n",
       "             pre_dispatch='2*n_jobs', refit=True, return_train_score=False,\n",
       "             scoring=None, verbose=0)"
      ]
     },
     "execution_count": 725,
     "metadata": {},
     "output_type": "execute_result"
    }
   ],
   "source": [
    "pca = PCA()\n",
    "lr=LogisticRegression()\n",
    "pipe_lr = Pipeline(steps=[('pca', pca), ('lr', lr)])\n",
    "param_grid_lr ={'pca__n_components': [5, 15, 30, 45, 64],'lr__C': [0.01,0.1,1, 10, 100, 100]}\n",
    "search_lr = GridSearchCV(pipe_lr, param_grid_lr, n_jobs=-1,cv=5)\n",
    "search_lr.fit(X_train_val, y_train_val)"
   ]
  },
  {
   "cell_type": "code",
   "execution_count": 731,
   "metadata": {
    "ExecuteTime": {
     "end_time": "2020-08-25T08:29:49.350042Z",
     "start_time": "2020-08-25T08:29:49.341582Z"
    }
   },
   "outputs": [
    {
     "data": {
      "text/plain": [
       "{'lr__C': 100, 'pca__n_components': 30}"
      ]
     },
     "execution_count": 731,
     "metadata": {},
     "output_type": "execute_result"
    }
   ],
   "source": [
    "search_lr.best_params_"
   ]
  },
  {
   "cell_type": "code",
   "execution_count": 732,
   "metadata": {
    "ExecuteTime": {
     "end_time": "2020-08-25T08:29:50.035673Z",
     "start_time": "2020-08-25T08:29:50.026462Z"
    }
   },
   "outputs": [
    {
     "data": {
      "text/plain": [
       "0.9100950075199004"
      ]
     },
     "execution_count": 732,
     "metadata": {},
     "output_type": "execute_result"
    }
   ],
   "source": [
    "search_lr.best_score_"
   ]
  },
  {
   "cell_type": "code",
   "execution_count": 733,
   "metadata": {
    "ExecuteTime": {
     "end_time": "2020-08-25T08:29:50.860176Z",
     "start_time": "2020-08-25T08:29:50.851677Z"
    }
   },
   "outputs": [
    {
     "data": {
      "text/plain": [
       "0.9178082191780822"
      ]
     },
     "execution_count": 733,
     "metadata": {},
     "output_type": "execute_result"
    }
   ],
   "source": [
    "search_lr.score(X_test,y_test)"
   ]
  },
  {
   "cell_type": "markdown",
   "metadata": {},
   "source": [
    "# Results and conclusions:\n",
    "\n",
    "    "
   ]
  },
  {
   "cell_type": "code",
   "execution_count": 743,
   "metadata": {
    "ExecuteTime": {
     "end_time": "2020-08-25T08:34:53.075942Z",
     "start_time": "2020-08-25T08:34:53.068169Z"
    }
   },
   "outputs": [],
   "source": [
    "def svc_bias_variance(X,y):\n",
    "    from mlxtend.evaluate import bias_variance_decomp\n",
    "    pca=PCA(n_components=45)\n",
    "    X=pca.fit_transform(X)\n",
    "    X_train, X_test, y_train, y_test = train_test_split(X, y,test_size=0.3,\n",
    "                random_state=123,shuffle=True,stratify=y)\n",
    "\n",
    "    model = SVC(C=100,gamma=0.01,kernel='rbf')\n",
    "\n",
    "    avg_expected_loss, avg_bias, avg_var = bias_variance_decomp(\n",
    "        model, X_train, y_train, X_test, y_test, \n",
    "        loss='0-1_loss',\n",
    "        random_seed=123)\n",
    "\n",
    "    print('Average expected loss: %.3f' % avg_expected_loss)\n",
    "    print('Average bias: %.3f' % avg_bias)\n",
    "    print('Average variance: %.3f' % avg_var)"
   ]
  },
  {
   "cell_type": "code",
   "execution_count": 744,
   "metadata": {
    "ExecuteTime": {
     "end_time": "2020-08-25T08:34:53.665951Z",
     "start_time": "2020-08-25T08:34:53.655352Z"
    }
   },
   "outputs": [],
   "source": [
    "def logistic_model_bias_variance(X,y):\n",
    "    from mlxtend.evaluate import bias_variance_decomp\n",
    "    pca=PCA(n_components=30)\n",
    "    X=pca.fit_transform(X)\n",
    "    X_train, X_test, y_train, y_test = train_test_split(X, y,\n",
    "                                                    test_size=0.3,\n",
    "                                                    random_state=123,\n",
    "                                                    shuffle=True,\n",
    "                                                    stratify=y)\n",
    "\n",
    "    model = LogisticRegression(C=100)\n",
    "    avg_expected_loss, avg_bias, avg_var = bias_variance_decomp(\n",
    "        model, X_train, y_train, X_test, y_test, \n",
    "        loss='0-1_loss',\n",
    "        random_seed=123)\n",
    "\n",
    "    print('Average expected loss: %.3f' % avg_expected_loss)\n",
    "    print('Average bias: %.3f' % avg_bias)\n",
    "    print('Average variance: %.3f' % avg_var)"
   ]
  },
  {
   "cell_type": "code",
   "execution_count": 745,
   "metadata": {
    "ExecuteTime": {
     "end_time": "2020-08-25T08:35:02.966012Z",
     "start_time": "2020-08-25T08:34:54.103987Z"
    }
   },
   "outputs": [
    {
     "name": "stdout",
     "output_type": "stream",
     "text": [
      "Bias and Variance of SVC model:\n",
      "Average expected loss: 0.104\n",
      "Average bias: 0.096\n",
      "Average variance: 0.049\n",
      "\n",
      " Bias and Variance of LogisticRegression model:\n",
      "Average expected loss: 0.110\n",
      "Average bias: 0.110\n",
      "Average variance: 0.039\n"
     ]
    }
   ],
   "source": [
    "print('Bias and Variance of SVC model:')\n",
    "svc_bias_variance(X,y)\n",
    "print('\\n Bias and Variance of LogisticRegression model:')\n",
    "logistic_model_bias_variance(X,y)"
   ]
  },
  {
   "cell_type": "code",
   "execution_count": 746,
   "metadata": {
    "ExecuteTime": {
     "end_time": "2020-08-25T08:36:17.430801Z",
     "start_time": "2020-08-25T08:36:17.410310Z"
    }
   },
   "outputs": [
    {
     "name": "stdout",
     "output_type": "stream",
     "text": [
      "Performance of SVC on unseen data: 0.9178082191780822\n",
      "Performance of LogisticRegression on unseen data: 0.9178082191780822\n"
     ]
    }
   ],
   "source": [
    "print(f'Performance of SVC on unseen data: {search.score(X_test,y_test)}' )\n",
    "print(f'Performance of LogisticRegression on unseen data: {search_lr.score(X_test,y_test)}' )"
   ]
  },
  {
   "cell_type": "markdown",
   "metadata": {},
   "source": [
    "- **SVC model's performance on unseen data is  similar as LogisticResearch**\n",
    "- **Bias problem still exists**"
   ]
  },
  {
   "cell_type": "markdown",
   "metadata": {},
   "source": [
    "# solution\n",
    "- Collect more valuable features\n",
    "- Manully creat new features from existing features\n",
    "- Change feature selection strategy\n",
    "- Try tree model"
   ]
  }
 ],
 "metadata": {
  "kernelspec": {
   "display_name": "Python 3",
   "language": "python",
   "name": "python3"
  },
  "language_info": {
   "codemirror_mode": {
    "name": "ipython",
    "version": 3
   },
   "file_extension": ".py",
   "mimetype": "text/x-python",
   "name": "python",
   "nbconvert_exporter": "python",
   "pygments_lexer": "ipython3",
   "version": "3.7.6"
  },
  "latex_envs": {
   "LaTeX_envs_menu_present": true,
   "autoclose": false,
   "autocomplete": true,
   "bibliofile": "biblio.bib",
   "cite_by": "apalike",
   "current_citInitial": 1,
   "eqLabelWithNumbers": true,
   "eqNumInitial": 1,
   "hotkeys": {
    "equation": "Ctrl-E",
    "itemize": "Ctrl-I"
   },
   "labels_anchors": false,
   "latex_user_defs": false,
   "report_style_numbering": false,
   "user_envs_cfg": false
  },
  "toc": {
   "base_numbering": 1,
   "nav_menu": {},
   "number_sections": true,
   "sideBar": true,
   "skip_h1_title": false,
   "title_cell": "Table of Contents",
   "title_sidebar": "Contents",
   "toc_cell": false,
   "toc_position": {
    "height": "calc(100% - 180px)",
    "left": "10px",
    "top": "150px",
    "width": "256px"
   },
   "toc_section_display": true,
   "toc_window_display": true
  },
  "varInspector": {
   "cols": {
    "lenName": 16,
    "lenType": 16,
    "lenVar": 40
   },
   "kernels_config": {
    "python": {
     "delete_cmd_postfix": "",
     "delete_cmd_prefix": "del ",
     "library": "var_list.py",
     "varRefreshCmd": "print(var_dic_list())"
    },
    "r": {
     "delete_cmd_postfix": ") ",
     "delete_cmd_prefix": "rm(",
     "library": "var_list.r",
     "varRefreshCmd": "cat(var_dic_list()) "
    }
   },
   "types_to_exclude": [
    "module",
    "function",
    "builtin_function_or_method",
    "instance",
    "_Feature"
   ],
   "window_display": false
  }
 },
 "nbformat": 4,
 "nbformat_minor": 2
}
