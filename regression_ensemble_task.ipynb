{
 "cells": [
  {
   "cell_type": "markdown",
   "metadata": {
    "ExecuteTime": {
     "end_time": "2020-08-16T05:25:06.692494Z",
     "start_time": "2020-08-16T05:25:06.683550Z"
    }
   },
   "source": [
    "<span style=\"color:darkblue\"><font size=\"5\"> DeCockHousePrice Dataset: SalePrice Prediction</font></span> \n",
    "    \n",
    "**Linear model, SVM, Trees, Ensembles All together**"
   ]
  },
  {
   "cell_type": "code",
   "execution_count": 142,
   "metadata": {
    "ExecuteTime": {
     "end_time": "2020-08-27T11:10:08.689190Z",
     "start_time": "2020-08-27T11:10:08.646663Z"
    }
   },
   "outputs": [],
   "source": [
    "import pandas as pd\n",
    "import seaborn as sns; sns.set(color_codes=True)\n",
    "from mpl_toolkits.mplot3d import Axes3D\n",
    "import matplotlib.pyplot as plt\n",
    "%matplotlib inline\n",
    "import warnings; warnings.simplefilter('ignore')\n",
    "import numpy as np\n",
    "np.random.seed(10)\n",
    "\n",
    "from sklearn.model_selection import train_test_split\n",
    "from sklearn.metrics import mean_squared_error"
   ]
  },
  {
   "cell_type": "markdown",
   "metadata": {},
   "source": [
    "# Data"
   ]
  },
  {
   "cell_type": "code",
   "execution_count": 261,
   "metadata": {
    "ExecuteTime": {
     "end_time": "2020-08-31T04:16:49.135594Z",
     "start_time": "2020-08-31T04:16:48.788113Z"
    }
   },
   "outputs": [],
   "source": [
    "df=pd.read_csv('house_price.csv')"
   ]
  },
  {
   "cell_type": "code",
   "execution_count": 206,
   "metadata": {
    "ExecuteTime": {
     "end_time": "2020-08-28T07:35:04.361610Z",
     "start_time": "2020-08-28T07:35:04.334580Z"
    }
   },
   "outputs": [],
   "source": [
    "X=df.drop('SalePrice',axis=1).values\n",
    "y=df.loc[:,'SalePrice'].values\n",
    "\n",
    "y=np.log(y)\n",
    "y[0]"
   ]
  },
  {
   "cell_type": "markdown",
   "metadata": {},
   "source": [
    "# broadly Model Selection"
   ]
  },
  {
   "cell_type": "code",
   "execution_count": 17,
   "metadata": {
    "ExecuteTime": {
     "end_time": "2020-08-27T07:15:00.294684Z",
     "start_time": "2020-08-27T07:15:00.164150Z"
    }
   },
   "outputs": [],
   "source": [
    "from sklearn.ensemble import (RandomForestRegressor,\n",
    "                              GradientBoostingRegressor,AdaBoostRegressor,ExtraTreesRegressor)\n",
    "from sklearn.tree import DecisionTreeRegressor\n",
    "from xgboost import XGBRegressor\n",
    "from sklearn.pipeline import Pipeline\n",
    "from pipelinehelper import PipelineHelper\n",
    "from sklearn.model_selection import GridSearchCV\n",
    "\n",
    "from xgboost import XGBRegressor\n",
    "from sklearn.pipeline import Pipeline\n",
    "from pipelinehelper import PipelineHelper\n",
    "from sklearn.model_selection import GridSearchCV"
   ]
  },
  {
   "cell_type": "code",
   "execution_count": 208,
   "metadata": {
    "ExecuteTime": {
     "end_time": "2020-08-28T07:35:10.795894Z",
     "start_time": "2020-08-28T07:35:10.780278Z"
    }
   },
   "outputs": [],
   "source": [
    "X_trainval, X_test, y_trainval, y_test = train_test_split(X,y)\n",
    "print(X_trainval.shape)\n",
    "y_trainval[0]"
   ]
  },
  {
   "cell_type": "code",
   "execution_count": 79,
   "metadata": {
    "ExecuteTime": {
     "end_time": "2020-08-27T09:06:48.943242Z",
     "start_time": "2020-08-27T09:06:48.936329Z"
    }
   },
   "outputs": [],
   "source": [
    "seedNum=42\n",
    "models=[('tree',DecisionTreeRegressor(random_state=seedNum)),\n",
    "        ('abr',AdaBoostRegressor(random_state=seedNum)),\\\n",
    "        ('rfr',RandomForestRegressor(random_state=seedNum)),\n",
    "        ('etr',ExtraTreesRegressor(random_state=seedNum)),\n",
    "        ('xgbr',XGBRegressor(random_state=seedNum)),\n",
    "        ('gbr', GradientBoostingRegressor(random_state=seedNum))]"
   ]
  },
  {
   "cell_type": "code",
   "execution_count": 182,
   "metadata": {
    "ExecuteTime": {
     "end_time": "2020-08-28T06:06:17.140827Z",
     "start_time": "2020-08-28T06:05:49.860796Z"
    }
   },
   "outputs": [
    {
     "name": "stdout",
     "output_type": "stream",
     "text": [
      "tree: 0.717777\n",
      "\n",
      "abr: 0.814987\n",
      "\n",
      "rfr: 0.858804\n",
      "\n",
      "etr: 0.866519\n",
      "\n",
      "xgbr: 0.860045\n",
      "\n",
      "gbr: 0.882266\n",
      "\n",
      "The Best Model is:\n",
      " ('gbr', GradientBoostingRegressor(alpha=0.9, ccp_alpha=0.0, criterion='friedman_mse',\n",
      "                          init=None, learning_rate=0.1, loss='ls', max_depth=3,\n",
      "                          max_features=None, max_leaf_nodes=None,\n",
      "                          min_impurity_decrease=0.0, min_impurity_split=None,\n",
      "                          min_samples_leaf=1, min_samples_split=2,\n",
      "                          min_weight_fraction_leaf=0.0, n_estimators=100,\n",
      "                          n_iter_no_change=None, presort='deprecated',\n",
      "                          random_state=42, subsample=1.0, tol=0.0001,\n",
      "                          validation_fraction=0.1, verbose=0, warm_start=False))\n"
     ]
    }
   ],
   "source": [
    "results=[]\n",
    "names=[]\n",
    "metrics=[]\n",
    "for name, model in models:\n",
    "    cv_results=cross_val_score(model,X_trainval,y_trainval,cv=5)\n",
    "    results.append(cv_results)\n",
    "    metrics.append(cv_results.mean())\n",
    "    \n",
    "    print('%s: %f\\n'%(name,cv_results.mean()))\n",
    "best_model=models[metrics.index(max(metrics))]\n",
    "print(f'The Best Model is:\\n {best_model}')"
   ]
  },
  {
   "cell_type": "code",
   "execution_count": 81,
   "metadata": {
    "ExecuteTime": {
     "end_time": "2020-08-27T09:24:08.697865Z",
     "start_time": "2020-08-27T09:08:40.885296Z"
    }
   },
   "outputs": [],
   "source": [
    "#Perfomances of GradientBoostingRegressor and ExtraTreesRegressor approximate,search together\n",
    "pipe = Pipeline([('regressor', \\\n",
    "                  PipelineHelper([('etr',ExtraTreesRegressor()),('gbr', GradientBoostingRegressor())]))])\n",
    "search_space = [{'regressor': [GradientBoostingRegressor()],\n",
    "               'regressor__n_estimators: [10, 100, 300, 500],\n",
    "                 'regressor__learning_rate' : [0.01,0.1,1],\n",
    "                  'regressor__min_samples_split': [2,4,6],\n",
    "                'regressor__min_samples_leaf':[1,2,4]\n",
    "                },\n",
    "                 {'regressor': [ExtraTreesRegressor()],\n",
    "                 'regressor__max_depth': [10, 30, 50, 70],\n",
    "                 'regressor__min_samples_leaf': [1, 2, 4],\n",
    "                 'regressor__n_estimators': [10, 100, 500],\n",
    "                 'regressor__max_features': [1, 2, 3]}]\n",
    "# Create grid search \n",
    "clf = GridSearchCV(pipe, search_space, cv=5, verbose=0)\n",
    "best_model = clf.fit(X_trainval, y_trainval)"
   ]
  },
  {
   "cell_type": "code",
   "execution_count": 82,
   "metadata": {
    "ExecuteTime": {
     "end_time": "2020-08-27T09:24:14.286762Z",
     "start_time": "2020-08-27T09:24:14.273177Z"
    }
   },
   "outputs": [
    {
     "data": {
      "text/plain": [
       "GradientBoostingRegressor(alpha=0.9, ccp_alpha=0.0, criterion='friedman_mse',\n",
       "                          init=None, learning_rate=0.1, loss='ls', max_depth=3,\n",
       "                          max_features=None, max_leaf_nodes=None,\n",
       "                          min_impurity_decrease=0.0, min_impurity_split=None,\n",
       "                          min_samples_leaf=1, min_samples_split=4,\n",
       "                          min_weight_fraction_leaf=0.0, n_estimators=300,\n",
       "                          n_iter_no_change=None, presort='deprecated',\n",
       "                          random_state=None, subsample=1.0, tol=0.0001,\n",
       "                          validation_fraction=0.1, verbose=0, warm_start=False)"
      ]
     },
     "execution_count": 82,
     "metadata": {},
     "output_type": "execute_result"
    }
   ],
   "source": [
    "best_model.best_estimator_.get_params()['regressor']"
   ]
  },
  {
   "cell_type": "code",
   "execution_count": 100,
   "metadata": {
    "ExecuteTime": {
     "end_time": "2020-08-27T10:00:36.470036Z",
     "start_time": "2020-08-27T10:00:36.459902Z"
    }
   },
   "outputs": [
    {
     "name": "stdout",
     "output_type": "stream",
     "text": [
      "Average R2 score of Cross Validation: 0.881784383115401\n"
     ]
    }
   ],
   "source": [
    "print(f'Average R2 score of Cross Validation: {best_model.best_score_}')"
   ]
  },
  {
   "cell_type": "code",
   "execution_count": 147,
   "metadata": {
    "ExecuteTime": {
     "end_time": "2020-08-27T11:17:09.179836Z",
     "start_time": "2020-08-27T11:17:09.162277Z"
    }
   },
   "outputs": [
    {
     "name": "stdout",
     "output_type": "stream",
     "text": [
      "Performance on unseen test set: 0.8993592559773289\n"
     ]
    }
   ],
   "source": [
    "print(f'Performance on unseen test set: {best_model.score(X_test,y_test)}')"
   ]
  },
  {
   "cell_type": "markdown",
   "metadata": {},
   "source": [
    "# Bias and Variance Analysis"
   ]
  },
  {
   "cell_type": "code",
   "execution_count": 198,
   "metadata": {
    "ExecuteTime": {
     "end_time": "2020-08-28T07:14:51.324166Z",
     "start_time": "2020-08-28T07:14:51.284194Z"
    }
   },
   "outputs": [],
   "source": [
    "def model_bias_variance(X,y,model):\n",
    "    from mlxtend.evaluate import bias_variance_decomp\n",
    "    X_train, X_test, y_train, y_test = train_test_split(X, y,\n",
    "                                                    test_size=0.33,\n",
    "                                                    random_state=123,\n",
    "                                                    shuffle=True)\n",
    "    avg_expected_loss, avg_bias, avg_var = bias_variance_decomp(\n",
    "    model, X_train, y_train, X_test, y_test, \n",
    "        loss='mse',\n",
    "        random_seed=123)\n",
    "\n",
    "    print('Average expected loss: %.3f' % avg_expected_loss)\n",
    "    print('Average bias: %.3f' % avg_bias)\n",
    "    print('Average variance: %.3f' % avg_var)"
   ]
  },
  {
   "cell_type": "code",
   "execution_count": 256,
   "metadata": {
    "ExecuteTime": {
     "end_time": "2020-08-28T12:08:45.412295Z",
     "start_time": "2020-08-28T12:02:18.117274Z"
    }
   },
   "outputs": [
    {
     "name": "stdout",
     "output_type": "stream",
     "text": [
      "Bias and Variance of GBR model:\n",
      "Average expected loss: 0.387\n",
      "Average bias: 0.361\n",
      "Average variance: 0.026\n"
     ]
    }
   ],
   "source": [
    "model= GradientBoostingRegressor(learning_rate=0.1, loss='ls', max_depth=3,\n",
    "                          min_samples_leaf=1, min_samples_split=4,\n",
    "                          min_weight_fraction_leaf=0.0, n_estimators=300)\n",
    "\n",
    "print('Bias and Variance of GBR model:')\n",
    "model_bias_variance(X,y,model=model)"
   ]
  },
  {
   "cell_type": "markdown",
   "metadata": {},
   "source": [
    "# Compared with the other models\n",
    "Performance of **GradientBoostRegressor** on unseen data:\n",
    "    $R^2  score=0.8993$\n",
    "\n",
    "Performance of **SVM** on unseen data: \n",
    "    $R^2  score=0.8227$\n",
    "\n",
    "Performance of **Ridge** on unseen data: \n",
    "   $R^2  score=0.8241$"
   ]
  },
  {
   "cell_type": "markdown",
   "metadata": {},
   "source": [
    "- **GradientBoostRegressor is doing much better than linear model and SVM**\n",
    "\n",
    "\n",
    "- **But bias still exists**"
   ]
  },
  {
   "cell_type": "markdown",
   "metadata": {},
   "source": [
    "# VotingRegressor\n",
    "\n",
    "   **Could VotingRegressor do better than GradientBoostRegressor itself ?** "
   ]
  },
  {
   "cell_type": "code",
   "execution_count": 197,
   "metadata": {
    "ExecuteTime": {
     "end_time": "2020-08-28T07:13:07.578421Z",
     "start_time": "2020-08-28T07:13:07.574058Z"
    }
   },
   "outputs": [],
   "source": [
    "from sklearn.ensemble import VotingRegressor"
   ]
  },
  {
   "cell_type": "markdown",
   "metadata": {},
   "source": [
    "## Searching for best parameters for each model"
   ]
  },
  {
   "cell_type": "code",
   "execution_count": 212,
   "metadata": {
    "ExecuteTime": {
     "end_time": "2020-08-28T07:53:26.664026Z",
     "start_time": "2020-08-28T07:44:29.922421Z"
    }
   },
   "outputs": [
    {
     "data": {
      "text/plain": [
       "{'max_depth': 100, 'min_samples_leaf': 1, 'n_estimators': 200}"
      ]
     },
     "execution_count": 212,
     "metadata": {},
     "output_type": "execute_result"
    }
   ],
   "source": [
    "etr=ExtraTreesRegressor()\n",
    "param_grid = {'max_depth': [30,70,100,None],\n",
    "                 'min_samples_leaf': [1, 2, 4],\n",
    "                 'n_estimators': [100, 200,300]}\n",
    "grid_search=GridSearchCV(etr,param_grid,cv=5)\n",
    "grid_search.fit(X_trainval,y_trainval)\n",
    "grid_search.best_params_"
   ]
  },
  {
   "cell_type": "code",
   "execution_count": 193,
   "metadata": {
    "ExecuteTime": {
     "end_time": "2020-08-28T06:59:15.162320Z",
     "start_time": "2020-08-28T06:53:19.352721Z"
    }
   },
   "outputs": [
    {
     "data": {
      "text/plain": [
       "0.8596234829469539"
      ]
     },
     "execution_count": 193,
     "metadata": {},
     "output_type": "execute_result"
    }
   ],
   "source": [
    "rfr=RandomForestRegressor()\n",
    "param_grid = {'max_depth': [30,70,100],\n",
    "                 'min_samples_leaf': [1, 2, 4],\n",
    "                 'n_estimators': [100, 200,300]}\n",
    "grid_search=GridSearchCV(rfr,param_grid,cv=5)\n",
    "grid_search.fit(X_trainval,y_trainval)\n",
    "grid_search.best_score_"
   ]
  },
  {
   "cell_type": "code",
   "execution_count": 189,
   "metadata": {
    "ExecuteTime": {
     "end_time": "2020-08-28T06:25:23.858811Z",
     "start_time": "2020-08-28T06:25:23.846597Z"
    }
   },
   "outputs": [
    {
     "data": {
      "text/plain": [
       "{'max_depth': 50, 'min_samples_leaf': 1, 'n_estimators': 200}"
      ]
     },
     "execution_count": 189,
     "metadata": {},
     "output_type": "execute_result"
    }
   ],
   "source": [
    "grid_search.best_params_"
   ]
  },
  {
   "cell_type": "code",
   "execution_count": 194,
   "metadata": {
    "ExecuteTime": {
     "end_time": "2020-08-28T06:59:35.423179Z",
     "start_time": "2020-08-28T06:59:35.411590Z"
    }
   },
   "outputs": [
    {
     "data": {
      "text/plain": [
       "{'max_depth': 70, 'min_samples_leaf': 1, 'n_estimators': 300}"
      ]
     },
     "execution_count": 194,
     "metadata": {},
     "output_type": "execute_result"
    }
   ],
   "source": [
    "grid_search.best_params_"
   ]
  },
  {
   "cell_type": "code",
   "execution_count": 195,
   "metadata": {
    "ExecuteTime": {
     "end_time": "2020-08-28T08:07:48.041801Z",
     "start_time": "2020-08-28T08:07:48.029673Z"
    }
   },
   "outputs": [
    {
     "data": {
      "text/plain": [
       "0.8752651555217407"
      ]
     },
     "execution_count": 195,
     "metadata": {},
     "output_type": "execute_result"
    }
   ],
   "source": [
    "xgbr=XGBRegressor()\n",
    "\n",
    "param_grid = {'max_depth': [30,70,100],\n",
    "              'learning_rate':[0.01,0.1,1],\n",
    "                 'n_estimators': [100,200,300]}\n",
    "grid_search=GridSearchCV(xgbr,param_grid,cv=5,n_jobs=4)\n",
    "\n",
    "grid_search.fit(X_trainval,y_trainval)\n",
    "\n",
    "grid_search.best_score_"
   ]
  },
  {
   "cell_type": "code",
   "execution_count": 196,
   "metadata": {
    "ExecuteTime": {
     "end_time": "2020-08-28T07:08:29.214979Z",
     "start_time": "2020-08-28T07:08:29.202301Z"
    },
    "scrolled": true
   },
   "outputs": [
    {
     "data": {
      "text/plain": [
       "{'learning_rate': 0.1, 'max_depth': 70, 'n_estimators': 100}"
      ]
     },
     "execution_count": 196,
     "metadata": {},
     "output_type": "execute_result"
    }
   ],
   "source": [
    "grid_search.best_params_"
   ]
  },
  {
   "cell_type": "markdown",
   "metadata": {},
   "source": [
    "## Voting regression model training and evaluation"
   ]
  },
  {
   "cell_type": "code",
   "execution_count": 214,
   "metadata": {
    "ExecuteTime": {
     "end_time": "2020-08-28T07:58:40.476429Z",
     "start_time": "2020-08-28T07:58:40.463208Z"
    }
   },
   "outputs": [],
   "source": [
    "estimators = [ \n",
    "    ('rfr',RandomForestRegressor(max_depth=70, min_samples_leaf=1,n_estimators=300)),\n",
    "    ('xgbr',XGBRegressor(learning_rate=0.1, max_depth=70, n_estimators=100)),\n",
    "    ('etr',ExtraTreesRegressor(max_depth=100, min_samples_leaf=1, n_estimators=200)),\n",
    "    ('gbr',GradientBoostingRegressor(n_estimators=300,learning_rate=0.1,min_samples_leaf=1, min_samples_split=4))]\n",
    "vc = VotingRegressor(estimators=estimators, n_jobs=4)"
   ]
  },
  {
   "cell_type": "code",
   "execution_count": 220,
   "metadata": {
    "ExecuteTime": {
     "end_time": "2020-08-28T08:03:53.241814Z",
     "start_time": "2020-08-28T08:03:42.467713Z"
    }
   },
   "outputs": [
    {
     "data": {
      "text/plain": [
       "0.8839619384444075"
      ]
     },
     "execution_count": 220,
     "metadata": {},
     "output_type": "execute_result"
    }
   ],
   "source": [
    "vc.fit(X_trainval,y_trainval)\n",
    "vc.score(X_test,y_test)"
   ]
  },
  {
   "cell_type": "code",
   "execution_count": 219,
   "metadata": {
    "ExecuteTime": {
     "end_time": "2020-08-28T08:02:56.404535Z",
     "start_time": "2020-08-28T08:02:56.243064Z"
    }
   },
   "outputs": [
    {
     "name": "stdout",
     "output_type": "stream",
     "text": [
      "rfr 0.8615918272599266\n",
      "xgbr 0.8723926126035061\n",
      "etr 0.8728964317403988\n",
      "gbr 0.8833058205245841\n"
     ]
    }
   ],
   "source": [
    "for est,name in zip(vc.estimators_,vc.estimators):\n",
    "    print (name[0], est.score(X_test,y_test))"
   ]
  },
  {
   "cell_type": "markdown",
   "metadata": {},
   "source": [
    "## Comparing VotingRegressor with GradientBoostRegressor\n",
    "Performance of **GradientBoostRegressor** on unseen data:\n",
    "    $R^2  score=0.8993$\n",
    "    \n",
    "    \n",
    "Performance of **VotingRegressor** on unseen data:\n",
    "    $R^2  score=0.8839$\n",
    "   "
   ]
  },
  {
   "cell_type": "markdown",
   "metadata": {
    "ExecuteTime": {
     "end_time": "2020-08-28T08:07:48.041801Z",
     "start_time": "2020-08-28T08:07:48.029673Z"
    }
   },
   "source": [
    "<span style=\"color:darkblue\"><font size=\"6\"> Could I do better ??</font></span>\n",
    "\n",
    "\n",
    "**solution:**\n",
    "- Try AdaBoostRegressor with another estimator MARS(Multivariate Adaptive Regression Splines) instead of \"DesisionTree\"\n",
    "- MARS can be viewed as a modification of 'CART tree' method. It is well suited for high dimentional problem"
   ]
  },
  {
   "cell_type": "markdown",
   "metadata": {},
   "source": [
    "# AdaBoostRegressor\n",
    "    (base_estimator=\"Multivariate Adaptive Regression Splines\")"
   ]
  },
  {
   "cell_type": "code",
   "execution_count": 223,
   "metadata": {
    "ExecuteTime": {
     "end_time": "2020-08-28T08:15:45.262761Z",
     "start_time": "2020-08-28T08:15:45.184591Z"
    }
   },
   "outputs": [],
   "source": [
    "df_mars=pd.read_csv('house-price-mars.csv')"
   ]
  },
  {
   "cell_type": "code",
   "execution_count": 224,
   "metadata": {
    "ExecuteTime": {
     "end_time": "2020-08-28T08:15:51.237457Z",
     "start_time": "2020-08-28T08:15:51.186669Z"
    },
    "scrolled": true
   },
   "outputs": [
    {
     "data": {
      "text/html": [
       "<div>\n",
       "<style scoped>\n",
       "    .dataframe tbody tr th:only-of-type {\n",
       "        vertical-align: middle;\n",
       "    }\n",
       "\n",
       "    .dataframe tbody tr th {\n",
       "        vertical-align: top;\n",
       "    }\n",
       "\n",
       "    .dataframe thead th {\n",
       "        text-align: right;\n",
       "    }\n",
       "</style>\n",
       "<table border=\"1\" class=\"dataframe\">\n",
       "  <thead>\n",
       "    <tr style=\"text-align: right;\">\n",
       "      <th></th>\n",
       "      <th>LotFrontage</th>\n",
       "      <th>LotArea</th>\n",
       "      <th>Neighborhood</th>\n",
       "      <th>OverallQual</th>\n",
       "      <th>OverallCond</th>\n",
       "      <th>YearBuilt</th>\n",
       "      <th>YearRemodAdd</th>\n",
       "      <th>MasVnrArea</th>\n",
       "      <th>ExterCond</th>\n",
       "      <th>BsmtCond</th>\n",
       "      <th>...</th>\n",
       "      <th>MiscFeature_TenC</th>\n",
       "      <th>SaleType_COD</th>\n",
       "      <th>SaleType_New</th>\n",
       "      <th>SaleType_Other</th>\n",
       "      <th>SaleType_WD</th>\n",
       "      <th>SaleCondition_Abnorml</th>\n",
       "      <th>SaleCondition_AdjLand</th>\n",
       "      <th>SaleCondition_Alloca</th>\n",
       "      <th>SaleCondition_Family</th>\n",
       "      <th>SaleCondition_Normal</th>\n",
       "    </tr>\n",
       "  </thead>\n",
       "  <tbody>\n",
       "    <tr>\n",
       "      <th>0</th>\n",
       "      <td>14.056118</td>\n",
       "      <td>9.084455</td>\n",
       "      <td>5</td>\n",
       "      <td>7</td>\n",
       "      <td>5</td>\n",
       "      <td>2003</td>\n",
       "      <td>2003</td>\n",
       "      <td>20.186960</td>\n",
       "      <td>3</td>\n",
       "      <td>3</td>\n",
       "      <td>...</td>\n",
       "      <td>0</td>\n",
       "      <td>0</td>\n",
       "      <td>0</td>\n",
       "      <td>0</td>\n",
       "      <td>1</td>\n",
       "      <td>0</td>\n",
       "      <td>0</td>\n",
       "      <td>0</td>\n",
       "      <td>0</td>\n",
       "      <td>1</td>\n",
       "    </tr>\n",
       "    <tr>\n",
       "      <th>1</th>\n",
       "      <td>15.771653</td>\n",
       "      <td>9.213244</td>\n",
       "      <td>7</td>\n",
       "      <td>6</td>\n",
       "      <td>8</td>\n",
       "      <td>1976</td>\n",
       "      <td>1976</td>\n",
       "      <td>0.000000</td>\n",
       "      <td>3</td>\n",
       "      <td>3</td>\n",
       "      <td>...</td>\n",
       "      <td>0</td>\n",
       "      <td>0</td>\n",
       "      <td>0</td>\n",
       "      <td>0</td>\n",
       "      <td>1</td>\n",
       "      <td>0</td>\n",
       "      <td>0</td>\n",
       "      <td>0</td>\n",
       "      <td>0</td>\n",
       "      <td>1</td>\n",
       "    </tr>\n",
       "    <tr>\n",
       "      <th>2</th>\n",
       "      <td>14.413847</td>\n",
       "      <td>9.373359</td>\n",
       "      <td>5</td>\n",
       "      <td>7</td>\n",
       "      <td>5</td>\n",
       "      <td>2001</td>\n",
       "      <td>2002</td>\n",
       "      <td>18.427529</td>\n",
       "      <td>3</td>\n",
       "      <td>3</td>\n",
       "      <td>...</td>\n",
       "      <td>0</td>\n",
       "      <td>0</td>\n",
       "      <td>0</td>\n",
       "      <td>0</td>\n",
       "      <td>1</td>\n",
       "      <td>0</td>\n",
       "      <td>0</td>\n",
       "      <td>0</td>\n",
       "      <td>0</td>\n",
       "      <td>1</td>\n",
       "    </tr>\n",
       "    <tr>\n",
       "      <th>3</th>\n",
       "      <td>13.441145</td>\n",
       "      <td>9.207973</td>\n",
       "      <td>6</td>\n",
       "      <td>7</td>\n",
       "      <td>5</td>\n",
       "      <td>1915</td>\n",
       "      <td>1970</td>\n",
       "      <td>0.000000</td>\n",
       "      <td>3</td>\n",
       "      <td>4</td>\n",
       "      <td>...</td>\n",
       "      <td>0</td>\n",
       "      <td>0</td>\n",
       "      <td>0</td>\n",
       "      <td>0</td>\n",
       "      <td>1</td>\n",
       "      <td>1</td>\n",
       "      <td>0</td>\n",
       "      <td>0</td>\n",
       "      <td>0</td>\n",
       "      <td>0</td>\n",
       "    </tr>\n",
       "    <tr>\n",
       "      <th>4</th>\n",
       "      <td>16.201359</td>\n",
       "      <td>9.612758</td>\n",
       "      <td>10</td>\n",
       "      <td>8</td>\n",
       "      <td>5</td>\n",
       "      <td>2000</td>\n",
       "      <td>2000</td>\n",
       "      <td>26.525806</td>\n",
       "      <td>3</td>\n",
       "      <td>3</td>\n",
       "      <td>...</td>\n",
       "      <td>0</td>\n",
       "      <td>0</td>\n",
       "      <td>0</td>\n",
       "      <td>0</td>\n",
       "      <td>1</td>\n",
       "      <td>0</td>\n",
       "      <td>0</td>\n",
       "      <td>0</td>\n",
       "      <td>0</td>\n",
       "      <td>1</td>\n",
       "    </tr>\n",
       "  </tbody>\n",
       "</table>\n",
       "<p>5 rows × 195 columns</p>\n",
       "</div>"
      ],
      "text/plain": [
       "   LotFrontage   LotArea  Neighborhood  OverallQual  OverallCond  YearBuilt  \\\n",
       "0    14.056118  9.084455             5            7            5       2003   \n",
       "1    15.771653  9.213244             7            6            8       1976   \n",
       "2    14.413847  9.373359             5            7            5       2001   \n",
       "3    13.441145  9.207973             6            7            5       1915   \n",
       "4    16.201359  9.612758            10            8            5       2000   \n",
       "\n",
       "   YearRemodAdd  MasVnrArea  ExterCond  BsmtCond  ...  MiscFeature_TenC  \\\n",
       "0          2003   20.186960          3         3  ...                 0   \n",
       "1          1976    0.000000          3         3  ...                 0   \n",
       "2          2002   18.427529          3         3  ...                 0   \n",
       "3          1970    0.000000          3         4  ...                 0   \n",
       "4          2000   26.525806          3         3  ...                 0   \n",
       "\n",
       "   SaleType_COD  SaleType_New  SaleType_Other  SaleType_WD  \\\n",
       "0             0             0               0            1   \n",
       "1             0             0               0            1   \n",
       "2             0             0               0            1   \n",
       "3             0             0               0            1   \n",
       "4             0             0               0            1   \n",
       "\n",
       "   SaleCondition_Abnorml  SaleCondition_AdjLand  SaleCondition_Alloca  \\\n",
       "0                      0                      0                     0   \n",
       "1                      0                      0                     0   \n",
       "2                      0                      0                     0   \n",
       "3                      1                      0                     0   \n",
       "4                      0                      0                     0   \n",
       "\n",
       "   SaleCondition_Family  SaleCondition_Normal  \n",
       "0                     0                     1  \n",
       "1                     0                     1  \n",
       "2                     0                     1  \n",
       "3                     0                     0  \n",
       "4                     0                     1  \n",
       "\n",
       "[5 rows x 195 columns]"
      ]
     },
     "execution_count": 224,
     "metadata": {},
     "output_type": "execute_result"
    }
   ],
   "source": [
    "df_mars.head()"
   ]
  },
  {
   "cell_type": "code",
   "execution_count": 225,
   "metadata": {
    "ExecuteTime": {
     "end_time": "2020-08-28T08:18:04.903644Z",
     "start_time": "2020-08-28T08:17:57.332869Z"
    }
   },
   "outputs": [],
   "source": [
    "# MARS can be viewed as a combination of linear model and tree model which could benifit from \n",
    "#data scaling and feature selection\n",
    "import statsmodels.regression.linear_model as sm\n",
    "Xm=df_mars.drop('SalePrice',axis=1).values\n",
    "ym=df_mars.loc[:,'SalePrice'].values\n",
    "from sklearn.preprocessing import MinMaxScaler\n",
    "scaler = MinMaxScaler()\n",
    "Xm = scaler.fit_transform(Xm)\n",
    "ym=np.log(ym)\n",
    "\n",
    "numVars = Xm.shape[1]-1\n",
    "for i in range(0, numVars):\n",
    "    regressor_OLS = sm.OLS(ym, Xm).fit()\n",
    "    maxVar = max(regressor_OLS.pvalues).astype(float)\n",
    "    if maxVar > 0.05:\n",
    "        for j in range(0, numVars - i):\n",
    "            if (regressor_OLS.pvalues[j].astype(float) == maxVar):\n",
    "                Xm = np.delete(Xm, j, 1)"
   ]
  },
  {
   "cell_type": "code",
   "execution_count": 259,
   "metadata": {
    "ExecuteTime": {
     "end_time": "2020-08-28T12:09:55.240360Z",
     "start_time": "2020-08-28T12:09:55.229204Z"
    }
   },
   "outputs": [
    {
     "name": "stdout",
     "output_type": "stream",
     "text": [
      "(1449, 121)\n",
      "12.247694320220994\n"
     ]
    }
   ],
   "source": [
    "print(Xm.shape)\n",
    "print(ym[0])"
   ]
  },
  {
   "cell_type": "code",
   "execution_count": 245,
   "metadata": {
    "ExecuteTime": {
     "end_time": "2020-08-28T10:16:29.441843Z",
     "start_time": "2020-08-28T10:16:29.421106Z"
    }
   },
   "outputs": [],
   "source": [
    "Xm_trainval, Xm_test, ym_trainval, ym_test = train_test_split(Xm, ym,\n",
    "                                                    test_size=0.3,\n",
    "                                                    random_state=123,\n",
    "                                                        shuffle=True)"
   ]
  },
  {
   "cell_type": "code",
   "execution_count": 244,
   "metadata": {
    "ExecuteTime": {
     "end_time": "2020-08-28T10:15:03.652272Z",
     "start_time": "2020-08-28T10:15:00.878298Z"
    }
   },
   "outputs": [
    {
     "data": {
      "text/plain": [
       "0.9070371189213573"
      ]
     },
     "execution_count": 244,
     "metadata": {},
     "output_type": "execute_result"
    }
   ],
   "source": [
    "from pyearth import Earth\n",
    "# Mars alone looks not bad\n",
    "mars=Earth(max_degree=1, penalty=0.1, endspan=1000)\n",
    "cross_val_score(mars,Xm_trainval,ym_trainval,cv=5).mean()"
   ]
  },
  {
   "cell_type": "code",
   "execution_count": 247,
   "metadata": {
    "ExecuteTime": {
     "end_time": "2020-08-28T11:25:16.913126Z",
     "start_time": "2020-08-28T10:16:37.877559Z"
    }
   },
   "outputs": [
    {
     "data": {
      "text/plain": [
       "{'learning_rate': 0.01, 'loss': 'exponential', 'n_estimators': 25}"
      ]
     },
     "execution_count": 247,
     "metadata": {},
     "output_type": "execute_result"
    }
   ],
   "source": [
    "# Searching for best parameters for AdaBoostRegressor\n",
    "abr=AdaBoostRegressor(base_estimator=mars)\n",
    "param_grid = {'learning_rate': [0.01,0.05,0.1,0.5],\\\n",
    "              'n_estimators':[15,25,35],'loss': ['linear','square','exponential']}\n",
    "grid_search=GridSearchCV(abr,param_grid,cv=5)\n",
    "\n",
    "grid_search.fit(Xm_trainval,ym_trainval)\n",
    "grid_search.best_params_"
   ]
  },
  {
   "cell_type": "code",
   "execution_count": 248,
   "metadata": {
    "ExecuteTime": {
     "end_time": "2020-08-28T11:49:20.171116Z",
     "start_time": "2020-08-28T11:49:20.074915Z"
    }
   },
   "outputs": [
    {
     "data": {
      "text/plain": [
       "0.9160350939035947"
      ]
     },
     "execution_count": 248,
     "metadata": {},
     "output_type": "execute_result"
    }
   ],
   "source": [
    "#perfomance on unseen data\n",
    "grid_search.score(Xm_test,ym_test)"
   ]
  },
  {
   "cell_type": "code",
   "execution_count": 253,
   "metadata": {
    "ExecuteTime": {
     "end_time": "2020-08-28T11:58:42.705600Z",
     "start_time": "2020-08-28T11:58:42.640991Z"
    }
   },
   "outputs": [
    {
     "data": {
      "text/plain": [
       "0.11650711319447676"
      ]
     },
     "execution_count": 253,
     "metadata": {},
     "output_type": "execute_result"
    }
   ],
   "source": [
    "ym_pred=grid_search.predict(Xm_test)\n",
    "rmse=np.sqrt(mean_squared_error(ym_test,ym_pred))\n",
    "rmse\n",
    "#This score is around the top 20% level in Kaggle "
   ]
  },
  {
   "cell_type": "markdown",
   "metadata": {},
   "source": [
    "**Ranking all the models have been applied on this dataset by now**\n",
    "\n",
    "Performance of **AdaBoostRegressor(mars)** on unseen data:\n",
    "    $R^2  score=0.9160$\n",
    "    \n",
    "Performance of **GradientBoostRegressor(tree)** on unseen data:\n",
    "    $R^2  score=0.8993$\n",
    "\n",
    "Performance of **SVM** on unseen data: \n",
    "    $R^2  score=0.8227$\n",
    "\n",
    "Performance of **Ridge** on unseen data: \n",
    "   $R^2  score=0.8241$"
   ]
  },
  {
   "cell_type": "code",
   "execution_count": null,
   "metadata": {},
   "outputs": [],
   "source": []
  }
 ],
 "metadata": {
  "kernelspec": {
   "display_name": "Python 3",
   "language": "python",
   "name": "python3"
  },
  "latex_envs": {
   "LaTeX_envs_menu_present": true,
   "autoclose": false,
   "autocomplete": true,
   "bibliofile": "biblio.bib",
   "cite_by": "apalike",
   "current_citInitial": 1,
   "eqLabelWithNumbers": true,
   "eqNumInitial": 1,
   "hotkeys": {
    "equation": "Ctrl-E",
    "itemize": "Ctrl-I"
   },
   "labels_anchors": false,
   "latex_user_defs": false,
   "report_style_numbering": false,
   "user_envs_cfg": false
  },
  "toc": {
   "base_numbering": 1,
   "nav_menu": {},
   "number_sections": true,
   "sideBar": true,
   "skip_h1_title": false,
   "title_cell": "Table of Contents",
   "title_sidebar": "Contents",
   "toc_cell": false,
   "toc_position": {
    "height": "calc(100% - 180px)",
    "left": "10px",
    "top": "150px",
    "width": "256px"
   },
   "toc_section_display": true,
   "toc_window_display": true
  },
  "varInspector": {
   "cols": {
    "lenName": 16,
    "lenType": 16,
    "lenVar": 40
   },
   "kernels_config": {
    "python": {
     "delete_cmd_postfix": "",
     "delete_cmd_prefix": "del ",
     "library": "var_list.py",
     "varRefreshCmd": "print(var_dic_list())"
    },
    "r": {
     "delete_cmd_postfix": ") ",
     "delete_cmd_prefix": "rm(",
     "library": "var_list.r",
     "varRefreshCmd": "cat(var_dic_list()) "
    }
   },
   "types_to_exclude": [
    "module",
    "function",
    "builtin_function_or_method",
    "instance",
    "_Feature"
   ],
   "window_display": false
  }
 },
 "nbformat": 4,
 "nbformat_minor": 2
}
