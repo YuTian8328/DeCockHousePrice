{
 "cells": [
  {
   "cell_type": "markdown",
   "metadata": {},
   "source": [
    "# Polynomial Regression"
   ]
  },
  {
   "cell_type": "markdown",
   "metadata": {},
   "source": [
    "1. Polynomial Regression\n",
    "1. Assumptions Of Linear Regressions\n",
    "1. Signs Of Multicolinearity\n",
    "1. Regularization\n",
    "\n"
   ]
  },
  {
   "cell_type": "markdown",
   "metadata": {},
   "source": [
    "## Assumptions of Linear Regressions"
   ]
  },
  {
   "cell_type": "markdown",
   "metadata": {},
   "source": [
    "* linearity\n",
    "* reliability of measurement\n",
    "* homoscedasticity\n",
    "* normality"
   ]
  },
  {
   "cell_type": "markdown",
   "metadata": {},
   "source": [
    "or more specifically"
   ]
  },
  {
   "cell_type": "markdown",
   "metadata": {},
   "source": [
    "1. Validity.\n",
    "1. Additivity and linearity.\n",
    "1. Independence of errors\n",
    "1. Equal variance of errors\n",
    "1. Normality of errors\n",
    "1. No absolute correlation between variables"
   ]
  },
  {
   "cell_type": "markdown",
   "metadata": {},
   "source": [
    " [Common Mistakes on Intepreting Regressions](https://www.ma.utexas.edu/users/mks/statmistakes/regressioncoeffs.html)"
   ]
  },
  {
   "cell_type": "markdown",
   "metadata": {},
   "source": [
    "## Polynomial Regression"
   ]
  },
  {
   "cell_type": "markdown",
   "metadata": {},
   "source": [
    "Consider the following polynomial regression model"
   ]
  },
  {
   "cell_type": "markdown",
   "metadata": {},
   "source": [
    "$$y = α + β_1x + β_2x^2 + ε$$"
   ]
  },
  {
   "cell_type": "markdown",
   "metadata": {},
   "source": [
    "** Q: This represents a nonlinear relationship. Is it still a linear model?**\n",
    "\n",
    "A: Yes, because it’s linear in the β's!"
   ]
  },
  {
   "cell_type": "markdown",
   "metadata": {},
   "source": [
    "> “Although polynomial regression fits a nonlinear model to the data, as a statistical estimation problem it is linear, in the sense that the regression function E(y|x) is linear in the unknown parameters that are estimated from the data. For this reason, polynomial regression is considered to be a special case of multiple linear regression.”\n",
    "\n",
    "<footer>~ Wikipedia</footer>\n"
   ]
  },
  {
   "cell_type": "markdown",
   "metadata": {},
   "source": [
    "Polynomial regression allows us to fit very complex\n",
    "curves to data."
   ]
  },
  {
   "cell_type": "markdown",
   "metadata": {},
   "source": [
    "$$y = α + β_1x + β_2x^2 + ... + β_nx^n + ε$$"
   ]
  },
  {
   "cell_type": "markdown",
   "metadata": {},
   "source": [
    "A very simple [visual reminder](http://stats.stackexchange.com/questions/58739/polynomial-regression-using-scikit-learn) of what it means to add polynomials to your design matrix. Code with plot explaining why you'd want to [use polynomials](http://scikit-learn.org/stable/auto_examples/linear_model/plot_polynomial_interpolation.html) in the first place. Numpy also provides a [module](http://docs.scipy.org/doc/numpy/reference/generated/numpy.polyfit.html) to directly deal with polynomials."
   ]
  },
  {
   "cell_type": "markdown",
   "metadata": {},
   "source": [
    "But there is one problem with the model we’ve written\n",
    "down so far. This model violates one of the assumptions of linear regression!"
   ]
  },
  {
   "cell_type": "markdown",
   "metadata": {},
   "source": [
    "This model displays multicollinearity, which means the\n",
    "predictor variables are highly correlated with each other."
   ]
  },
  {
   "cell_type": "code",
   "execution_count": 1,
   "metadata": {
    "ExecuteTime": {
     "end_time": "2020-08-10T08:25:28.096701Z",
     "start_time": "2020-08-10T08:25:28.041146Z"
    },
    "scrolled": true
   },
   "outputs": [
    {
     "data": {
      "text/plain": [
       "0.9987609495377574"
      ]
     },
     "execution_count": 1,
     "metadata": {},
     "output_type": "execute_result"
    }
   ],
   "source": [
    "import numpy as np\n",
    "\n",
    "x = np.arange(1, 10, 0.1)\n",
    "np.corrcoef(x**9,x**10)[0][1]"
   ]
  },
  {
   "cell_type": "markdown",
   "metadata": {},
   "source": [
    "#### MultiColinearity"
   ]
  },
  {
   "cell_type": "markdown",
   "metadata": {},
   "source": [
    "Multicollinearity causes the linear regression model to break down, because it can’t tell the predictor variables apart. This results in a singularity."
   ]
  },
  {
   "cell_type": "markdown",
   "metadata": {},
   "source": [
    "How can we deal with multicolinearity? Replace the correlated predictors with uncorrelated predictors.\n",
    "\n",
    "A simple [Standardization Technique](https://www.stat.fi/isi99/proceedings/arkisto/varasto/kim_0574.pdf) to deal with the MultiColinearity of Polynomials. (https://onlinecourses.science.psu.edu/stat501). Another way is to use [Orthoganal Polynomials](http://dlmf.nist.gov/18.4) to deal with multicolinearity. "
   ]
  },
  {
   "cell_type": "markdown",
   "metadata": {},
   "source": [
    "$$y = α + β_1f_1(x) + β_2f_2(x^2) + ... + β_nf_n(x^n) + ε$$"
   ]
  },
  {
   "cell_type": "markdown",
   "metadata": {},
   "source": [
    "## Signs of Multicolinearity"
   ]
  },
  {
   "cell_type": "markdown",
   "metadata": {},
   "source": [
    "* A regression coefficient is not significant even though, theoretically, that variable should be highly correlated with Y.\n",
    "* When you add or delete an X variable, the regression coefficients change dramatically.\n",
    "* You see a negative regression coefficient when your response should increase along with X.\n",
    "* You see a positive regression coefficient when the response should decrease as X increases.\n",
    "* Your X variables have high pairwise correlations.\n"
   ]
  },
  {
   "cell_type": "markdown",
   "metadata": {},
   "source": [
    "Formally, we can check the tolerance values or `variance inflation ratio` (VIF) to investigate possible collinearity. We define the `tolerance` as 1/ R2 and `VIF` as 1/Tolerance.\n",
    "\n",
    "The less the tolerance’s value, (or it is closer to zero, or < 0.1), the worse of the collinearity. This is conforms to the formula: as tolerance close to zero then R2 is closer to 1, meaning a stronger linear relation.\n",
    "\n",
    "It is not surprising, since VIF is the reciprocal of the tolerance, then the larger of the value of VIF, the worse the collinearity!\n",
    "\n",
    "Usually, if VIF is greater than 10 we should consider it a warning sign! Under the situation when there is collinearity, we may reasonably consider using only one of the correlated variables (ignore the other one, it does not matter which one to choose staying in the model). "
   ]
  },
  {
   "cell_type": "markdown",
   "metadata": {},
   "source": [
    "## Regularization"
   ]
  },
  {
   "cell_type": "markdown",
   "metadata": {},
   "source": [
    "**Q: What’s overfitting?**\n",
    "\n",
    "Overfitting occurs when a model matches the noise\n",
    "instead of the signal."
   ]
  },
  {
   "cell_type": "markdown",
   "metadata": {},
   "source": [
    "* **Noise**: Extra “cruft” that doesn’t contribute to a readable\n",
    "prediction.\n",
    "* **Signal**: Clean, elegant interpretation of the data"
   ]
  },
  {
   "cell_type": "markdown",
   "metadata": {},
   "source": [
    "This happens when our model is too complex!"
   ]
  },
  {
   "cell_type": "markdown",
   "metadata": {},
   "source": [
    "**Q: How do we define the complexity of a regression\n",
    "model?**\n",
    "\n",
    "A: One method is to define **complexity** as a function of the size of the coefficients.\n",
    "\n",
    "$Ex1: \\lVert \\beta_i \\rVert_1 =  \\Sigma | \\beta_i |$ , this is called the **L1-norm**\n",
    "\n",
    "$Ex2:  \\lVert \\beta_i \\rVert_2 = \\Sigma \\beta_i^2 $$ $ , this is called the **L2-norm**\n"
   ]
  },
  {
   "cell_type": "markdown",
   "metadata": {},
   "source": [
    "These measures of complexity lead to the following\n",
    "regularization techniques:"
   ]
  },
  {
   "cell_type": "markdown",
   "metadata": {},
   "source": [
    "#### L1 regularization:\n",
    "$$y=Σβ_ix_i + ε \\quad st. \\quad Σ | β_i | \\lt s$$\n",
    "    \n",
    "#### L2 regularization:\n",
    "$$y=Σβ_ix_i + ε \\quad st. \\quad Σ β_i^2 \\lt s$$"
   ]
  },
  {
   "cell_type": "markdown",
   "metadata": {},
   "source": [
    "Regularization refers to the method of preventing\n",
    "overfitting by explicitly controlling model complexity."
   ]
  },
  {
   "cell_type": "markdown",
   "metadata": {},
   "source": [
    "These regularization problems can also be expressed as:"
   ]
  },
  {
   "cell_type": "markdown",
   "metadata": {},
   "source": [
    "#### L1 regularization:\n",
    "$$ min(\\lVert y - xβ \\rVert^2 + λ\\lVert x \\rVert)$$\n",
    "    \n",
    "#### L2 regularization:\n",
    "$$ min(\\lVert y - xβ \\rVert^2 + λ\\lVert x \\rVert^2)$$"
   ]
  },
  {
   "cell_type": "markdown",
   "metadata": {},
   "source": [
    "but more importantly, we can think about the use cases of these two more clearly this way:"
   ]
  },
  {
   "cell_type": "markdown",
   "metadata": {},
   "source": [
    "**L1 regularization**:  Used when we have small data but many features.\n",
    "\n",
    "**L2 regularization**: Used in just about all other cases."
   ]
  },
  {
   "cell_type": "markdown",
   "metadata": {},
   "source": [
    "This (Lagrangian) formulation reflects the fact that\n",
    "there is a cost associated with regularization."
   ]
  },
  {
   "cell_type": "markdown",
   "metadata": {},
   "source": [
    "Clear introduction to the [L-1 and L-2 Norms](http://rorasa.wordpress.com/2012/05/13/l0-norm-l1-norm-l2-norm-l-infinity-norm/), the [effects of L1](http://cseweb.ucsd.edu/~saul/teaching/cse291s07/L1norm.pdf)"
   ]
  },
  {
   "cell_type": "markdown",
   "metadata": {},
   "source": [
    "### Bias and Variance"
   ]
  },
  {
   "cell_type": "markdown",
   "metadata": {},
   "source": [
    "* **Bias** refers to predictions that are systematically\n",
    "inaccurate. \n",
    "* **Variance** refers to predictions that are generally\n",
    "inaccurate."
   ]
  },
  {
   "cell_type": "markdown",
   "metadata": {},
   "source": [
    "It turns out (after some math) that the generalization error in our model can be decomposed into a bias component and variance component."
   ]
  },
  {
   "cell_type": "markdown",
   "metadata": {},
   "source": [
    "#### This is another example of the bias-variance tradeoff."
   ]
  },
  {
   "cell_type": "markdown",
   "metadata": {},
   "source": [
    "This tradeoff is regulated by a hyperparameter $λ$, which we’ve already seen:\n",
    "\n",
    "#### L1 regularization\n",
    "\n",
    "$$y=Σβ_ix_i + ε \\quad st. \\quad Σ \\lVert β_i \\rVert \\lt λ$$\n",
    "\n",
    "\n",
    "#### L2 regularization\n",
    "\n",
    "$$y=Σβ_ix_i + ε \\quad st. \\quad Σ \\lVert β_i^2 \\rVert \\lt λ$$\n",
    "\n",
    "We should take advantage of generalization to trade off variance in our data for bias in our fit, which will overall produce a clearer and better overall fit to our data!"
   ]
  },
  {
   "cell_type": "markdown",
   "metadata": {},
   "source": [
    "## Ordinary Least Squares & Ridge Regression"
   ]
  },
  {
   "cell_type": "markdown",
   "metadata": {},
   "source": [
    "* Practice using both the `LinearRegression` and `RidgeRegression` models in scikit-learn\n",
    "* Explore differences between a model using OLS (L1) and LLS (L2) regularization\n",
    "* Tear apart and understand how predictions get built in scikit learn\n"
   ]
  },
  {
   "cell_type": "code",
   "execution_count": 2,
   "metadata": {
    "ExecuteTime": {
     "end_time": "2020-08-10T08:25:28.282526Z",
     "start_time": "2020-08-10T08:25:28.097680Z"
    }
   },
   "outputs": [],
   "source": [
    "%matplotlib inline\n",
    "import pandas as pd\n",
    "import numpy as np\n",
    "import matplotlib.pyplot as plt\n",
    "\n",
    "# Set some Pandas options\n",
    "pd.set_option('max_columns', 30)\n",
    "pd.set_option('max_rows', 20)\n",
    "\n",
    "# Store data in a consistent place\n",
    "DATA_DIR = 'data/'"
   ]
  },
  {
   "cell_type": "markdown",
   "metadata": {},
   "source": [
    "### More in depth understanding behind how scikit learn works"
   ]
  },
  {
   "cell_type": "markdown",
   "metadata": {},
   "source": [
    "Load up this script (using the same mammals set we glanced at before) and let's break down (and also break) what's going on with each line of code."
   ]
  },
  {
   "cell_type": "code",
   "execution_count": 3,
   "metadata": {
    "ExecuteTime": {
     "end_time": "2020-08-10T08:25:28.436131Z",
     "start_time": "2020-08-10T08:25:28.283457Z"
    }
   },
   "outputs": [
    {
     "name": "stdout",
     "output_type": "stream",
     "text": [
      "               Name     body  brain\n",
      "0        Arctic fox    3.385   44.5\n",
      "1        Owl monkey    0.480   15.5\n",
      "2   Mountain beaver    1.350    8.1\n",
      "3               Cow  465.000  423.0\n",
      "4         Grey wolf   36.330  119.5\n",
      "..              ...      ...    ...\n",
      "57  Brazilian tapir  160.000  169.0\n",
      "58           Tenrec    0.900    2.6\n",
      "59        Phalanger    1.620   11.4\n",
      "60       Tree shrew    0.104    2.5\n",
      "61          Red fox    4.235   50.4\n",
      "\n",
      "[62 rows x 3 columns]\n"
     ]
    }
   ],
   "source": [
    "from sklearn import linear_model\n",
    "\n",
    "mammals = pd.read_csv(DATA_DIR + 'mammals.csv')\n",
    "print(mammals)\n",
    "lm = linear_model.LinearRegression()\n",
    "log_lm = linear_model.LinearRegression()"
   ]
  },
  {
   "cell_type": "code",
   "execution_count": null,
   "metadata": {},
   "outputs": [],
   "source": []
  },
  {
   "cell_type": "code",
   "execution_count": 4,
   "metadata": {
    "ExecuteTime": {
     "end_time": "2020-08-10T08:25:28.439944Z",
     "start_time": "2020-08-10T08:25:28.436988Z"
    }
   },
   "outputs": [
    {
     "data": {
      "text/plain": [
       "array([4.450e+01, 1.550e+01, 8.100e+00, 4.230e+02, 1.195e+02, 1.150e+02,\n",
       "       9.820e+01, 5.500e+00, 5.800e+01, 6.400e+00, 4.000e+00, 5.700e+00,\n",
       "       6.600e+00, 1.400e-01, 1.000e+00, 1.080e+01, 1.230e+01, 6.300e+00,\n",
       "       4.603e+03, 3.000e-01, 4.190e+02, 6.550e+02, 3.500e+00, 1.150e+02,\n",
       "       2.560e+01, 5.000e+00, 1.750e+01, 6.800e+02, 4.060e+02, 3.250e+02,\n",
       "       1.230e+01, 1.320e+03, 5.712e+03, 3.900e+00, 1.790e+02, 5.600e+01,\n",
       "       1.700e+01, 1.000e+00, 4.000e-01, 2.500e-01, 1.250e+01, 4.900e+02,\n",
       "       1.210e+01, 1.750e+02, 1.570e+02, 4.400e+02, 1.795e+02, 2.400e+00,\n",
       "       8.100e+01, 2.100e+01, 3.920e+01, 1.900e+00, 1.200e+00, 3.000e+00,\n",
       "       3.300e-01, 1.800e+02, 2.500e+01, 1.690e+02, 2.600e+00, 1.140e+01,\n",
       "       2.500e+00, 5.040e+01])"
      ]
     },
     "execution_count": 4,
     "metadata": {},
     "output_type": "execute_result"
    }
   ],
   "source": [
    "body = [ [x] for x in mammals['body'].values]\n",
    "brain = mammals['brain'].values\n",
    "brain"
   ]
  },
  {
   "cell_type": "code",
   "execution_count": 5,
   "metadata": {
    "ExecuteTime": {
     "end_time": "2020-08-10T08:25:28.513982Z",
     "start_time": "2020-08-10T08:25:28.440751Z"
    }
   },
   "outputs": [
    {
     "data": {
      "text/plain": [
       "<matplotlib.collections.PathCollection at 0x7ffa9a61f610>"
      ]
     },
     "execution_count": 5,
     "metadata": {},
     "output_type": "execute_result"
    },
    {
     "data": {
      "image/png": "[encoded data removed]",
      "text/plain": [
       "<Figure size 432x288 with 1 Axes>"
      ]
     },
     "metadata": {
      "needs_background": "light"
     },
     "output_type": "display_data"
    }
   ],
   "source": [
    "plt.scatter(body,brain)"
   ]
  },
  {
   "cell_type": "code",
   "execution_count": 6,
   "metadata": {
    "ExecuteTime": {
     "end_time": "2020-08-10T08:25:28.516974Z",
     "start_time": "2020-08-10T08:25:28.515167Z"
    }
   },
   "outputs": [],
   "source": [
    "log_body = [ [x] for x in np.log(mammals['body'].values)]\n",
    "log_brain = np.log(mammals['brain'].values)"
   ]
  },
  {
   "cell_type": "code",
   "execution_count": 7,
   "metadata": {
    "ExecuteTime": {
     "end_time": "2020-08-10T08:25:28.589840Z",
     "start_time": "2020-08-10T08:25:28.517915Z"
    }
   },
   "outputs": [
    {
     "data": {
      "text/plain": [
       "<matplotlib.collections.PathCollection at 0x7ffa9a548810>"
      ]
     },
     "execution_count": 7,
     "metadata": {},
     "output_type": "execute_result"
    },
    {
     "data": {
      "image/png": "[encoded data removed]",
      "text/plain": [
       "<Figure size 432x288 with 1 Axes>"
      ]
     },
     "metadata": {
      "needs_background": "light"
     },
     "output_type": "display_data"
    }
   ],
   "source": [
    "plt.scatter(log_body,log_brain)"
   ]
  },
  {
   "cell_type": "code",
   "execution_count": 8,
   "metadata": {
    "ExecuteTime": {
     "end_time": "2020-08-10T08:25:28.594370Z",
     "start_time": "2020-08-10T08:25:28.590704Z"
    }
   },
   "outputs": [
    {
     "data": {
      "text/plain": [
       "LinearRegression(copy_X=True, fit_intercept=True, n_jobs=None, normalize=False)"
      ]
     },
     "execution_count": 8,
     "metadata": {},
     "output_type": "execute_result"
    }
   ],
   "source": [
    "lm.fit(body, brain)"
   ]
  },
  {
   "cell_type": "code",
   "execution_count": 9,
   "metadata": {
    "ExecuteTime": {
     "end_time": "2020-08-10T08:25:28.597914Z",
     "start_time": "2020-08-10T08:25:28.595209Z"
    }
   },
   "outputs": [
    {
     "data": {
      "text/plain": [
       "LinearRegression(copy_X=True, fit_intercept=True, n_jobs=None, normalize=False)"
      ]
     },
     "execution_count": 9,
     "metadata": {},
     "output_type": "execute_result"
    }
   ],
   "source": [
    "log_lm.fit(log_body, log_brain)"
   ]
  },
  {
   "cell_type": "markdown",
   "metadata": {},
   "source": [
    "We can observe various features about our linear models that we've discussed in lecture."
   ]
  },
  {
   "cell_type": "markdown",
   "metadata": {},
   "source": [
    "#### Find the intercept"
   ]
  },
  {
   "cell_type": "markdown",
   "metadata": {},
   "source": [
    "Note we can set to train for an intercept with `set_params()`"
   ]
  },
  {
   "cell_type": "code",
   "execution_count": 10,
   "metadata": {
    "ExecuteTime": {
     "end_time": "2020-08-10T08:25:28.601392Z",
     "start_time": "2020-08-10T08:25:28.598623Z"
    }
   },
   "outputs": [
    {
     "data": {
      "text/plain": [
       "91.00439620740687"
      ]
     },
     "execution_count": 10,
     "metadata": {},
     "output_type": "execute_result"
    }
   ],
   "source": [
    "lm.intercept_"
   ]
  },
  {
   "cell_type": "code",
   "execution_count": 11,
   "metadata": {
    "ExecuteTime": {
     "end_time": "2020-08-10T08:25:28.605234Z",
     "start_time": "2020-08-10T08:25:28.602072Z"
    }
   },
   "outputs": [
    {
     "data": {
      "text/plain": [
       "2.134788676764636"
      ]
     },
     "execution_count": 11,
     "metadata": {},
     "output_type": "execute_result"
    }
   ],
   "source": [
    "log_lm.intercept_"
   ]
  },
  {
   "cell_type": "markdown",
   "metadata": {},
   "source": [
    "#### Print out the predictions for a given matrix"
   ]
  },
  {
   "cell_type": "markdown",
   "metadata": {},
   "source": [
    "needs to fit the same dimensional space as the data we fit"
   ]
  },
  {
   "cell_type": "code",
   "execution_count": 12,
   "metadata": {
    "ExecuteTime": {
     "end_time": "2020-08-10T08:25:28.609857Z",
     "start_time": "2020-08-10T08:25:28.605915Z"
    }
   },
   "outputs": [
    {
     "data": {
      "text/plain": [
       "0      94.275986\n",
       "1      91.468314\n",
       "2      92.309166\n",
       "3     540.425207\n",
       "4     126.117209\n",
       "         ...    \n",
       "57    245.643815\n",
       "58     91.874243\n",
       "59     92.570120\n",
       "60     91.104912\n",
       "61     95.097508\n",
       "Name: predict, Length: 62, dtype: float64"
      ]
     },
     "execution_count": 12,
     "metadata": {},
     "output_type": "execute_result"
    }
   ],
   "source": [
    "lm.predict(body)\n",
    "mammals['predict'] = lm.predict(body)\n",
    "mammals['predict']"
   ]
  },
  {
   "cell_type": "code",
   "execution_count": 13,
   "metadata": {
    "ExecuteTime": {
     "end_time": "2020-08-10T08:25:28.614525Z",
     "start_time": "2020-08-10T08:25:28.610620Z"
    }
   },
   "outputs": [
    {
     "data": {
      "text/plain": [
       "0      21.144078\n",
       "1       4.869905\n",
       "2      10.594903\n",
       "3     855.487784\n",
       "4     125.879932\n",
       "         ...    \n",
       "57    383.647997\n",
       "58      7.811450\n",
       "59     12.151123\n",
       "60      1.542569\n",
       "61     25.022105\n",
       "Name: log_predict, Length: 62, dtype: float64"
      ]
     },
     "execution_count": 13,
     "metadata": {},
     "output_type": "execute_result"
    }
   ],
   "source": [
    "log_lm.predict(log_body)\n",
    "mammals['log_predict'] = np.exp(log_lm.predict(log_body))\n",
    "mammals['log_predict']"
   ]
  },
  {
   "cell_type": "markdown",
   "metadata": {},
   "source": [
    "### Scipy.stats"
   ]
  },
  {
   "cell_type": "markdown",
   "metadata": {},
   "source": [
    "Most of the data that is curated from sklearn and statsmodels comes from `scipy.stats`, which has a linear regression built in."
   ]
  },
  {
   "cell_type": "code",
   "execution_count": 14,
   "metadata": {
    "ExecuteTime": {
     "end_time": "2020-08-10T08:25:28.697333Z",
     "start_time": "2020-08-10T08:25:28.615371Z"
    }
   },
   "outputs": [
    {
     "name": "stdout",
     "output_type": "stream",
     "text": [
      "response mean 22.055555555555557\n",
      "standard Deviation of Y 1.935694598909372\n",
      "r-squared value 0.9138385502471171\n",
      "p_value 5.6576124923241295e-05\n",
      "standard deviation of error terms 0.08317445171439007\n"
     ]
    },
    {
     "data": {
      "image/png": "[encoded data removed]",
      "text/plain": [
       "<Figure size 432x288 with 1 Axes>"
      ]
     },
     "metadata": {
      "needs_background": "light"
     },
     "output_type": "display_data"
    }
   ],
   "source": [
    "from numpy import arange,array,ones#,random,linalg\n",
    "from pylab import plot,show\n",
    "from scipy import stats\n",
    "\n",
    "xi = arange(0,9)\n",
    "A = array([ xi, ones(9)])\n",
    "# linearly generated sequence\n",
    "y = [19, 20, 20.5, 21.5, 22, 23, 23, 25.5, 24]\n",
    "slope, intercept, r_value, p_value, std_err = stats.linregress(xi,y)\n",
    "\n",
    "# H0\n",
    "print ('response mean', np.mean(y))\n",
    "\n",
    "# Standard Deviation of Y\n",
    "print ('standard Deviation of Y', np.std(y))\n",
    "\n",
    "# Coefficient of Determination\n",
    "print ('r-squared value', r_value**2)\n",
    "\n",
    "# Is the statistic significant?\n",
    "print ('p_value', p_value)\n",
    "\n",
    "print ('standard deviation of error terms', std_err)\n",
    "\n",
    "line = slope*xi+intercept\n",
    "plot(xi,line,'r-',xi,y,'o')\n",
    "show()\n"
   ]
  },
  {
   "cell_type": "markdown",
   "metadata": {},
   "source": [
    "### Practice: Plotting Predictions"
   ]
  },
  {
   "cell_type": "markdown",
   "metadata": {},
   "source": [
    "Since pyplot plots _discretely_ (and not continuously), if we want an accurate representation of any transformed plot (particularly for polynomial data), we need to sort our data frame by the response value. We can either do this before fitting a model (with the actual response) or post-fit (with the predicted response)."
   ]
  },
  {
   "cell_type": "code",
   "execution_count": 15,
   "metadata": {
    "ExecuteTime": {
     "end_time": "2020-08-10T08:25:28.700468Z",
     "start_time": "2020-08-10T08:25:28.698248Z"
    }
   },
   "outputs": [],
   "source": [
    "# Sort by response:\n",
    "mammals = mammals.sort_values('brain')"
   ]
  },
  {
   "cell_type": "code",
   "execution_count": 16,
   "metadata": {
    "ExecuteTime": {
     "end_time": "2020-08-10T08:25:28.774005Z",
     "start_time": "2020-08-10T08:25:28.701449Z"
    }
   },
   "outputs": [
    {
     "data": {
      "image/png": "[encoded data removed]",
      "text/plain": [
       "<Figure size 432x288 with 1 Axes>"
      ]
     },
     "metadata": {
      "needs_background": "light"
     },
     "output_type": "display_data"
    }
   ],
   "source": [
    "# Sort by prediction:\n",
    "mammals_log_sort = mammals.sort_values('log_predict')\n",
    "\n",
    "plot(mammals_log_sort.body, mammals_log_sort.brain)\n",
    "show()"
   ]
  },
  {
   "cell_type": "markdown",
   "metadata": {},
   "source": [
    "Otherwise, use plt.scatter and plt.plot as we know how to use them."
   ]
  },
  {
   "cell_type": "markdown",
   "metadata": {},
   "source": [
    "### Polynominal regressions"
   ]
  },
  {
   "cell_type": "markdown",
   "metadata": {},
   "source": [
    "Likewise, polynomial regressions can work as new inputs constructed from our data:"
   ]
  },
  {
   "cell_type": "code",
   "execution_count": 17,
   "metadata": {
    "ExecuteTime": {
     "end_time": "2020-08-10T08:25:28.778890Z",
     "start_time": "2020-08-10T08:25:28.774833Z"
    }
   },
   "outputs": [],
   "source": [
    "mammals['body_sq'] = mammals['body']**2"
   ]
  },
  {
   "cell_type": "code",
   "execution_count": null,
   "metadata": {
    "ExecuteTime": {
     "end_time": "2020-08-10T08:25:28.832085Z",
     "start_time": "2020-08-10T08:25:28.780990Z"
    }
   },
   "outputs": [],
   "source": []
  },
  {
   "cell_type": "markdown",
   "metadata": {},
   "source": [
    "The LinearRegression model has no regularization method.\n",
    "\n",
    "Let's check out a Ridge Regression, which uses L2, and Lasso, which uses L1. Finally, ElasticNet, which is trained with both L1 and L2. To compare, we'll put each in a loop to fit and print some values. "
   ]
  },
  {
   "cell_type": "code",
   "execution_count": 19,
   "metadata": {
    "ExecuteTime": {
     "end_time": "2020-08-10T08:25:38.076059Z",
     "start_time": "2020-08-10T08:25:38.057284Z"
    }
   },
   "outputs": [
    {
     "name": "stdout",
     "output_type": "stream",
     "text": [
      "<class 'sklearn.linear_model._base.LinearRegression'> [ 2.12392932e+00 -1.89465969e-04] 19.11529868186767\n",
      "<class 'sklearn.linear_model._base.LinearRegression'> 0.9535317265882387\n",
      "<class 'sklearn.linear_model._ridge.Ridge'> [ 2.12392861e+00 -1.89465860e-04] 19.115348638900173\n",
      "<class 'sklearn.linear_model._ridge.Ridge'> 0.9535317265882102\n",
      "<class 'sklearn.linear_model._coordinate_descent.Lasso'> [ 2.12390715e+00 -1.89462560e-04] 19.116859541526026\n",
      "<class 'sklearn.linear_model._coordinate_descent.Lasso'> 0.95353172656037\n",
      "<class 'sklearn.linear_model._coordinate_descent.ElasticNet'> [ 2.12389628e+00 -1.89460889e-04] 19.11762485387419\n",
      "<class 'sklearn.linear_model._coordinate_descent.ElasticNet'> 0.9535317265263428\n",
      "best Fit is: <class 'sklearn.linear_model._base.LinearRegression'> with an R^2 of 0.9535317265882387\n"
     ]
    }
   ],
   "source": [
    "best_fit, best_score  = None, -1\n",
    "for regression in [linear_model.LinearRegression, linear_model.Ridge, linear_model.Lasso, linear_model.ElasticNet]:\n",
    "    mod = regression().fit(mammals[['body', 'body_sq']], mammals['brain'])\n",
    "    print (type(mod), mod.coef_, mod.intercept_)\n",
    "    new_score =  mod.score(mammals[['body', 'body_sq']], mammals['brain'])\n",
    "    print (type(mod), new_score)\n",
    "    if mod.score(mammals[['body', 'body_sq']], mammals['brain']) >= best_score:\n",
    "        best_fit = (type(mod))\n",
    "        best_score = new_score\n",
    "\n",
    "print (\"best Fit is:\", best_fit, \"with an R^2 of\", best_score)"
   ]
  },
  {
   "cell_type": "markdown",
   "metadata": {},
   "source": [
    "and using this against your feature matrix to determine p-values for each feature (we care about the second array it returns for now).\n"
   ]
  },
  {
   "cell_type": "markdown",
   "metadata": {},
   "source": [
    "# Polynomial Regression"
   ]
  },
  {
   "cell_type": "code",
   "execution_count": 30,
   "metadata": {
    "ExecuteTime": {
     "end_time": "2020-08-10T08:30:23.772189Z",
     "start_time": "2020-08-10T08:30:23.756016Z"
    }
   },
   "outputs": [
    {
     "data": {
      "text/html": [
       "<div>\n",
       "<style scoped>\n",
       "    .dataframe tbody tr th:only-of-type {\n",
       "        vertical-align: middle;\n",
       "    }\n",
       "\n",
       "    .dataframe tbody tr th {\n",
       "        vertical-align: top;\n",
       "    }\n",
       "\n",
       "    .dataframe thead th {\n",
       "        text-align: right;\n",
       "    }\n",
       "</style>\n",
       "<table border=\"1\" class=\"dataframe\">\n",
       "  <thead>\n",
       "    <tr style=\"text-align: right;\">\n",
       "      <th></th>\n",
       "      <th>Position</th>\n",
       "      <th>Level</th>\n",
       "      <th>Salary</th>\n",
       "    </tr>\n",
       "  </thead>\n",
       "  <tbody>\n",
       "    <tr>\n",
       "      <th>0</th>\n",
       "      <td>Business Analyst</td>\n",
       "      <td>1</td>\n",
       "      <td>45000</td>\n",
       "    </tr>\n",
       "    <tr>\n",
       "      <th>1</th>\n",
       "      <td>Junior Consultant</td>\n",
       "      <td>2</td>\n",
       "      <td>50000</td>\n",
       "    </tr>\n",
       "    <tr>\n",
       "      <th>2</th>\n",
       "      <td>Senior Consultant</td>\n",
       "      <td>3</td>\n",
       "      <td>60000</td>\n",
       "    </tr>\n",
       "    <tr>\n",
       "      <th>3</th>\n",
       "      <td>Manager</td>\n",
       "      <td>4</td>\n",
       "      <td>80000</td>\n",
       "    </tr>\n",
       "    <tr>\n",
       "      <th>4</th>\n",
       "      <td>Country Manager</td>\n",
       "      <td>5</td>\n",
       "      <td>110000</td>\n",
       "    </tr>\n",
       "    <tr>\n",
       "      <th>5</th>\n",
       "      <td>Region Manager</td>\n",
       "      <td>6</td>\n",
       "      <td>150000</td>\n",
       "    </tr>\n",
       "    <tr>\n",
       "      <th>6</th>\n",
       "      <td>Partner</td>\n",
       "      <td>7</td>\n",
       "      <td>200000</td>\n",
       "    </tr>\n",
       "    <tr>\n",
       "      <th>7</th>\n",
       "      <td>Senior Partner</td>\n",
       "      <td>8</td>\n",
       "      <td>300000</td>\n",
       "    </tr>\n",
       "    <tr>\n",
       "      <th>8</th>\n",
       "      <td>C-level</td>\n",
       "      <td>9</td>\n",
       "      <td>500000</td>\n",
       "    </tr>\n",
       "    <tr>\n",
       "      <th>9</th>\n",
       "      <td>CEO</td>\n",
       "      <td>10</td>\n",
       "      <td>1000000</td>\n",
       "    </tr>\n",
       "  </tbody>\n",
       "</table>\n",
       "</div>"
      ],
      "text/plain": [
       "            Position  Level   Salary\n",
       "0   Business Analyst      1    45000\n",
       "1  Junior Consultant      2    50000\n",
       "2  Senior Consultant      3    60000\n",
       "3            Manager      4    80000\n",
       "4    Country Manager      5   110000\n",
       "5     Region Manager      6   150000\n",
       "6            Partner      7   200000\n",
       "7     Senior Partner      8   300000\n",
       "8            C-level      9   500000\n",
       "9                CEO     10  1000000"
      ]
     },
     "execution_count": 30,
     "metadata": {},
     "output_type": "execute_result"
    }
   ],
   "source": [
    "dataset = pd.read_csv('data/Position_Salaries.csv')\n",
    "X = dataset.iloc[:, 1:-1].values\n",
    "y = dataset.iloc[:, -1].values\n",
    "dataset"
   ]
  },
  {
   "cell_type": "markdown",
   "metadata": {},
   "source": [
    "## Training the Linear Regression model on the whole dataset"
   ]
  },
  {
   "cell_type": "code",
   "execution_count": 31,
   "metadata": {
    "ExecuteTime": {
     "end_time": "2020-08-10T08:30:48.217392Z",
     "start_time": "2020-08-10T08:30:48.203153Z"
    }
   },
   "outputs": [
    {
     "data": {
      "text/plain": [
       "LinearRegression(copy_X=True, fit_intercept=True, n_jobs=None, normalize=False)"
      ]
     },
     "execution_count": 31,
     "metadata": {},
     "output_type": "execute_result"
    }
   ],
   "source": [
    "from sklearn.linear_model import LinearRegression\n",
    "lin_reg = LinearRegression()\n",
    "lin_reg.fit(X, y)"
   ]
  },
  {
   "cell_type": "markdown",
   "metadata": {},
   "source": [
    "## Training the Polynomial Regression model on the whole dataset"
   ]
  },
  {
   "cell_type": "code",
   "execution_count": 32,
   "metadata": {
    "ExecuteTime": {
     "end_time": "2020-08-10T08:30:51.948932Z",
     "start_time": "2020-08-10T08:30:51.942038Z"
    }
   },
   "outputs": [
    {
     "data": {
      "text/plain": [
       "LinearRegression(copy_X=True, fit_intercept=True, n_jobs=None, normalize=False)"
      ]
     },
     "execution_count": 32,
     "metadata": {},
     "output_type": "execute_result"
    }
   ],
   "source": [
    "from sklearn.preprocessing import PolynomialFeatures\n",
    "poly_reg = PolynomialFeatures(degree = 4)\n",
    "X_poly = poly_reg.fit_transform(X)\n",
    "lin_reg_2 = LinearRegression()\n",
    "lin_reg_2.fit(X_poly, y)"
   ]
  },
  {
   "cell_type": "markdown",
   "metadata": {},
   "source": [
    "## Visualising the Linear Regression results"
   ]
  },
  {
   "cell_type": "code",
   "execution_count": 33,
   "metadata": {
    "ExecuteTime": {
     "end_time": "2020-08-10T08:31:10.022230Z",
     "start_time": "2020-08-10T08:31:09.938193Z"
    }
   },
   "outputs": [
    {
     "data": {
      "image/png": "[encoded data removed]",
      "text/plain": [
       "<Figure size 432x288 with 1 Axes>"
      ]
     },
     "metadata": {
      "needs_background": "light"
     },
     "output_type": "display_data"
    }
   ],
   "source": [
    "plt.scatter(X, y, color = 'red')\n",
    "plt.plot(X, lin_reg.predict(X), color = 'blue')\n",
    "plt.title('Truth or Bluff (Linear Regression)')\n",
    "plt.xlabel('Position Level')\n",
    "plt.ylabel('Salary')\n",
    "plt.show()"
   ]
  },
  {
   "cell_type": "markdown",
   "metadata": {},
   "source": [
    "## Visualising the Polynomial Regression results"
   ]
  },
  {
   "cell_type": "code",
   "execution_count": 34,
   "metadata": {
    "ExecuteTime": {
     "end_time": "2020-08-10T08:31:32.962509Z",
     "start_time": "2020-08-10T08:31:32.861047Z"
    }
   },
   "outputs": [
    {
     "data": {
      "image/png": "[encoded data removed]",
      "text/plain": [
       "<Figure size 432x288 with 1 Axes>"
      ]
     },
     "metadata": {
      "needs_background": "light"
     },
     "output_type": "display_data"
    }
   ],
   "source": [
    "plt.scatter(X, y, color = 'red')\n",
    "plt.plot(X, lin_reg_2.predict(poly_reg.fit_transform(X)), color = 'blue')\n",
    "plt.title('Truth or Bluff (Polynomial Regression)')\n",
    "plt.xlabel('Position level')\n",
    "plt.ylabel('Salary')\n",
    "plt.show()"
   ]
  },
  {
   "cell_type": "markdown",
   "metadata": {},
   "source": [
    "## Visualising the Polynomial Regression results (for higher resolution and smoother curve)"
   ]
  },
  {
   "cell_type": "code",
   "execution_count": 35,
   "metadata": {
    "ExecuteTime": {
     "end_time": "2020-08-10T08:31:48.685283Z",
     "start_time": "2020-08-10T08:31:48.609887Z"
    }
   },
   "outputs": [
    {
     "data": {
      "image/png": "[encoded data removed]",
      "text/plain": [
       "<Figure size 432x288 with 1 Axes>"
      ]
     },
     "metadata": {
      "needs_background": "light"
     },
     "output_type": "display_data"
    }
   ],
   "source": [
    "X_grid = np.arange(min(X), max(X), 0.1)\n",
    "X_grid = X_grid.reshape((len(X_grid), 1))\n",
    "plt.scatter(X, y, color = 'red')\n",
    "plt.plot(X_grid, lin_reg_2.predict(poly_reg.fit_transform(X_grid)), color = 'blue')\n",
    "plt.title('Truth or Bluff (Polynomial Regression)')\n",
    "plt.xlabel('Position level')\n",
    "plt.ylabel('Salary')\n",
    "plt.show()"
   ]
  },
  {
   "cell_type": "markdown",
   "metadata": {},
   "source": [
    "##  Predicting a new result with Linear Regression"
   ]
  },
  {
   "cell_type": "code",
   "execution_count": 36,
   "metadata": {
    "ExecuteTime": {
     "end_time": "2020-08-10T08:32:04.488705Z",
     "start_time": "2020-08-10T08:32:04.477398Z"
    }
   },
   "outputs": [
    {
     "data": {
      "text/plain": [
       "array([330378.78787879])"
      ]
     },
     "execution_count": 36,
     "metadata": {},
     "output_type": "execute_result"
    }
   ],
   "source": [
    "lin_reg.predict([[6.5]])"
   ]
  },
  {
   "cell_type": "markdown",
   "metadata": {},
   "source": [
    "## Predicting a new result with Polynomial Regression"
   ]
  },
  {
   "cell_type": "code",
   "execution_count": 37,
   "metadata": {
    "ExecuteTime": {
     "end_time": "2020-08-10T08:32:19.111069Z",
     "start_time": "2020-08-10T08:32:19.099100Z"
    }
   },
   "outputs": [
    {
     "data": {
      "text/plain": [
       "array([158862.45265153])"
      ]
     },
     "execution_count": 37,
     "metadata": {},
     "output_type": "execute_result"
    }
   ],
   "source": [
    "lin_reg_2.predict(poly_reg.fit_transform([[6.5]]))"
   ]
  },
  {
   "cell_type": "code",
   "execution_count": null,
   "metadata": {},
   "outputs": [],
   "source": []
  }
 ],
 "metadata": {
  "kernelspec": {
   "display_name": "Python 3",
   "language": "python",
   "name": "python3"
  },
  "language_info": {
   "codemirror_mode": {
    "name": "ipython",
    "version": 3
   },
   "file_extension": ".py",
   "mimetype": "text/x-python",
   "name": "python",
   "nbconvert_exporter": "python",
   "pygments_lexer": "ipython3",
   "version": "3.7.6"
  },
  "latex_envs": {
   "LaTeX_envs_menu_present": true,
   "autoclose": false,
   "autocomplete": true,
   "bibliofile": "biblio.bib",
   "cite_by": "apalike",
   "current_citInitial": 1,
   "eqLabelWithNumbers": true,
   "eqNumInitial": 1,
   "hotkeys": {
    "equation": "Ctrl-E",
    "itemize": "Ctrl-I"
   },
   "labels_anchors": false,
   "latex_user_defs": false,
   "report_style_numbering": false,
   "user_envs_cfg": false
  },
  "toc": {
   "base_numbering": 1,
   "nav_menu": {},
   "number_sections": true,
   "sideBar": true,
   "skip_h1_title": false,
   "title_cell": "Table of Contents",
   "title_sidebar": "Contents",
   "toc_cell": false,
   "toc_position": {},
   "toc_section_display": true,
   "toc_window_display": false
  },
  "varInspector": {
   "cols": {
    "lenName": 16,
    "lenType": 16,
    "lenVar": 40
   },
   "kernels_config": {
    "python": {
     "delete_cmd_postfix": "",
     "delete_cmd_prefix": "del ",
     "library": "var_list.py",
     "varRefreshCmd": "print(var_dic_list())"
    },
    "r": {
     "delete_cmd_postfix": ") ",
     "delete_cmd_prefix": "rm(",
     "library": "var_list.r",
     "varRefreshCmd": "cat(var_dic_list()) "
    }
   },
   "types_to_exclude": [
    "module",
    "function",
    "builtin_function_or_method",
    "instance",
    "_Feature"
   ],
   "window_display": false
  }
 },
 "nbformat": 4,
 "nbformat_minor": 1
}
